{
 "cells": [
  {
   "cell_type": "markdown",
   "id": "0bffd61b",
   "metadata": {},
   "source": [
    "# 심장질환 데이터 가져오기"
   ]
  },
  {
   "cell_type": "markdown",
   "id": "10739ef5",
   "metadata": {},
   "source": [
    "## 컬럼 내용 확인\n",
    "- ChestPainType  : 흉통 유형 [TA: 전형적인 협심증, ATA: 비정형 협심증, NAP: 비협심증, ASY: 무증상]\n",
    "- RestingBP      : 안정시 혈압 [mm Hg]\n",
    "- Cholesterol    : 혈청 콜레스테롤 [mm/dl]\n",
    "- FastingBS      : 공복 혈당 [1: 공복BS > 120mg/dl인 경우, 0: 그렇지 않은 경우]\n",
    "- RestingECG     : 안정시 심전도 결과 [정상: 정상, ST: ST-T파 이상(T파 역전 및/또는 ST 상승 또는 하강 > 0.05mV)\n",
    "- MaxHR          : 최대 심박수 [60에서 202 사이의 숫자 값]\n",
    "- ExerciseAngina : 운동 유발 협심증 [Y: 예, N: 아니오]\n",
    "- Oldpeak        : 우울 상태에서 측정한 수치\n",
    "- ST_Slope       : 피크운동\n",
    "- HeartDisease   : 심장병 발병 여부[1: 심장병, 0: 정상]"
   ]
  },
  {
   "cell_type": "code",
   "execution_count": 3,
   "id": "18ee1522",
   "metadata": {},
   "outputs": [],
   "source": [
    "heart<-read.csv('./Data/heart.csv')"
   ]
  },
  {
   "cell_type": "code",
   "execution_count": 4,
   "id": "92ee99c1",
   "metadata": {},
   "outputs": [
    {
     "name": "stdout",
     "output_type": "stream",
     "text": [
      "'data.frame':\t918 obs. of  12 variables:\n",
      " $ Age           : int  40 49 37 48 54 39 45 54 37 48 ...\n",
      " $ Sex           : Factor w/ 2 levels \"F\",\"M\": 2 1 2 1 2 2 1 2 2 1 ...\n",
      " $ ChestPainType : Factor w/ 4 levels \"ASY\",\"ATA\",\"NAP\",..: 2 3 2 1 3 3 2 2 1 2 ...\n",
      " $ RestingBP     : int  140 160 130 138 150 120 130 110 140 120 ...\n",
      " $ Cholesterol   : int  289 180 283 214 195 339 237 208 207 284 ...\n",
      " $ FastingBS     : int  0 0 0 0 0 0 0 0 0 0 ...\n",
      " $ RestingECG    : Factor w/ 3 levels \"LVH\",\"Normal\",..: 2 2 3 2 2 2 2 2 2 2 ...\n",
      " $ MaxHR         : int  172 156 98 108 122 170 170 142 130 120 ...\n",
      " $ ExerciseAngina: Factor w/ 2 levels \"N\",\"Y\": 1 1 1 2 1 1 1 1 2 1 ...\n",
      " $ Oldpeak       : num  0 1 0 1.5 0 0 0 0 1.5 0 ...\n",
      " $ ST_Slope      : Factor w/ 3 levels \"Down\",\"Flat\",..: 3 2 3 2 3 3 3 3 2 3 ...\n",
      " $ HeartDisease  : int  0 1 0 1 0 0 0 0 1 0 ...\n"
     ]
    }
   ],
   "source": [
    "#내부구조 확인\n",
    "str(heart)"
   ]
  },
  {
   "cell_type": "code",
   "execution_count": 6,
   "id": "3e88cfe7",
   "metadata": {},
   "outputs": [
    {
     "data": {
      "text/html": [
       "0"
      ],
      "text/latex": [
       "0"
      ],
      "text/markdown": [
       "0"
      ],
      "text/plain": [
       "[1] 0"
      ]
     },
     "metadata": {},
     "output_type": "display_data"
    }
   ],
   "source": [
    "# NA 확인\n",
    "sum(is.na(heart))"
   ]
  },
  {
   "cell_type": "code",
   "execution_count": 7,
   "id": "6a67a5f4",
   "metadata": {},
   "outputs": [
    {
     "name": "stderr",
     "output_type": "stream",
     "text": [
      "\n",
      "Attaching package: 'dplyr'\n",
      "\n",
      "The following objects are masked from 'package:stats':\n",
      "\n",
      "    filter, lag\n",
      "\n",
      "The following objects are masked from 'package:base':\n",
      "\n",
      "    intersect, setdiff, setequal, union\n",
      "\n"
     ]
    }
   ],
   "source": [
    "library(dplyr)\n",
    "library(plotrix)"
   ]
  },
  {
   "cell_type": "code",
   "execution_count": 8,
   "id": "c8886a9c",
   "metadata": {},
   "outputs": [
    {
     "data": {
      "text/html": [
       "508"
      ],
      "text/latex": [
       "508"
      ],
      "text/markdown": [
       "508"
      ],
      "text/plain": [
       "[1] 508"
      ]
     },
     "metadata": {},
     "output_type": "display_data"
    },
    {
     "data": {
      "text/html": [
       "410"
      ],
      "text/latex": [
       "410"
      ],
      "text/markdown": [
       "410"
      ],
      "text/plain": [
       "[1] 410"
      ]
     },
     "metadata": {},
     "output_type": "display_data"
    }
   ],
   "source": [
    "# Target Column(HeartDisease)으로 적합 여부 판단....\n",
    "nrow(subset(heart,HeartDisease=='1'))\n",
    "nrow(subset(heart,HeartDisease=='0'))"
   ]
  },
  {
   "cell_type": "code",
   "execution_count": 9,
   "id": "5d3045eb",
   "metadata": {},
   "outputs": [],
   "source": [
    "a<-as.matrix(c(round(508/918 * 100 , 2),round(410/918 * 100 ,2)))"
   ]
  },
  {
   "cell_type": "code",
   "execution_count": 10,
   "id": "fbcb3a59",
   "metadata": {},
   "outputs": [
    {
     "data": {
      "image/png": "[encoded data removed]",
      "text/plain": [
       "Plot with title \"심장병 사망율\""
      ]
     },
     "metadata": {},
     "output_type": "display_data"
    }
   ],
   "source": [
    "label<-paste(c('사망','생존'),'\\n',a[,1],'%')\n",
    "pie3D(a,\n",
    "   main = \"심장병 사망율\",\n",
    "    labels = label,\n",
    "    explode = 0.01,\n",
    "    labelcex = 1,\n",
    "    radius = 0.9\n",
    "   )"
   ]
  },
  {
   "cell_type": "markdown",
   "id": "a57450a3",
   "metadata": {},
   "source": [
    "# 성별 컬럼 분석"
   ]
  },
  {
   "cell_type": "code",
   "execution_count": 11,
   "id": "d0dd39cd",
   "metadata": {},
   "outputs": [
    {
     "data": {
      "text/html": [
       "193"
      ],
      "text/latex": [
       "193"
      ],
      "text/markdown": [
       "193"
      ],
      "text/plain": [
       "[1] 193"
      ]
     },
     "metadata": {},
     "output_type": "display_data"
    },
    {
     "data": {
      "text/html": [
       "725"
      ],
      "text/latex": [
       "725"
      ],
      "text/markdown": [
       "725"
      ],
      "text/plain": [
       "[1] 725"
      ]
     },
     "metadata": {},
     "output_type": "display_data"
    }
   ],
   "source": [
    "# 여성의 인원과 남성의 인원\n",
    "femaleCount<-nrow(subset(heart, Sex == 'F'))\n",
    "maleCount<-nrow(subset(heart, Sex == 'M'))\n",
    "femaleCount;maleCount"
   ]
  },
  {
   "cell_type": "code",
   "execution_count": 13,
   "id": "bd992eb6",
   "metadata": {},
   "outputs": [
    {
     "data": {
      "text/html": [
       "25.91"
      ],
      "text/latex": [
       "25.91"
      ],
      "text/markdown": [
       "25.91"
      ],
      "text/plain": [
       "[1] 25.91"
      ]
     },
     "metadata": {},
     "output_type": "display_data"
    },
    {
     "data": {
      "text/html": [
       "74.09"
      ],
      "text/latex": [
       "74.09"
      ],
      "text/markdown": [
       "74.09"
      ],
      "text/plain": [
       "[1] 74.09"
      ]
     },
     "metadata": {},
     "output_type": "display_data"
    },
    {
     "data": {
      "text/html": [
       "50"
      ],
      "text/latex": [
       "50"
      ],
      "text/markdown": [
       "50"
      ],
      "text/plain": [
       "[1] 50"
      ]
     },
     "metadata": {},
     "output_type": "display_data"
    },
    {
     "data": {
      "text/html": [
       "143"
      ],
      "text/latex": [
       "143"
      ],
      "text/markdown": [
       "143"
      ],
      "text/plain": [
       "[1] 143"
      ]
     },
     "metadata": {},
     "output_type": "display_data"
    }
   ],
   "source": [
    "# 여성의 생존과 사망 인원\n",
    "f<-subset(heart, Sex == 'F')\n",
    "femaleSick<-nrow(subset(f, HeartDisease == 1))\n",
    "femaleNormal<-nrow(subset(f, HeartDisease == 0))\n",
    "round(50/193*100,2)\n",
    "round(143/193*100,2)\n",
    "femaleSick;femaleNormal"
   ]
  },
  {
   "cell_type": "code",
   "execution_count": 14,
   "id": "af12b305",
   "metadata": {},
   "outputs": [
    {
     "data": {
      "text/html": [
       "63.17"
      ],
      "text/latex": [
       "63.17"
      ],
      "text/markdown": [
       "63.17"
      ],
      "text/plain": [
       "[1] 63.17"
      ]
     },
     "metadata": {},
     "output_type": "display_data"
    },
    {
     "data": {
      "text/html": [
       "36.83"
      ],
      "text/latex": [
       "36.83"
      ],
      "text/markdown": [
       "36.83"
      ],
      "text/plain": [
       "[1] 36.83"
      ]
     },
     "metadata": {},
     "output_type": "display_data"
    },
    {
     "data": {
      "text/html": [
       "458"
      ],
      "text/latex": [
       "458"
      ],
      "text/markdown": [
       "458"
      ],
      "text/plain": [
       "[1] 458"
      ]
     },
     "metadata": {},
     "output_type": "display_data"
    },
    {
     "data": {
      "text/html": [
       "267"
      ],
      "text/latex": [
       "267"
      ],
      "text/markdown": [
       "267"
      ],
      "text/plain": [
       "[1] 267"
      ]
     },
     "metadata": {},
     "output_type": "display_data"
    }
   ],
   "source": [
    "# 남성의 생존과 사망 인원\n",
    "m<-subset(heart, Sex == 'M')\n",
    "maleSick<-nrow(subset(m, HeartDisease == 1))\n",
    "maleNormal<-nrow(subset(m, HeartDisease == 0))\n",
    "round(458/725*100,2)\n",
    "round(267/725*100,2)\n",
    "maleSick;maleNormal"
   ]
  },
  {
   "cell_type": "code",
   "execution_count": 15,
   "id": "4a15c1ba",
   "metadata": {},
   "outputs": [
    {
     "data": {
      "image/png": "[encoded data removed]",
      "text/plain": [
       "Plot with title \"남성 심장병 발병율\""
      ]
     },
     "metadata": {},
     "output_type": "display_data"
    }
   ],
   "source": [
    "par(mfrow = c(1,2))\n",
    "label<-paste(c('발병','그렇지 않음'),'\\n',c(round(50/193*100,2),round(143/314*100,2)),'%')\n",
    "pie3D(c(round(50/193*100,2),round(143/314*100,2)),\n",
    "   main = \"여성 심장병 발병율\",\n",
    "    labels = label,\n",
    "    explode = 0.01,\n",
    "    labelcex = 0.9,\n",
    "    radius = 0.9\n",
    "   )\n",
    "\n",
    "label<-paste(c('발병','그렇지 않음'),'\\n',c(round(458/725*100,2),round(267/725*100,2)),'%')\n",
    "pie3D(c(round(458/725*100,2),round(267/725*100,2)),\n",
    "   main = \"남성 심장병 발병율\",\n",
    "    labels = label,\n",
    "    explode = 0.01,\n",
    "    labelcex = 0.9,\n",
    "    radius = 0.9\n",
    "   )"
   ]
  },
  {
   "cell_type": "code",
   "execution_count": 16,
   "id": "c0a458e2",
   "metadata": {},
   "outputs": [
    {
     "data": {
      "text/plain": [
       "   Min. 1st Qu.  Median    Mean 3rd Qu.    Max. \n",
       "    0.0   173.2   223.0   198.8   267.0   603.0 "
      ]
     },
     "metadata": {},
     "output_type": "display_data"
    },
    {
     "data": {
      "text/plain": [
       "   Min. 1st Qu.  Median    Mean 3rd Qu.    Max. \n",
       "  28.00   47.00   54.00   53.51   60.00   77.00 "
      ]
     },
     "metadata": {},
     "output_type": "display_data"
    }
   ],
   "source": [
    "summary(heart$Cholesterol)\n",
    "summary(heart$Age)"
   ]
  },
  {
   "cell_type": "code",
   "execution_count": 17,
   "id": "60bf3d46",
   "metadata": {},
   "outputs": [
    {
     "data": {
      "text/html": [
       "<table>\n",
       "<thead><tr><th scope=col>Age</th><th scope=col>Sex</th><th scope=col>ChestPainType</th><th scope=col>RestingBP</th><th scope=col>Cholesterol</th><th scope=col>FastingBS</th><th scope=col>RestingECG</th><th scope=col>MaxHR</th><th scope=col>ExerciseAngina</th><th scope=col>Oldpeak</th><th scope=col>ST_Slope</th><th scope=col>HeartDisease</th><th scope=col>SexCode</th></tr></thead>\n",
       "<tbody>\n",
       "\t<tr><td>40    </td><td>M     </td><td>ATA   </td><td>140   </td><td>289   </td><td>0     </td><td>Normal</td><td>172   </td><td>N     </td><td>0.0   </td><td>Up    </td><td>0     </td><td>1     </td></tr>\n",
       "\t<tr><td>49    </td><td>F     </td><td>NAP   </td><td>160   </td><td>180   </td><td>0     </td><td>Normal</td><td>156   </td><td>N     </td><td>1.0   </td><td>Flat  </td><td>1     </td><td>0     </td></tr>\n",
       "\t<tr><td>37    </td><td>M     </td><td>ATA   </td><td>130   </td><td>283   </td><td>0     </td><td>ST    </td><td> 98   </td><td>N     </td><td>0.0   </td><td>Up    </td><td>0     </td><td>1     </td></tr>\n",
       "\t<tr><td>48    </td><td>F     </td><td>ASY   </td><td>138   </td><td>214   </td><td>0     </td><td>Normal</td><td>108   </td><td>Y     </td><td>1.5   </td><td>Flat  </td><td>1     </td><td>0     </td></tr>\n",
       "\t<tr><td>54    </td><td>M     </td><td>NAP   </td><td>150   </td><td>195   </td><td>0     </td><td>Normal</td><td>122   </td><td>N     </td><td>0.0   </td><td>Up    </td><td>0     </td><td>1     </td></tr>\n",
       "\t<tr><td>39    </td><td>M     </td><td>NAP   </td><td>120   </td><td>339   </td><td>0     </td><td>Normal</td><td>170   </td><td>N     </td><td>0.0   </td><td>Up    </td><td>0     </td><td>1     </td></tr>\n",
       "</tbody>\n",
       "</table>\n"
      ],
      "text/latex": [
       "\\begin{tabular}{r|lllllllllllll}\n",
       " Age & Sex & ChestPainType & RestingBP & Cholesterol & FastingBS & RestingECG & MaxHR & ExerciseAngina & Oldpeak & ST\\_Slope & HeartDisease & SexCode\\\\\n",
       "\\hline\n",
       "\t 40     & M      & ATA    & 140    & 289    & 0      & Normal & 172    & N      & 0.0    & Up     & 0      & 1     \\\\\n",
       "\t 49     & F      & NAP    & 160    & 180    & 0      & Normal & 156    & N      & 1.0    & Flat   & 1      & 0     \\\\\n",
       "\t 37     & M      & ATA    & 130    & 283    & 0      & ST     &  98    & N      & 0.0    & Up     & 0      & 1     \\\\\n",
       "\t 48     & F      & ASY    & 138    & 214    & 0      & Normal & 108    & Y      & 1.5    & Flat   & 1      & 0     \\\\\n",
       "\t 54     & M      & NAP    & 150    & 195    & 0      & Normal & 122    & N      & 0.0    & Up     & 0      & 1     \\\\\n",
       "\t 39     & M      & NAP    & 120    & 339    & 0      & Normal & 170    & N      & 0.0    & Up     & 0      & 1     \\\\\n",
       "\\end{tabular}\n"
      ],
      "text/markdown": [
       "\n",
       "| Age | Sex | ChestPainType | RestingBP | Cholesterol | FastingBS | RestingECG | MaxHR | ExerciseAngina | Oldpeak | ST_Slope | HeartDisease | SexCode |\n",
       "|---|---|---|---|---|---|---|---|---|---|---|---|---|\n",
       "| 40     | M      | ATA    | 140    | 289    | 0      | Normal | 172    | N      | 0.0    | Up     | 0      | 1      |\n",
       "| 49     | F      | NAP    | 160    | 180    | 0      | Normal | 156    | N      | 1.0    | Flat   | 1      | 0      |\n",
       "| 37     | M      | ATA    | 130    | 283    | 0      | ST     |  98    | N      | 0.0    | Up     | 0      | 1      |\n",
       "| 48     | F      | ASY    | 138    | 214    | 0      | Normal | 108    | Y      | 1.5    | Flat   | 1      | 0      |\n",
       "| 54     | M      | NAP    | 150    | 195    | 0      | Normal | 122    | N      | 0.0    | Up     | 0      | 1      |\n",
       "| 39     | M      | NAP    | 120    | 339    | 0      | Normal | 170    | N      | 0.0    | Up     | 0      | 1      |\n",
       "\n"
      ],
      "text/plain": [
       "  Age Sex ChestPainType RestingBP Cholesterol FastingBS RestingECG MaxHR\n",
       "1 40  M   ATA           140       289         0         Normal     172  \n",
       "2 49  F   NAP           160       180         0         Normal     156  \n",
       "3 37  M   ATA           130       283         0         ST          98  \n",
       "4 48  F   ASY           138       214         0         Normal     108  \n",
       "5 54  M   NAP           150       195         0         Normal     122  \n",
       "6 39  M   NAP           120       339         0         Normal     170  \n",
       "  ExerciseAngina Oldpeak ST_Slope HeartDisease SexCode\n",
       "1 N              0.0     Up       0            1      \n",
       "2 N              1.0     Flat     1            0      \n",
       "3 N              0.0     Up       0            1      \n",
       "4 Y              1.5     Flat     1            0      \n",
       "5 N              0.0     Up       0            1      \n",
       "6 N              0.0     Up       0            1      "
      ]
     },
     "metadata": {},
     "output_type": "display_data"
    }
   ],
   "source": [
    "# 성별을 숫자로 전환\n",
    "heart$SexCode[heart$Sex == 'M'] <- 1\n",
    "heart$SexCode[heart$Sex == 'F'] <- 0\n",
    "head(heart)"
   ]
  },
  {
   "cell_type": "code",
   "execution_count": 18,
   "id": "8cf6c959",
   "metadata": {},
   "outputs": [],
   "source": [
    "target_col = c('HeartDisease','SexCode','Age','Cholesterol','ChestPainType','RestingBP','FastingBS','MaxHR')\n",
    "heart_A<-heart[target_col]"
   ]
  },
  {
   "cell_type": "code",
   "execution_count": 19,
   "id": "4b763b9b",
   "metadata": {},
   "outputs": [
    {
     "data": {
      "text/html": [
       "<table>\n",
       "<thead><tr><th scope=col>HeartDisease</th><th scope=col>SexCode</th><th scope=col>Age</th><th scope=col>Cholesterol</th><th scope=col>ChestPainType</th><th scope=col>RestingBP</th><th scope=col>FastingBS</th><th scope=col>MaxHR</th></tr></thead>\n",
       "<tbody>\n",
       "\t<tr><td>0  </td><td>1  </td><td>40 </td><td>289</td><td>ATA</td><td>140</td><td>0  </td><td>172</td></tr>\n",
       "\t<tr><td>1  </td><td>0  </td><td>49 </td><td>180</td><td>NAP</td><td>160</td><td>0  </td><td>156</td></tr>\n",
       "\t<tr><td>0  </td><td>1  </td><td>37 </td><td>283</td><td>ATA</td><td>130</td><td>0  </td><td> 98</td></tr>\n",
       "\t<tr><td>1  </td><td>0  </td><td>48 </td><td>214</td><td>ASY</td><td>138</td><td>0  </td><td>108</td></tr>\n",
       "\t<tr><td>0  </td><td>1  </td><td>54 </td><td>195</td><td>NAP</td><td>150</td><td>0  </td><td>122</td></tr>\n",
       "\t<tr><td>0  </td><td>1  </td><td>39 </td><td>339</td><td>NAP</td><td>120</td><td>0  </td><td>170</td></tr>\n",
       "</tbody>\n",
       "</table>\n"
      ],
      "text/latex": [
       "\\begin{tabular}{r|llllllll}\n",
       " HeartDisease & SexCode & Age & Cholesterol & ChestPainType & RestingBP & FastingBS & MaxHR\\\\\n",
       "\\hline\n",
       "\t 0   & 1   & 40  & 289 & ATA & 140 & 0   & 172\\\\\n",
       "\t 1   & 0   & 49  & 180 & NAP & 160 & 0   & 156\\\\\n",
       "\t 0   & 1   & 37  & 283 & ATA & 130 & 0   &  98\\\\\n",
       "\t 1   & 0   & 48  & 214 & ASY & 138 & 0   & 108\\\\\n",
       "\t 0   & 1   & 54  & 195 & NAP & 150 & 0   & 122\\\\\n",
       "\t 0   & 1   & 39  & 339 & NAP & 120 & 0   & 170\\\\\n",
       "\\end{tabular}\n"
      ],
      "text/markdown": [
       "\n",
       "| HeartDisease | SexCode | Age | Cholesterol | ChestPainType | RestingBP | FastingBS | MaxHR |\n",
       "|---|---|---|---|---|---|---|---|\n",
       "| 0   | 1   | 40  | 289 | ATA | 140 | 0   | 172 |\n",
       "| 1   | 0   | 49  | 180 | NAP | 160 | 0   | 156 |\n",
       "| 0   | 1   | 37  | 283 | ATA | 130 | 0   |  98 |\n",
       "| 1   | 0   | 48  | 214 | ASY | 138 | 0   | 108 |\n",
       "| 0   | 1   | 54  | 195 | NAP | 150 | 0   | 122 |\n",
       "| 0   | 1   | 39  | 339 | NAP | 120 | 0   | 170 |\n",
       "\n"
      ],
      "text/plain": [
       "  HeartDisease SexCode Age Cholesterol ChestPainType RestingBP FastingBS MaxHR\n",
       "1 0            1       40  289         ATA           140       0         172  \n",
       "2 1            0       49  180         NAP           160       0         156  \n",
       "3 0            1       37  283         ATA           130       0          98  \n",
       "4 1            0       48  214         ASY           138       0         108  \n",
       "5 0            1       54  195         NAP           150       0         122  \n",
       "6 0            1       39  339         NAP           120       0         170  "
      ]
     },
     "metadata": {},
     "output_type": "display_data"
    },
    {
     "name": "stdout",
     "output_type": "stream",
     "text": [
      "'data.frame':\t918 obs. of  8 variables:\n",
      " $ HeartDisease : Factor w/ 2 levels \"0\",\"1\": 1 2 1 2 1 1 1 1 2 1 ...\n",
      " $ SexCode      : num  1 0 1 0 1 1 0 1 1 0 ...\n",
      " $ Age          : int  40 49 37 48 54 39 45 54 37 48 ...\n",
      " $ Cholesterol  : int  289 180 283 214 195 339 237 208 207 284 ...\n",
      " $ ChestPainType: Factor w/ 4 levels \"ASY\",\"ATA\",\"NAP\",..: 2 3 2 1 3 3 2 2 1 2 ...\n",
      " $ RestingBP    : int  140 160 130 138 150 120 130 110 140 120 ...\n",
      " $ FastingBS    : int  0 0 0 0 0 0 0 0 0 0 ...\n",
      " $ MaxHR        : int  172 156 98 108 122 170 170 142 130 120 ...\n"
     ]
    }
   ],
   "source": [
    "head(heart_A)\n",
    "heart_A$HeartDisease<-as.factor(heart_A$HeartDisease)\n",
    "str(heart_A)"
   ]
  },
  {
   "cell_type": "code",
   "execution_count": 20,
   "id": "ac9fd3dd",
   "metadata": {},
   "outputs": [
    {
     "name": "stderr",
     "output_type": "stream",
     "text": [
      "Loading required package: lattice\n",
      "Loading required package: ggplot2\n",
      "Registered S3 methods overwritten by 'ggplot2':\n",
      "  method         from \n",
      "  [.quosures     rlang\n",
      "  c.quosures     rlang\n",
      "  print.quosures rlang\n",
      "Warning message:\n",
      "\"package 'party' was built under R version 3.6.3\"Loading required package: grid\n",
      "Loading required package: mvtnorm\n",
      "Warning message:\n",
      "\"package 'mvtnorm' was built under R version 3.6.3\"Loading required package: modeltools\n",
      "Warning message:\n",
      "\"package 'modeltools' was built under R version 3.6.3\"Loading required package: stats4\n",
      "Loading required package: strucchange\n",
      "Warning message:\n",
      "\"package 'strucchange' was built under R version 3.6.3\"Loading required package: zoo\n",
      "\n",
      "Attaching package: 'zoo'\n",
      "\n",
      "The following objects are masked from 'package:base':\n",
      "\n",
      "    as.Date, as.Date.numeric\n",
      "\n",
      "Loading required package: sandwich\n",
      "Warning message:\n",
      "\"package 'e1071' was built under R version 3.6.3\"randomForest 4.6-14\n",
      "Type rfNews() to see new features/changes/bug fixes.\n",
      "\n",
      "Attaching package: 'randomForest'\n",
      "\n",
      "The following object is masked from 'package:ggplot2':\n",
      "\n",
      "    margin\n",
      "\n",
      "The following object is masked from 'package:dplyr':\n",
      "\n",
      "    combine\n",
      "\n"
     ]
    }
   ],
   "source": [
    "# 5개 함수 합치기\n",
    "    library(caret)\n",
    "    library(party)\n",
    "    library(nnet)\n",
    "    library(e1071)\n",
    "    library(randomForest)\n",
    "\n",
    "EXAM <- function(n){\n",
    "    result1<-c()\n",
    "    result2<-c()\n",
    "    result3<-c()\n",
    "    result4<-c()\n",
    "    result5<-c()\n",
    "    \n",
    "    for(n in 1:n) { \n",
    "    set.seed(1234)\n",
    "    samp<-createDataPartition(heart_A$HeartDisease, p = 0.7, list = F)\n",
    "    # 학습용\n",
    "    train.data <- heart_A[samp,]\n",
    "    # 검증용\n",
    "    test.data <- heart_A[-samp,]\n",
    "    # 문제와 정답 만들기\n",
    "    x <- subset(test.data, select = -HeartDisease)\n",
    "    y <- test.data$HeartDisease\n",
    "    # 인공신경망 학습시키기\n",
    "    model<-nnet(HeartDisease~., data = train.data, size = 3)\n",
    "    # 의사결정나무 학습시키기\n",
    "    model1 <- ctree(HeartDisease ~ ., data = train.data)\n",
    "    # randomForest 학습시키기\n",
    "    rf<-randomForest(HeartDisease~., data = train.data, ntree = 100)\n",
    "    # svm 학습시키기\n",
    "    model2<-svm(HeartDisease~., data = train.data)\n",
    "    # 로지스틱 회귀분석 학습시키기\n",
    "    model3 <- multinom(HeartDisease ~ ., data=train.data)\n",
    "    \n",
    "    # 검증하기\n",
    "    pred1<-predict(model, x, type = 'raw')\n",
    "    pred2<-predict(model1, x)\n",
    "    pred3<-predict(rf, x)\n",
    "    pred4<-predict(model2, x)\n",
    "    pred5<-predict(model3, x)\n",
    "    \n",
    "    result1<-c(result1,mean(pred1 == y))\n",
    "    result2<-c(result2,mean(pred2 == y))\n",
    "    result3<-c(result3,mean(pred3 == y))\n",
    "    result4<-c(result4,mean(pred4 == y))\n",
    "    result5<-c(result5,mean(pred5 == y))\n",
    "   }\n",
    "    cat('-----------------\\n')  \n",
    "    cat('인공신경망 예측율\\n')\n",
    "    for(a in result1){\n",
    "        cat(a,'')\n",
    "    }\n",
    "    cat('       평균 예측율',mean(result1),'\\n')\n",
    "    cat('\\n-----------------\\n')\n",
    "    cat('의사결정나무 예측율\\n')\n",
    "    for(b in result2){\n",
    "        cat(b,'')\n",
    "    }    \n",
    "    cat('     평균 예측율',mean(result2),'\\n')\n",
    "    cat('\\n-----------------\\n')\n",
    "    cat('randomForest 예측율\\n')\n",
    "    for(c in result3){\n",
    "        cat(c,'')\n",
    "    }    \n",
    "    cat('     평균 예측율',mean(result3),'\\n')\n",
    "    cat('\\n-----------------\\n')\n",
    "    \n",
    "    cat('SVM 예측율\\n')\n",
    "    for(d in result4){\n",
    "        cat(d,'')\n",
    "    }    \n",
    "    cat('     평균 예측율',mean(result4),'\\n')\n",
    "    cat('\\n-----------------\\n')\n",
    "    cat('로지스틱 회귀분석 예측율\\n')\n",
    "    for(e in result5){\n",
    "        cat(e,'')\n",
    "    }    \n",
    "    cat('     평균 예측율',mean(result5),'\\n')\n",
    "    cat('\\n-----------------\\n')\n",
    "    \n",
    "    }"
   ]
  },
  {
   "cell_type": "code",
   "execution_count": 21,
   "id": "f52cd881",
   "metadata": {},
   "outputs": [
    {
     "name": "stdout",
     "output_type": "stream",
     "text": [
      "# weights:  34\n",
      "initial  value 461.170894 \n",
      "iter  10 value 397.770352\n",
      "iter  20 value 334.229329\n",
      "iter  30 value 304.858668\n",
      "iter  40 value 295.273121\n",
      "iter  50 value 279.537587\n",
      "iter  60 value 277.686983\n",
      "iter  70 value 277.331926\n",
      "iter  80 value 277.150851\n",
      "iter  90 value 277.052992\n",
      "iter 100 value 277.011702\n",
      "final  value 277.011702 \n",
      "stopped after 100 iterations\n",
      "# weights:  11 (10 variable)\n",
      "initial  value 445.693637 \n",
      "iter  10 value 277.722913\n",
      "final  value 276.903814 \n",
      "converged\n",
      "# weights:  34\n",
      "initial  value 461.170894 \n",
      "iter  10 value 397.770352\n",
      "iter  20 value 334.229329\n",
      "iter  30 value 304.858668\n",
      "iter  40 value 295.273121\n",
      "iter  50 value 279.537587\n",
      "iter  60 value 277.686983\n",
      "iter  70 value 277.331926\n",
      "iter  80 value 277.150851\n",
      "iter  90 value 277.052992\n",
      "iter 100 value 277.011702\n",
      "final  value 277.011702 \n",
      "stopped after 100 iterations\n",
      "# weights:  11 (10 variable)\n",
      "initial  value 445.693637 \n",
      "iter  10 value 277.722913\n",
      "final  value 276.903814 \n",
      "converged\n",
      "# weights:  34\n",
      "initial  value 461.170894 \n",
      "iter  10 value 397.770352\n",
      "iter  20 value 334.229329\n",
      "iter  30 value 304.858668\n",
      "iter  40 value 295.273121\n",
      "iter  50 value 279.537587\n",
      "iter  60 value 277.686983\n",
      "iter  70 value 277.331926\n",
      "iter  80 value 277.150851\n",
      "iter  90 value 277.052992\n",
      "iter 100 value 277.011702\n",
      "final  value 277.011702 \n",
      "stopped after 100 iterations\n",
      "# weights:  11 (10 variable)\n",
      "initial  value 445.693637 \n",
      "iter  10 value 277.722913\n",
      "final  value 276.903814 \n",
      "converged\n",
      "# weights:  34\n",
      "initial  value 461.170894 \n",
      "iter  10 value 397.770352\n",
      "iter  20 value 334.229329\n",
      "iter  30 value 304.858668\n",
      "iter  40 value 295.273121\n",
      "iter  50 value 279.537587\n",
      "iter  60 value 277.686983\n",
      "iter  70 value 277.331926\n",
      "iter  80 value 277.150851\n",
      "iter  90 value 277.052992\n",
      "iter 100 value 277.011702\n",
      "final  value 277.011702 \n",
      "stopped after 100 iterations\n",
      "# weights:  11 (10 variable)\n",
      "initial  value 445.693637 \n",
      "iter  10 value 277.722913\n",
      "final  value 276.903814 \n",
      "converged\n",
      "# weights:  34\n",
      "initial  value 461.170894 \n",
      "iter  10 value 397.770352\n",
      "iter  20 value 334.229329\n",
      "iter  30 value 304.858668\n",
      "iter  40 value 295.273121\n",
      "iter  50 value 279.537587\n",
      "iter  60 value 277.686983\n",
      "iter  70 value 277.331926\n",
      "iter  80 value 277.150851\n",
      "iter  90 value 277.052992\n",
      "iter 100 value 277.011702\n",
      "final  value 277.011702 \n",
      "stopped after 100 iterations\n",
      "# weights:  11 (10 variable)\n",
      "initial  value 445.693637 \n",
      "iter  10 value 277.722913\n",
      "final  value 276.903814 \n",
      "converged\n",
      "-----------------\n",
      "인공신경망 예측율\n",
      "0 0 0 0 0        평균 예측율 0 \n",
      "\n",
      "-----------------\n",
      "의사결정나무 예측율\n",
      "0.7490909 0.7490909 0.7490909 0.7490909 0.7490909      평균 예측율 0.7490909 \n",
      "\n",
      "-----------------\n",
      "randomForest 예측율\n",
      "0.7709091 0.7709091 0.7709091 0.7709091 0.7709091      평균 예측율 0.7709091 \n",
      "\n",
      "-----------------\n",
      "SVM 예측율\n",
      "0.7745455 0.7745455 0.7745455 0.7745455 0.7745455      평균 예측율 0.7745455 \n",
      "\n",
      "-----------------\n",
      "로지스틱 회귀분석 예측율\n",
      "0.7818182 0.7818182 0.7818182 0.7818182 0.7818182      평균 예측율 0.7818182 \n",
      "\n",
      "-----------------\n"
     ]
    }
   ],
   "source": [
    "EXAM(5)"
   ]
  },
  {
   "cell_type": "markdown",
   "id": "b7f2538f",
   "metadata": {},
   "source": [
    "- 'SexCode','Age','Cholesterol','ChestPainType','RestingBP','FastingBS','MaxHR'으로 feature 컬럼을 지정하고  머신러닝으로 확인결과   \n",
    "- <h3>RandomForest(77%), Decision Tree(74%), SVM(77%) Logistic regression(77%)로 나타났다.</h3>   \n",
    "\n",
    "- <h3>전문적인 진료 후 도출되는 결과 값이 정확하겠지만 앱을 사용하는 모든 이들에게 적용하기에는 불편함이 있다.</h3>\n",
    "- <h3>'Cholesterol','RestingBP','FastingBS' 등의 컬럼을 대체할 새로운 데이터로 심장병을 예측해보자.</h3>"
   ]
  },
  {
   "cell_type": "markdown",
   "id": "07b0cc3b",
   "metadata": {},
   "source": [
    "# 심장질환 설문조사 데이터 가져오기\n",
    "- 행동 위험 요소 감시 시스템(BRFSS)은 CDC에서 매년 수집하는 건강 관련 전화 설문조사입니다. 매년 이 설문조사는 건강 관련 위험 행동, 만성 건강 상태 및 예방 서비스 사용에 대한 <h4>400,000명 이상의 미국인으로부터 응답을 수집합니다.</h4>\n"
   ]
  },
  {
   "cell_type": "markdown",
   "id": "a7d005fd",
   "metadata": {},
   "source": [
    "## 속성들의 특징 \n",
    " - HeartDiseorAttack: 관상 동맥 심장 질환(CHD) 또는 심근 경색증(MI)이 있다고 보고한 적이 있는 응답자(0,1)\n",
    " - HighChol: 의사, 간호사 또는 기타 의료 전문가로부터 고혈압이 있다고 말한 성인(0,1)\n",
    " - CholCheck : 의사, 간호사 또는 기타 건강 전문가로부터 혈중 콜레스테롤이 높다는 말을 들은 적이 있습니까?\n",
    " - CholCheck: 최근 5년 이내 콜레스테롤 검사\n",
    " - BMI: 체질량 지수(BMI)\n",
    " - Smoker: 당신은 일생 동안 적어도 100개비의 담배를 피웠습니까? [참고: 5갑 = 100개비]\n",
    " - Stroke: (말한 적 있음) 뇌졸중에 걸렸다.\n",
    " - Diabetes: 0은 당뇨병 없음, 1은 당뇨병 전단계, 2는 당뇨병\n",
    " - PhysActivity: 지난 30일 동안 정규직 이외의 신체활동이나 운동을 했다고 신고한 성인\n",
    " - Fruits: 하루 1회 이상 과일 섭취\n",
    " - Veggies: 하루 1회 이상 야채 섭취\n",
    " - HvyAlcoholConsump: 과음자(성인 남성은 주당 14잔 이상, 성인 여성은 주당 7잔 이상)\n",
    " - AnyHealthcare: 건강 보험, HMO와 같은 선불 플랜 또는 Medicare와 같은 정부 플랜 또는 인디언 건강 서비스를 포함한 모든 종류의 건강 관리 보장이 있습니까?\n",
    " - NoDocbcCost: 지난 12개월 동안 의사의 진찰이 필요했지만 비용 때문에 갈 수 없었던 적이 있습니까?\n",
    " - GenHlth: 일반적으로 귀하의 건강 상태는 다음과 같습니다.(1~5)\n",
    " - MentHlth: 이제 스트레스, 우울증, 감정 문제 등을 포함한 정신 건강을 생각해보면, 지난 30일 동안 정신 건강이 좋지 않았던 날은 며칠입니까?(0~30)\n",
    " - PhysHlth: 이제 귀하의 신체적 질병과 부상을 포함한 신체적 건강을 생각해보면, 지난 30일 동안 귀하의 건강이 좋지 않았던 날은 며칠입니까?(0~30)\n",
    " - DiffWalk: 걷거나 계단을 오르는데 심각한 어려움이 있습니까?\n",
    " - Sex: 응답자의 성별을 표시하십시오.\n",
    " - Age: 14레벨 연령 범주(1~13)\n",
    " - Education: 귀하가 졸업한 학교의 최고 학년 또는 연도는 무엇입니까?\n",
    " - Income: 모든 출처의 연간 가구 소득: (응답자가 소득 수준에서 거부하는 경우 \"거부됨\"으로 코드하십시오.)\n"
   ]
  },
  {
   "cell_type": "code",
   "execution_count": 22,
   "id": "b3cee44c",
   "metadata": {},
   "outputs": [],
   "source": [
    "# 심장 질환 설문조사 데이터 \n",
    "heart<-read.csv('./Data/heart_disease_health_indicators_BRFSS2015.csv')"
   ]
  },
  {
   "cell_type": "code",
   "execution_count": 25,
   "id": "c858d8a6",
   "metadata": {},
   "outputs": [],
   "source": [
    "# Target 컬럼 정렬\n",
    "heart<-arrange(heart, HeartDiseaseorAttack)"
   ]
  },
  {
   "cell_type": "code",
   "execution_count": 26,
   "id": "a9e45472",
   "metadata": {},
   "outputs": [],
   "source": [
    "# HeartDiseaseorAttack factor 변환 (Target 변수)\n",
    "heart$HeartDiseaseorAttack <- as.factor(heart$HeartDiseaseorAttack)"
   ]
  },
  {
   "cell_type": "code",
   "execution_count": 27,
   "id": "7fbe8817",
   "metadata": {},
   "outputs": [],
   "source": [
    "# 데이터 샘플링 작업\n",
    "set.seed(1234)# 반복값이 고정 \n",
    "samp_1 <- sample(1:229787,5000)\n",
    "samp_2 <- sample(229788:253680,5000)"
   ]
  },
  {
   "cell_type": "code",
   "execution_count": 28,
   "id": "fd723b38",
   "metadata": {},
   "outputs": [
    {
     "data": {
      "text/html": [
       "5000"
      ],
      "text/latex": [
       "5000"
      ],
      "text/markdown": [
       "5000"
      ],
      "text/plain": [
       "[1] 5000"
      ]
     },
     "metadata": {},
     "output_type": "display_data"
    },
    {
     "data": {
      "text/html": [
       "5000"
      ],
      "text/latex": [
       "5000"
      ],
      "text/markdown": [
       "5000"
      ],
      "text/plain": [
       "[1] 5000"
      ]
     },
     "metadata": {},
     "output_type": "display_data"
    }
   ],
   "source": [
    "# 샘플링 한 데이터 저장 \n",
    "heart_samp1<-heart[samp_1,]\n",
    "heart_samp2<-heart[samp_2,]\n",
    "heart_samp<-rbind(heart_samp1, heart_samp2)\n",
    "nrow(subset(heart_samp, heart_samp$HeartDiseaseorAttack == 0))\n",
    "nrow(subset(heart_samp, heart_samp$HeartDiseaseorAttack == 1))"
   ]
  },
  {
   "cell_type": "code",
   "execution_count": 29,
   "id": "c34a9c9b",
   "metadata": {},
   "outputs": [
    {
     "name": "stdout",
     "output_type": "stream",
     "text": [
      "HighBP : 0.37 \n",
      "HighChol : 0.31 \n",
      "CholCheck : 0.08 \n",
      "BMI : 0.08 \n",
      "Smoker : 0.19 \n",
      "Stroke : 0.24 \n",
      "Diabetes : 0.25 \n",
      "PhysActivity : -0.15 \n",
      "Fruits : -0.05 \n",
      "Veggies : -0.06 \n",
      "HvyAlcoholConsump : -0.05 \n",
      "AnyHealthcare : 0.04 \n",
      "NoDocbcCost : 0.06 \n",
      "GenHlth : 0.41 \n",
      "MentHlth : 0.1 \n",
      "PhysHlth : 0.25 \n",
      "DiffWalk : 0.3 \n",
      "Sex : 0.15 \n",
      "Age : 0.4 \n",
      "Education : -0.16 \n",
      "Income : -0.23 \n"
     ]
    }
   ],
   "source": [
    "# 상관계수 구하기 \n",
    "heart_samp$HeartDiseaseorAttack <- as.numeric(as.character(heart_samp$HeartDiseaseorAttack))\n",
    "result <- c()\n",
    "aa<-c()\n",
    "bb<-c()\n",
    "for(i in 2:ncol(heart_samp)){\n",
    "    result[i]<-round(cor(heart_samp$HeartDiseaseorAttack, heart_samp[,i]),2)\n",
    "    cat(colnames(heart_samp[i]),':',result[i],'\\n')\n",
    "    aa <- append(aa, colnames(heart_samp[i]))\n",
    "    bb <- append(bb, result[i])\n",
    "}\n",
    "\n",
    "cc<-cbind(aa,bb)\n",
    "cc<-as.data.frame(cc)"
   ]
  },
  {
   "cell_type": "code",
   "execution_count": 33,
   "id": "94cd7719",
   "metadata": {},
   "outputs": [],
   "source": [
    "# 상관계수 열 이름 정하기 \n",
    "colnames(cc) <- c('심장질환속성', '상관계수')"
   ]
  },
  {
   "cell_type": "code",
   "execution_count": 34,
   "id": "42196393",
   "metadata": {},
   "outputs": [],
   "source": [
    "library(dplyr)"
   ]
  },
  {
   "cell_type": "code",
   "execution_count": 35,
   "id": "486910a8",
   "metadata": {},
   "outputs": [
    {
     "data": {
      "text/html": [
       "22"
      ],
      "text/latex": [
       "22"
      ],
      "text/markdown": [
       "22"
      ],
      "text/plain": [
       "[1] 22"
      ]
     },
     "metadata": {},
     "output_type": "display_data"
    },
    {
     "data": {
      "text/html": [
       "<table>\n",
       "<thead><tr><th scope=col>심장질환속성</th><th scope=col>상관계수</th></tr></thead>\n",
       "<tbody>\n",
       "\t<tr><td>GenHlth          </td><td>0.41             </td></tr>\n",
       "\t<tr><td>Age              </td><td>0.4              </td></tr>\n",
       "\t<tr><td>HighBP           </td><td>0.37             </td></tr>\n",
       "\t<tr><td>HighChol         </td><td>0.31             </td></tr>\n",
       "\t<tr><td>DiffWalk         </td><td>0.3              </td></tr>\n",
       "\t<tr><td>Diabetes         </td><td>0.25             </td></tr>\n",
       "\t<tr><td>PhysHlth         </td><td>0.25             </td></tr>\n",
       "\t<tr><td>Stroke           </td><td>0.24             </td></tr>\n",
       "\t<tr><td>Smoker           </td><td>0.19             </td></tr>\n",
       "\t<tr><td>Sex              </td><td>0.15             </td></tr>\n",
       "\t<tr><td>MentHlth         </td><td>0.1              </td></tr>\n",
       "\t<tr><td>CholCheck        </td><td>0.08             </td></tr>\n",
       "\t<tr><td>BMI              </td><td>0.08             </td></tr>\n",
       "\t<tr><td>NoDocbcCost      </td><td>0.06             </td></tr>\n",
       "\t<tr><td>AnyHealthcare    </td><td>0.04             </td></tr>\n",
       "\t<tr><td>Income           </td><td>-0.23            </td></tr>\n",
       "\t<tr><td>Education        </td><td>-0.16            </td></tr>\n",
       "\t<tr><td>PhysActivity     </td><td>-0.15            </td></tr>\n",
       "\t<tr><td>Veggies          </td><td>-0.06            </td></tr>\n",
       "\t<tr><td>Fruits           </td><td>-0.05            </td></tr>\n",
       "\t<tr><td>HvyAlcoholConsump</td><td>-0.05            </td></tr>\n",
       "</tbody>\n",
       "</table>\n"
      ],
      "text/latex": [
       "\\begin{tabular}{r|ll}\n",
       " 심장질환속성 & 상관계수\\\\\n",
       "\\hline\n",
       "\t GenHlth           & 0.41             \\\\\n",
       "\t Age               & 0.4              \\\\\n",
       "\t HighBP            & 0.37             \\\\\n",
       "\t HighChol          & 0.31             \\\\\n",
       "\t DiffWalk          & 0.3              \\\\\n",
       "\t Diabetes          & 0.25             \\\\\n",
       "\t PhysHlth          & 0.25             \\\\\n",
       "\t Stroke            & 0.24             \\\\\n",
       "\t Smoker            & 0.19             \\\\\n",
       "\t Sex               & 0.15             \\\\\n",
       "\t MentHlth          & 0.1              \\\\\n",
       "\t CholCheck         & 0.08             \\\\\n",
       "\t BMI               & 0.08             \\\\\n",
       "\t NoDocbcCost       & 0.06             \\\\\n",
       "\t AnyHealthcare     & 0.04             \\\\\n",
       "\t Income            & -0.23            \\\\\n",
       "\t Education         & -0.16            \\\\\n",
       "\t PhysActivity      & -0.15            \\\\\n",
       "\t Veggies           & -0.06            \\\\\n",
       "\t Fruits            & -0.05            \\\\\n",
       "\t HvyAlcoholConsump & -0.05            \\\\\n",
       "\\end{tabular}\n"
      ],
      "text/markdown": [
       "\n",
       "| 심장질환속성 | 상관계수 |\n",
       "|---|---|\n",
       "| GenHlth           | 0.41              |\n",
       "| Age               | 0.4               |\n",
       "| HighBP            | 0.37              |\n",
       "| HighChol          | 0.31              |\n",
       "| DiffWalk          | 0.3               |\n",
       "| Diabetes          | 0.25              |\n",
       "| PhysHlth          | 0.25              |\n",
       "| Stroke            | 0.24              |\n",
       "| Smoker            | 0.19              |\n",
       "| Sex               | 0.15              |\n",
       "| MentHlth          | 0.1               |\n",
       "| CholCheck         | 0.08              |\n",
       "| BMI               | 0.08              |\n",
       "| NoDocbcCost       | 0.06              |\n",
       "| AnyHealthcare     | 0.04              |\n",
       "| Income            | -0.23             |\n",
       "| Education         | -0.16             |\n",
       "| PhysActivity      | -0.15             |\n",
       "| Veggies           | -0.06             |\n",
       "| Fruits            | -0.05             |\n",
       "| HvyAlcoholConsump | -0.05             |\n",
       "\n"
      ],
      "text/plain": [
       "   심장질환속성      상관계수\n",
       "1  GenHlth           0.41    \n",
       "2  Age               0.4     \n",
       "3  HighBP            0.37    \n",
       "4  HighChol          0.31    \n",
       "5  DiffWalk          0.3     \n",
       "6  Diabetes          0.25    \n",
       "7  PhysHlth          0.25    \n",
       "8  Stroke            0.24    \n",
       "9  Smoker            0.19    \n",
       "10 Sex               0.15    \n",
       "11 MentHlth          0.1     \n",
       "12 CholCheck         0.08    \n",
       "13 BMI               0.08    \n",
       "14 NoDocbcCost       0.06    \n",
       "15 AnyHealthcare     0.04    \n",
       "16 Income            -0.23   \n",
       "17 Education         -0.16   \n",
       "18 PhysActivity      -0.15   \n",
       "19 Veggies           -0.06   \n",
       "20 Fruits            -0.05   \n",
       "21 HvyAlcoholConsump -0.05   "
      ]
     },
     "metadata": {},
     "output_type": "display_data"
    }
   ],
   "source": [
    "# 상관계수 높은순으로 정렬\n",
    "heart_samp_cor<-arrange(cc, desc(상관계수))\n",
    "ncol(heart_samp)\n",
    "heart_samp_cor"
   ]
  },
  {
   "cell_type": "markdown",
   "id": "087e1afd",
   "metadata": {},
   "source": [
    "> 심장병 발병과의 상관계수에서 GenHlth가 41%로 가장 높았고 뒤이어 나이, 고혈압, 콜레스테롤이 뒤이었다."
   ]
  },
  {
   "cell_type": "code",
   "execution_count": 36,
   "id": "39732f19",
   "metadata": {},
   "outputs": [
    {
     "name": "stdout",
     "output_type": "stream",
     "text": [
      "'data.frame':\t10000 obs. of  22 variables:\n",
      " $ HeartDiseaseorAttack: num  0 0 0 0 0 0 0 0 0 0 ...\n",
      " $ HighBP              : num  1 1 0 1 0 0 1 0 0 1 ...\n",
      " $ HighChol            : num  0 1 0 1 0 1 0 0 1 0 ...\n",
      " $ CholCheck           : num  1 1 1 1 1 1 1 1 1 1 ...\n",
      " $ BMI                 : num  27 30 20 44 32 28 29 20 19 34 ...\n",
      " $ Smoker              : num  1 0 1 0 1 0 0 0 1 0 ...\n",
      " $ Stroke              : num  0 0 0 0 0 0 0 0 0 0 ...\n",
      " $ Diabetes            : num  2 2 0 0 0 0 0 0 0 0 ...\n",
      " $ PhysActivity        : num  0 1 1 0 1 1 1 1 1 1 ...\n",
      " $ Fruits              : num  1 1 1 0 1 0 0 1 1 1 ...\n",
      " $ Veggies             : num  1 1 1 1 1 1 0 0 1 1 ...\n",
      " $ HvyAlcoholConsump   : num  0 0 0 0 0 0 0 0 0 0 ...\n",
      " $ AnyHealthcare       : num  1 1 1 1 1 1 1 0 1 1 ...\n",
      " $ NoDocbcCost         : num  0 0 0 0 0 1 0 1 0 0 ...\n",
      " $ GenHlth             : num  3 3 1 3 2 1 2 3 3 3 ...\n",
      " $ MentHlth            : num  0 0 0 0 0 0 0 30 0 0 ...\n",
      " $ PhysHlth            : num  30 0 1 0 0 0 0 5 0 0 ...\n",
      " $ DiffWalk            : num  0 0 0 1 0 0 0 0 0 0 ...\n",
      " $ Sex                 : num  0 1 0 0 1 1 1 1 1 1 ...\n",
      " $ Age                 : num  12 9 9 9 10 10 4 1 13 4 ...\n",
      " $ Education           : num  2 6 6 2 6 6 6 4 6 4 ...\n",
      " $ Income              : num  2 8 8 4 8 4 8 6 8 8 ...\n"
     ]
    }
   ],
   "source": [
    "# 각 속성 별로 barplot 출력 \n",
    "str(heart_samp)"
   ]
  },
  {
   "cell_type": "code",
   "execution_count": 37,
   "id": "3bbfbb9c",
   "metadata": {
    "scrolled": true
   },
   "outputs": [
    {
     "data": {
      "text/html": [
       "<table>\n",
       "<thead><tr><th></th><th scope=col>HeartDiseaseorAttack</th><th scope=col>HighBP</th><th scope=col>HighChol</th><th scope=col>CholCheck</th><th scope=col>Smoker</th><th scope=col>Stroke</th><th scope=col>PhysActivity</th><th scope=col>Fruits</th><th scope=col>Veggies</th><th scope=col>HvyAlcoholConsump</th><th scope=col>AnyHealthcare</th><th scope=col>NoDocbcCost</th><th scope=col>DiffWalk</th><th scope=col>Sex</th></tr></thead>\n",
       "<tbody>\n",
       "\t<tr><th scope=row>106390</th><td>0</td><td>1</td><td>0</td><td>1</td><td>1</td><td>0</td><td>0</td><td>1</td><td>1</td><td>0</td><td>1</td><td>0</td><td>0</td><td>0</td></tr>\n",
       "\t<tr><th scope=row>41964</th><td>0</td><td>1</td><td>1</td><td>1</td><td>0</td><td>0</td><td>1</td><td>1</td><td>1</td><td>0</td><td>1</td><td>0</td><td>0</td><td>1</td></tr>\n",
       "\t<tr><th scope=row>146313</th><td>0</td><td>0</td><td>0</td><td>1</td><td>1</td><td>0</td><td>1</td><td>1</td><td>1</td><td>0</td><td>1</td><td>0</td><td>0</td><td>0</td></tr>\n",
       "\t<tr><th scope=row>33702</th><td>0</td><td>1</td><td>1</td><td>1</td><td>0</td><td>0</td><td>0</td><td>0</td><td>1</td><td>0</td><td>1</td><td>0</td><td>1</td><td>0</td></tr>\n",
       "\t<tr><th scope=row>126055</th><td>0</td><td>0</td><td>0</td><td>1</td><td>1</td><td>0</td><td>1</td><td>1</td><td>1</td><td>0</td><td>1</td><td>0</td><td>0</td><td>1</td></tr>\n",
       "\t<tr><th scope=row>120410</th><td>0</td><td>0</td><td>1</td><td>1</td><td>0</td><td>0</td><td>1</td><td>0</td><td>1</td><td>0</td><td>1</td><td>1</td><td>0</td><td>1</td></tr>\n",
       "\t<tr><th scope=row>83023</th><td>0</td><td>1</td><td>0</td><td>1</td><td>0</td><td>0</td><td>1</td><td>0</td><td>0</td><td>0</td><td>1</td><td>0</td><td>0</td><td>1</td></tr>\n",
       "\t<tr><th scope=row>80756</th><td>0</td><td>0</td><td>0</td><td>1</td><td>0</td><td>0</td><td>1</td><td>1</td><td>0</td><td>0</td><td>0</td><td>1</td><td>0</td><td>1</td></tr>\n",
       "\t<tr><th scope=row>85374</th><td>0</td><td>0</td><td>1</td><td>1</td><td>1</td><td>0</td><td>1</td><td>1</td><td>1</td><td>0</td><td>1</td><td>0</td><td>0</td><td>1</td></tr>\n",
       "\t<tr><th scope=row>199230</th><td>0</td><td>1</td><td>0</td><td>1</td><td>0</td><td>0</td><td>1</td><td>1</td><td>1</td><td>0</td><td>1</td><td>0</td><td>0</td><td>1</td></tr>\n",
       "\t<tr><th scope=row>59944</th><td>0</td><td>0</td><td>0</td><td>1</td><td>0</td><td>0</td><td>0</td><td>1</td><td>1</td><td>0</td><td>1</td><td>0</td><td>0</td><td>1</td></tr>\n",
       "\t<tr><th scope=row>199608</th><td>0</td><td>1</td><td>1</td><td>1</td><td>1</td><td>0</td><td>1</td><td>1</td><td>1</td><td>0</td><td>1</td><td>0</td><td>0</td><td>1</td></tr>\n",
       "\t<tr><th scope=row>148452</th><td>0</td><td>0</td><td>1</td><td>1</td><td>0</td><td>0</td><td>1</td><td>1</td><td>1</td><td>0</td><td>1</td><td>0</td><td>0</td><td>1</td></tr>\n",
       "\t<tr><th scope=row>164319</th><td>0</td><td>0</td><td>0</td><td>1</td><td>1</td><td>0</td><td>0</td><td>1</td><td>1</td><td>0</td><td>1</td><td>1</td><td>1</td><td>1</td></tr>\n",
       "\t<tr><th scope=row>49786</th><td>0</td><td>0</td><td>0</td><td>1</td><td>0</td><td>0</td><td>1</td><td>1</td><td>1</td><td>0</td><td>1</td><td>0</td><td>0</td><td>0</td></tr>\n",
       "\t<tr><th scope=row>16962</th><td>0</td><td>0</td><td>0</td><td>1</td><td>1</td><td>0</td><td>1</td><td>0</td><td>1</td><td>1</td><td>1</td><td>0</td><td>0</td><td>0</td></tr>\n",
       "\t<tr><th scope=row>118447</th><td>0</td><td>1</td><td>0</td><td>1</td><td>0</td><td>0</td><td>1</td><td>1</td><td>1</td><td>0</td><td>1</td><td>0</td><td>0</td><td>0</td></tr>\n",
       "\t<tr><th scope=row>229507</th><td>0</td><td>0</td><td>0</td><td>1</td><td>0</td><td>0</td><td>1</td><td>0</td><td>1</td><td>0</td><td>0</td><td>0</td><td>0</td><td>0</td></tr>\n",
       "\t<tr><th scope=row>162857</th><td>0</td><td>0</td><td>0</td><td>1</td><td>1</td><td>0</td><td>0</td><td>0</td><td>1</td><td>0</td><td>1</td><td>0</td><td>0</td><td>0</td></tr>\n",
       "\t<tr><th scope=row>181238</th><td>0</td><td>0</td><td>0</td><td>1</td><td>0</td><td>0</td><td>1</td><td>0</td><td>0</td><td>0</td><td>1</td><td>0</td><td>1</td><td>1</td></tr>\n",
       "\t<tr><th scope=row>216904</th><td>0</td><td>1</td><td>1</td><td>1</td><td>0</td><td>0</td><td>1</td><td>1</td><td>1</td><td>0</td><td>1</td><td>0</td><td>0</td><td>0</td></tr>\n",
       "\t<tr><th scope=row>229674</th><td>0</td><td>1</td><td>1</td><td>0</td><td>0</td><td>0</td><td>0</td><td>0</td><td>1</td><td>0</td><td>1</td><td>0</td><td>0</td><td>1</td></tr>\n",
       "\t<tr><th scope=row>164098</th><td>0</td><td>0</td><td>0</td><td>1</td><td>0</td><td>0</td><td>1</td><td>1</td><td>1</td><td>0</td><td>1</td><td>0</td><td>0</td><td>0</td></tr>\n",
       "\t<tr><th scope=row>49231</th><td>0</td><td>0</td><td>1</td><td>1</td><td>0</td><td>0</td><td>1</td><td>0</td><td>1</td><td>0</td><td>1</td><td>0</td><td>0</td><td>1</td></tr>\n",
       "\t<tr><th scope=row>121137</th><td>0</td><td>0</td><td>0</td><td>1</td><td>1</td><td>0</td><td>1</td><td>1</td><td>1</td><td>0</td><td>1</td><td>0</td><td>0</td><td>0</td></tr>\n",
       "\t<tr><th scope=row>68280</th><td>0</td><td>0</td><td>0</td><td>1</td><td>1</td><td>0</td><td>0</td><td>1</td><td>1</td><td>0</td><td>1</td><td>0</td><td>0</td><td>0</td></tr>\n",
       "\t<tr><th scope=row>131974</th><td>0</td><td>0</td><td>1</td><td>1</td><td>0</td><td>0</td><td>1</td><td>1</td><td>1</td><td>0</td><td>1</td><td>0</td><td>0</td><td>1</td></tr>\n",
       "\t<tr><th scope=row>46301</th><td>0</td><td>0</td><td>0</td><td>1</td><td>0</td><td>0</td><td>0</td><td>0</td><td>1</td><td>1</td><td>1</td><td>0</td><td>1</td><td>0</td></tr>\n",
       "\t<tr><th scope=row>37000</th><td>0</td><td>0</td><td>1</td><td>1</td><td>1</td><td>0</td><td>1</td><td>1</td><td>1</td><td>0</td><td>1</td><td>0</td><td>0</td><td>1</td></tr>\n",
       "\t<tr><th scope=row>124049</th><td>0</td><td>0</td><td>0</td><td>1</td><td>0</td><td>0</td><td>1</td><td>0</td><td>1</td><td>0</td><td>0</td><td>0</td><td>0</td><td>0</td></tr>\n",
       "\t<tr><th scope=row>...</th><td>...</td><td>...</td><td>...</td><td>...</td><td>...</td><td>...</td><td>...</td><td>...</td><td>...</td><td>...</td><td>...</td><td>...</td><td>...</td><td>...</td></tr>\n",
       "\t<tr><th scope=row>244683</th><td>1</td><td>1</td><td>1</td><td>1</td><td>1</td><td>1</td><td>0</td><td>1</td><td>1</td><td>0</td><td>1</td><td>0</td><td>0</td><td>1</td></tr>\n",
       "\t<tr><th scope=row>240959</th><td>1</td><td>1</td><td>1</td><td>1</td><td>1</td><td>0</td><td>1</td><td>1</td><td>1</td><td>0</td><td>1</td><td>0</td><td>0</td><td>1</td></tr>\n",
       "\t<tr><th scope=row>238553</th><td>1</td><td>1</td><td>1</td><td>1</td><td>1</td><td>0</td><td>0</td><td>1</td><td>1</td><td>0</td><td>1</td><td>0</td><td>0</td><td>0</td></tr>\n",
       "\t<tr><th scope=row>249442</th><td>1</td><td>0</td><td>0</td><td>1</td><td>1</td><td>1</td><td>1</td><td>0</td><td>1</td><td>0</td><td>1</td><td>0</td><td>0</td><td>1</td></tr>\n",
       "\t<tr><th scope=row>245195</th><td>1</td><td>1</td><td>1</td><td>1</td><td>1</td><td>0</td><td>1</td><td>0</td><td>1</td><td>0</td><td>1</td><td>0</td><td>1</td><td>1</td></tr>\n",
       "\t<tr><th scope=row>242802</th><td>1</td><td>0</td><td>1</td><td>1</td><td>1</td><td>1</td><td>0</td><td>1</td><td>1</td><td>0</td><td>1</td><td>1</td><td>1</td><td>1</td></tr>\n",
       "\t<tr><th scope=row>243773</th><td>1</td><td>1</td><td>1</td><td>1</td><td>0</td><td>0</td><td>0</td><td>1</td><td>1</td><td>0</td><td>1</td><td>1</td><td>1</td><td>0</td></tr>\n",
       "\t<tr><th scope=row>240124</th><td>1</td><td>1</td><td>1</td><td>1</td><td>1</td><td>1</td><td>1</td><td>1</td><td>1</td><td>0</td><td>1</td><td>0</td><td>0</td><td>1</td></tr>\n",
       "\t<tr><th scope=row>233470</th><td>1</td><td>1</td><td>1</td><td>1</td><td>1</td><td>0</td><td>0</td><td>1</td><td>1</td><td>0</td><td>1</td><td>0</td><td>1</td><td>0</td></tr>\n",
       "\t<tr><th scope=row>232173</th><td>1</td><td>1</td><td>0</td><td>1</td><td>1</td><td>1</td><td>0</td><td>1</td><td>1</td><td>1</td><td>1</td><td>0</td><td>1</td><td>0</td></tr>\n",
       "\t<tr><th scope=row>247616</th><td>1</td><td>1</td><td>0</td><td>1</td><td>1</td><td>0</td><td>1</td><td>0</td><td>1</td><td>0</td><td>1</td><td>0</td><td>0</td><td>0</td></tr>\n",
       "\t<tr><th scope=row>239527</th><td>1</td><td>1</td><td>1</td><td>1</td><td>1</td><td>0</td><td>0</td><td>1</td><td>1</td><td>0</td><td>1</td><td>0</td><td>1</td><td>0</td></tr>\n",
       "\t<tr><th scope=row>245771</th><td>1</td><td>1</td><td>1</td><td>1</td><td>1</td><td>0</td><td>1</td><td>1</td><td>1</td><td>0</td><td>1</td><td>0</td><td>0</td><td>1</td></tr>\n",
       "\t<tr><th scope=row>241002</th><td>1</td><td>1</td><td>1</td><td>1</td><td>0</td><td>0</td><td>1</td><td>1</td><td>1</td><td>0</td><td>1</td><td>0</td><td>0</td><td>0</td></tr>\n",
       "\t<tr><th scope=row>231445</th><td>1</td><td>0</td><td>0</td><td>1</td><td>1</td><td>0</td><td>1</td><td>1</td><td>1</td><td>0</td><td>1</td><td>0</td><td>0</td><td>0</td></tr>\n",
       "\t<tr><th scope=row>237618</th><td>1</td><td>1</td><td>1</td><td>1</td><td>1</td><td>0</td><td>0</td><td>1</td><td>0</td><td>0</td><td>0</td><td>0</td><td>0</td><td>0</td></tr>\n",
       "\t<tr><th scope=row>252662</th><td>1</td><td>1</td><td>1</td><td>1</td><td>1</td><td>0</td><td>1</td><td>0</td><td>1</td><td>0</td><td>1</td><td>0</td><td>1</td><td>1</td></tr>\n",
       "\t<tr><th scope=row>237502</th><td>1</td><td>1</td><td>1</td><td>1</td><td>1</td><td>0</td><td>1</td><td>0</td><td>1</td><td>0</td><td>1</td><td>0</td><td>1</td><td>1</td></tr>\n",
       "\t<tr><th scope=row>237205</th><td>1</td><td>1</td><td>1</td><td>1</td><td>1</td><td>0</td><td>0</td><td>1</td><td>0</td><td>0</td><td>1</td><td>0</td><td>1</td><td>0</td></tr>\n",
       "\t<tr><th scope=row>240523</th><td>1</td><td>0</td><td>0</td><td>1</td><td>0</td><td>0</td><td>0</td><td>1</td><td>1</td><td>0</td><td>1</td><td>0</td><td>0</td><td>1</td></tr>\n",
       "\t<tr><th scope=row>237597</th><td>1</td><td>0</td><td>0</td><td>1</td><td>0</td><td>0</td><td>1</td><td>1</td><td>1</td><td>0</td><td>1</td><td>0</td><td>0</td><td>1</td></tr>\n",
       "\t<tr><th scope=row>242992</th><td>1</td><td>1</td><td>0</td><td>1</td><td>1</td><td>0</td><td>0</td><td>0</td><td>1</td><td>0</td><td>1</td><td>0</td><td>1</td><td>1</td></tr>\n",
       "\t<tr><th scope=row>253194</th><td>1</td><td>1</td><td>1</td><td>1</td><td>1</td><td>0</td><td>1</td><td>0</td><td>1</td><td>0</td><td>1</td><td>0</td><td>0</td><td>1</td></tr>\n",
       "\t<tr><th scope=row>235009</th><td>1</td><td>1</td><td>1</td><td>1</td><td>1</td><td>0</td><td>0</td><td>1</td><td>1</td><td>0</td><td>1</td><td>0</td><td>1</td><td>0</td></tr>\n",
       "\t<tr><th scope=row>247651</th><td>1</td><td>1</td><td>0</td><td>1</td><td>1</td><td>0</td><td>1</td><td>0</td><td>0</td><td>1</td><td>1</td><td>0</td><td>0</td><td>1</td></tr>\n",
       "\t<tr><th scope=row>250341</th><td>1</td><td>0</td><td>0</td><td>1</td><td>0</td><td>1</td><td>1</td><td>1</td><td>1</td><td>0</td><td>1</td><td>0</td><td>0</td><td>0</td></tr>\n",
       "\t<tr><th scope=row>248862</th><td>1</td><td>1</td><td>1</td><td>1</td><td>1</td><td>1</td><td>0</td><td>1</td><td>0</td><td>0</td><td>1</td><td>0</td><td>1</td><td>0</td></tr>\n",
       "\t<tr><th scope=row>230494</th><td>1</td><td>0</td><td>1</td><td>1</td><td>0</td><td>0</td><td>0</td><td>0</td><td>1</td><td>0</td><td>1</td><td>0</td><td>0</td><td>1</td></tr>\n",
       "\t<tr><th scope=row>247873</th><td>1</td><td>1</td><td>0</td><td>1</td><td>0</td><td>0</td><td>1</td><td>1</td><td>1</td><td>0</td><td>1</td><td>0</td><td>0</td><td>0</td></tr>\n",
       "\t<tr><th scope=row>241126</th><td>1</td><td>1</td><td>1</td><td>1</td><td>1</td><td>1</td><td>1</td><td>0</td><td>1</td><td>1</td><td>1</td><td>1</td><td>0</td><td>1</td></tr>\n",
       "</tbody>\n",
       "</table>\n"
      ],
      "text/latex": [
       "\\begin{tabular}{r|llllllllllllll}\n",
       "  & HeartDiseaseorAttack & HighBP & HighChol & CholCheck & Smoker & Stroke & PhysActivity & Fruits & Veggies & HvyAlcoholConsump & AnyHealthcare & NoDocbcCost & DiffWalk & Sex\\\\\n",
       "\\hline\n",
       "\t106390 & 0 & 1 & 0 & 1 & 1 & 0 & 0 & 1 & 1 & 0 & 1 & 0 & 0 & 0\\\\\n",
       "\t41964 & 0 & 1 & 1 & 1 & 0 & 0 & 1 & 1 & 1 & 0 & 1 & 0 & 0 & 1\\\\\n",
       "\t146313 & 0 & 0 & 0 & 1 & 1 & 0 & 1 & 1 & 1 & 0 & 1 & 0 & 0 & 0\\\\\n",
       "\t33702 & 0 & 1 & 1 & 1 & 0 & 0 & 0 & 0 & 1 & 0 & 1 & 0 & 1 & 0\\\\\n",
       "\t126055 & 0 & 0 & 0 & 1 & 1 & 0 & 1 & 1 & 1 & 0 & 1 & 0 & 0 & 1\\\\\n",
       "\t120410 & 0 & 0 & 1 & 1 & 0 & 0 & 1 & 0 & 1 & 0 & 1 & 1 & 0 & 1\\\\\n",
       "\t83023 & 0 & 1 & 0 & 1 & 0 & 0 & 1 & 0 & 0 & 0 & 1 & 0 & 0 & 1\\\\\n",
       "\t80756 & 0 & 0 & 0 & 1 & 0 & 0 & 1 & 1 & 0 & 0 & 0 & 1 & 0 & 1\\\\\n",
       "\t85374 & 0 & 0 & 1 & 1 & 1 & 0 & 1 & 1 & 1 & 0 & 1 & 0 & 0 & 1\\\\\n",
       "\t199230 & 0 & 1 & 0 & 1 & 0 & 0 & 1 & 1 & 1 & 0 & 1 & 0 & 0 & 1\\\\\n",
       "\t59944 & 0 & 0 & 0 & 1 & 0 & 0 & 0 & 1 & 1 & 0 & 1 & 0 & 0 & 1\\\\\n",
       "\t199608 & 0 & 1 & 1 & 1 & 1 & 0 & 1 & 1 & 1 & 0 & 1 & 0 & 0 & 1\\\\\n",
       "\t148452 & 0 & 0 & 1 & 1 & 0 & 0 & 1 & 1 & 1 & 0 & 1 & 0 & 0 & 1\\\\\n",
       "\t164319 & 0 & 0 & 0 & 1 & 1 & 0 & 0 & 1 & 1 & 0 & 1 & 1 & 1 & 1\\\\\n",
       "\t49786 & 0 & 0 & 0 & 1 & 0 & 0 & 1 & 1 & 1 & 0 & 1 & 0 & 0 & 0\\\\\n",
       "\t16962 & 0 & 0 & 0 & 1 & 1 & 0 & 1 & 0 & 1 & 1 & 1 & 0 & 0 & 0\\\\\n",
       "\t118447 & 0 & 1 & 0 & 1 & 0 & 0 & 1 & 1 & 1 & 0 & 1 & 0 & 0 & 0\\\\\n",
       "\t229507 & 0 & 0 & 0 & 1 & 0 & 0 & 1 & 0 & 1 & 0 & 0 & 0 & 0 & 0\\\\\n",
       "\t162857 & 0 & 0 & 0 & 1 & 1 & 0 & 0 & 0 & 1 & 0 & 1 & 0 & 0 & 0\\\\\n",
       "\t181238 & 0 & 0 & 0 & 1 & 0 & 0 & 1 & 0 & 0 & 0 & 1 & 0 & 1 & 1\\\\\n",
       "\t216904 & 0 & 1 & 1 & 1 & 0 & 0 & 1 & 1 & 1 & 0 & 1 & 0 & 0 & 0\\\\\n",
       "\t229674 & 0 & 1 & 1 & 0 & 0 & 0 & 0 & 0 & 1 & 0 & 1 & 0 & 0 & 1\\\\\n",
       "\t164098 & 0 & 0 & 0 & 1 & 0 & 0 & 1 & 1 & 1 & 0 & 1 & 0 & 0 & 0\\\\\n",
       "\t49231 & 0 & 0 & 1 & 1 & 0 & 0 & 1 & 0 & 1 & 0 & 1 & 0 & 0 & 1\\\\\n",
       "\t121137 & 0 & 0 & 0 & 1 & 1 & 0 & 1 & 1 & 1 & 0 & 1 & 0 & 0 & 0\\\\\n",
       "\t68280 & 0 & 0 & 0 & 1 & 1 & 0 & 0 & 1 & 1 & 0 & 1 & 0 & 0 & 0\\\\\n",
       "\t131974 & 0 & 0 & 1 & 1 & 0 & 0 & 1 & 1 & 1 & 0 & 1 & 0 & 0 & 1\\\\\n",
       "\t46301 & 0 & 0 & 0 & 1 & 0 & 0 & 0 & 0 & 1 & 1 & 1 & 0 & 1 & 0\\\\\n",
       "\t37000 & 0 & 0 & 1 & 1 & 1 & 0 & 1 & 1 & 1 & 0 & 1 & 0 & 0 & 1\\\\\n",
       "\t124049 & 0 & 0 & 0 & 1 & 0 & 0 & 1 & 0 & 1 & 0 & 0 & 0 & 0 & 0\\\\\n",
       "\t... & ... & ... & ... & ... & ... & ... & ... & ... & ... & ... & ... & ... & ... & ...\\\\\n",
       "\t244683 & 1 & 1 & 1 & 1 & 1 & 1 & 0 & 1 & 1 & 0 & 1 & 0 & 0 & 1\\\\\n",
       "\t240959 & 1 & 1 & 1 & 1 & 1 & 0 & 1 & 1 & 1 & 0 & 1 & 0 & 0 & 1\\\\\n",
       "\t238553 & 1 & 1 & 1 & 1 & 1 & 0 & 0 & 1 & 1 & 0 & 1 & 0 & 0 & 0\\\\\n",
       "\t249442 & 1 & 0 & 0 & 1 & 1 & 1 & 1 & 0 & 1 & 0 & 1 & 0 & 0 & 1\\\\\n",
       "\t245195 & 1 & 1 & 1 & 1 & 1 & 0 & 1 & 0 & 1 & 0 & 1 & 0 & 1 & 1\\\\\n",
       "\t242802 & 1 & 0 & 1 & 1 & 1 & 1 & 0 & 1 & 1 & 0 & 1 & 1 & 1 & 1\\\\\n",
       "\t243773 & 1 & 1 & 1 & 1 & 0 & 0 & 0 & 1 & 1 & 0 & 1 & 1 & 1 & 0\\\\\n",
       "\t240124 & 1 & 1 & 1 & 1 & 1 & 1 & 1 & 1 & 1 & 0 & 1 & 0 & 0 & 1\\\\\n",
       "\t233470 & 1 & 1 & 1 & 1 & 1 & 0 & 0 & 1 & 1 & 0 & 1 & 0 & 1 & 0\\\\\n",
       "\t232173 & 1 & 1 & 0 & 1 & 1 & 1 & 0 & 1 & 1 & 1 & 1 & 0 & 1 & 0\\\\\n",
       "\t247616 & 1 & 1 & 0 & 1 & 1 & 0 & 1 & 0 & 1 & 0 & 1 & 0 & 0 & 0\\\\\n",
       "\t239527 & 1 & 1 & 1 & 1 & 1 & 0 & 0 & 1 & 1 & 0 & 1 & 0 & 1 & 0\\\\\n",
       "\t245771 & 1 & 1 & 1 & 1 & 1 & 0 & 1 & 1 & 1 & 0 & 1 & 0 & 0 & 1\\\\\n",
       "\t241002 & 1 & 1 & 1 & 1 & 0 & 0 & 1 & 1 & 1 & 0 & 1 & 0 & 0 & 0\\\\\n",
       "\t231445 & 1 & 0 & 0 & 1 & 1 & 0 & 1 & 1 & 1 & 0 & 1 & 0 & 0 & 0\\\\\n",
       "\t237618 & 1 & 1 & 1 & 1 & 1 & 0 & 0 & 1 & 0 & 0 & 0 & 0 & 0 & 0\\\\\n",
       "\t252662 & 1 & 1 & 1 & 1 & 1 & 0 & 1 & 0 & 1 & 0 & 1 & 0 & 1 & 1\\\\\n",
       "\t237502 & 1 & 1 & 1 & 1 & 1 & 0 & 1 & 0 & 1 & 0 & 1 & 0 & 1 & 1\\\\\n",
       "\t237205 & 1 & 1 & 1 & 1 & 1 & 0 & 0 & 1 & 0 & 0 & 1 & 0 & 1 & 0\\\\\n",
       "\t240523 & 1 & 0 & 0 & 1 & 0 & 0 & 0 & 1 & 1 & 0 & 1 & 0 & 0 & 1\\\\\n",
       "\t237597 & 1 & 0 & 0 & 1 & 0 & 0 & 1 & 1 & 1 & 0 & 1 & 0 & 0 & 1\\\\\n",
       "\t242992 & 1 & 1 & 0 & 1 & 1 & 0 & 0 & 0 & 1 & 0 & 1 & 0 & 1 & 1\\\\\n",
       "\t253194 & 1 & 1 & 1 & 1 & 1 & 0 & 1 & 0 & 1 & 0 & 1 & 0 & 0 & 1\\\\\n",
       "\t235009 & 1 & 1 & 1 & 1 & 1 & 0 & 0 & 1 & 1 & 0 & 1 & 0 & 1 & 0\\\\\n",
       "\t247651 & 1 & 1 & 0 & 1 & 1 & 0 & 1 & 0 & 0 & 1 & 1 & 0 & 0 & 1\\\\\n",
       "\t250341 & 1 & 0 & 0 & 1 & 0 & 1 & 1 & 1 & 1 & 0 & 1 & 0 & 0 & 0\\\\\n",
       "\t248862 & 1 & 1 & 1 & 1 & 1 & 1 & 0 & 1 & 0 & 0 & 1 & 0 & 1 & 0\\\\\n",
       "\t230494 & 1 & 0 & 1 & 1 & 0 & 0 & 0 & 0 & 1 & 0 & 1 & 0 & 0 & 1\\\\\n",
       "\t247873 & 1 & 1 & 0 & 1 & 0 & 0 & 1 & 1 & 1 & 0 & 1 & 0 & 0 & 0\\\\\n",
       "\t241126 & 1 & 1 & 1 & 1 & 1 & 1 & 1 & 0 & 1 & 1 & 1 & 1 & 0 & 1\\\\\n",
       "\\end{tabular}\n"
      ],
      "text/markdown": [
       "\n",
       "| <!--/--> | HeartDiseaseorAttack | HighBP | HighChol | CholCheck | Smoker | Stroke | PhysActivity | Fruits | Veggies | HvyAlcoholConsump | AnyHealthcare | NoDocbcCost | DiffWalk | Sex |\n",
       "|---|---|---|---|---|---|---|---|---|---|---|---|---|---|---|\n",
       "| 106390 | 0 | 1 | 0 | 1 | 1 | 0 | 0 | 1 | 1 | 0 | 1 | 0 | 0 | 0 |\n",
       "| 41964 | 0 | 1 | 1 | 1 | 0 | 0 | 1 | 1 | 1 | 0 | 1 | 0 | 0 | 1 |\n",
       "| 146313 | 0 | 0 | 0 | 1 | 1 | 0 | 1 | 1 | 1 | 0 | 1 | 0 | 0 | 0 |\n",
       "| 33702 | 0 | 1 | 1 | 1 | 0 | 0 | 0 | 0 | 1 | 0 | 1 | 0 | 1 | 0 |\n",
       "| 126055 | 0 | 0 | 0 | 1 | 1 | 0 | 1 | 1 | 1 | 0 | 1 | 0 | 0 | 1 |\n",
       "| 120410 | 0 | 0 | 1 | 1 | 0 | 0 | 1 | 0 | 1 | 0 | 1 | 1 | 0 | 1 |\n",
       "| 83023 | 0 | 1 | 0 | 1 | 0 | 0 | 1 | 0 | 0 | 0 | 1 | 0 | 0 | 1 |\n",
       "| 80756 | 0 | 0 | 0 | 1 | 0 | 0 | 1 | 1 | 0 | 0 | 0 | 1 | 0 | 1 |\n",
       "| 85374 | 0 | 0 | 1 | 1 | 1 | 0 | 1 | 1 | 1 | 0 | 1 | 0 | 0 | 1 |\n",
       "| 199230 | 0 | 1 | 0 | 1 | 0 | 0 | 1 | 1 | 1 | 0 | 1 | 0 | 0 | 1 |\n",
       "| 59944 | 0 | 0 | 0 | 1 | 0 | 0 | 0 | 1 | 1 | 0 | 1 | 0 | 0 | 1 |\n",
       "| 199608 | 0 | 1 | 1 | 1 | 1 | 0 | 1 | 1 | 1 | 0 | 1 | 0 | 0 | 1 |\n",
       "| 148452 | 0 | 0 | 1 | 1 | 0 | 0 | 1 | 1 | 1 | 0 | 1 | 0 | 0 | 1 |\n",
       "| 164319 | 0 | 0 | 0 | 1 | 1 | 0 | 0 | 1 | 1 | 0 | 1 | 1 | 1 | 1 |\n",
       "| 49786 | 0 | 0 | 0 | 1 | 0 | 0 | 1 | 1 | 1 | 0 | 1 | 0 | 0 | 0 |\n",
       "| 16962 | 0 | 0 | 0 | 1 | 1 | 0 | 1 | 0 | 1 | 1 | 1 | 0 | 0 | 0 |\n",
       "| 118447 | 0 | 1 | 0 | 1 | 0 | 0 | 1 | 1 | 1 | 0 | 1 | 0 | 0 | 0 |\n",
       "| 229507 | 0 | 0 | 0 | 1 | 0 | 0 | 1 | 0 | 1 | 0 | 0 | 0 | 0 | 0 |\n",
       "| 162857 | 0 | 0 | 0 | 1 | 1 | 0 | 0 | 0 | 1 | 0 | 1 | 0 | 0 | 0 |\n",
       "| 181238 | 0 | 0 | 0 | 1 | 0 | 0 | 1 | 0 | 0 | 0 | 1 | 0 | 1 | 1 |\n",
       "| 216904 | 0 | 1 | 1 | 1 | 0 | 0 | 1 | 1 | 1 | 0 | 1 | 0 | 0 | 0 |\n",
       "| 229674 | 0 | 1 | 1 | 0 | 0 | 0 | 0 | 0 | 1 | 0 | 1 | 0 | 0 | 1 |\n",
       "| 164098 | 0 | 0 | 0 | 1 | 0 | 0 | 1 | 1 | 1 | 0 | 1 | 0 | 0 | 0 |\n",
       "| 49231 | 0 | 0 | 1 | 1 | 0 | 0 | 1 | 0 | 1 | 0 | 1 | 0 | 0 | 1 |\n",
       "| 121137 | 0 | 0 | 0 | 1 | 1 | 0 | 1 | 1 | 1 | 0 | 1 | 0 | 0 | 0 |\n",
       "| 68280 | 0 | 0 | 0 | 1 | 1 | 0 | 0 | 1 | 1 | 0 | 1 | 0 | 0 | 0 |\n",
       "| 131974 | 0 | 0 | 1 | 1 | 0 | 0 | 1 | 1 | 1 | 0 | 1 | 0 | 0 | 1 |\n",
       "| 46301 | 0 | 0 | 0 | 1 | 0 | 0 | 0 | 0 | 1 | 1 | 1 | 0 | 1 | 0 |\n",
       "| 37000 | 0 | 0 | 1 | 1 | 1 | 0 | 1 | 1 | 1 | 0 | 1 | 0 | 0 | 1 |\n",
       "| 124049 | 0 | 0 | 0 | 1 | 0 | 0 | 1 | 0 | 1 | 0 | 0 | 0 | 0 | 0 |\n",
       "| ... | ... | ... | ... | ... | ... | ... | ... | ... | ... | ... | ... | ... | ... | ... |\n",
       "| 244683 | 1 | 1 | 1 | 1 | 1 | 1 | 0 | 1 | 1 | 0 | 1 | 0 | 0 | 1 |\n",
       "| 240959 | 1 | 1 | 1 | 1 | 1 | 0 | 1 | 1 | 1 | 0 | 1 | 0 | 0 | 1 |\n",
       "| 238553 | 1 | 1 | 1 | 1 | 1 | 0 | 0 | 1 | 1 | 0 | 1 | 0 | 0 | 0 |\n",
       "| 249442 | 1 | 0 | 0 | 1 | 1 | 1 | 1 | 0 | 1 | 0 | 1 | 0 | 0 | 1 |\n",
       "| 245195 | 1 | 1 | 1 | 1 | 1 | 0 | 1 | 0 | 1 | 0 | 1 | 0 | 1 | 1 |\n",
       "| 242802 | 1 | 0 | 1 | 1 | 1 | 1 | 0 | 1 | 1 | 0 | 1 | 1 | 1 | 1 |\n",
       "| 243773 | 1 | 1 | 1 | 1 | 0 | 0 | 0 | 1 | 1 | 0 | 1 | 1 | 1 | 0 |\n",
       "| 240124 | 1 | 1 | 1 | 1 | 1 | 1 | 1 | 1 | 1 | 0 | 1 | 0 | 0 | 1 |\n",
       "| 233470 | 1 | 1 | 1 | 1 | 1 | 0 | 0 | 1 | 1 | 0 | 1 | 0 | 1 | 0 |\n",
       "| 232173 | 1 | 1 | 0 | 1 | 1 | 1 | 0 | 1 | 1 | 1 | 1 | 0 | 1 | 0 |\n",
       "| 247616 | 1 | 1 | 0 | 1 | 1 | 0 | 1 | 0 | 1 | 0 | 1 | 0 | 0 | 0 |\n",
       "| 239527 | 1 | 1 | 1 | 1 | 1 | 0 | 0 | 1 | 1 | 0 | 1 | 0 | 1 | 0 |\n",
       "| 245771 | 1 | 1 | 1 | 1 | 1 | 0 | 1 | 1 | 1 | 0 | 1 | 0 | 0 | 1 |\n",
       "| 241002 | 1 | 1 | 1 | 1 | 0 | 0 | 1 | 1 | 1 | 0 | 1 | 0 | 0 | 0 |\n",
       "| 231445 | 1 | 0 | 0 | 1 | 1 | 0 | 1 | 1 | 1 | 0 | 1 | 0 | 0 | 0 |\n",
       "| 237618 | 1 | 1 | 1 | 1 | 1 | 0 | 0 | 1 | 0 | 0 | 0 | 0 | 0 | 0 |\n",
       "| 252662 | 1 | 1 | 1 | 1 | 1 | 0 | 1 | 0 | 1 | 0 | 1 | 0 | 1 | 1 |\n",
       "| 237502 | 1 | 1 | 1 | 1 | 1 | 0 | 1 | 0 | 1 | 0 | 1 | 0 | 1 | 1 |\n",
       "| 237205 | 1 | 1 | 1 | 1 | 1 | 0 | 0 | 1 | 0 | 0 | 1 | 0 | 1 | 0 |\n",
       "| 240523 | 1 | 0 | 0 | 1 | 0 | 0 | 0 | 1 | 1 | 0 | 1 | 0 | 0 | 1 |\n",
       "| 237597 | 1 | 0 | 0 | 1 | 0 | 0 | 1 | 1 | 1 | 0 | 1 | 0 | 0 | 1 |\n",
       "| 242992 | 1 | 1 | 0 | 1 | 1 | 0 | 0 | 0 | 1 | 0 | 1 | 0 | 1 | 1 |\n",
       "| 253194 | 1 | 1 | 1 | 1 | 1 | 0 | 1 | 0 | 1 | 0 | 1 | 0 | 0 | 1 |\n",
       "| 235009 | 1 | 1 | 1 | 1 | 1 | 0 | 0 | 1 | 1 | 0 | 1 | 0 | 1 | 0 |\n",
       "| 247651 | 1 | 1 | 0 | 1 | 1 | 0 | 1 | 0 | 0 | 1 | 1 | 0 | 0 | 1 |\n",
       "| 250341 | 1 | 0 | 0 | 1 | 0 | 1 | 1 | 1 | 1 | 0 | 1 | 0 | 0 | 0 |\n",
       "| 248862 | 1 | 1 | 1 | 1 | 1 | 1 | 0 | 1 | 0 | 0 | 1 | 0 | 1 | 0 |\n",
       "| 230494 | 1 | 0 | 1 | 1 | 0 | 0 | 0 | 0 | 1 | 0 | 1 | 0 | 0 | 1 |\n",
       "| 247873 | 1 | 1 | 0 | 1 | 0 | 0 | 1 | 1 | 1 | 0 | 1 | 0 | 0 | 0 |\n",
       "| 241126 | 1 | 1 | 1 | 1 | 1 | 1 | 1 | 0 | 1 | 1 | 1 | 1 | 0 | 1 |\n",
       "\n"
      ],
      "text/plain": [
       "       HeartDiseaseorAttack HighBP HighChol CholCheck Smoker Stroke\n",
       "106390 0                    1      0        1         1      0     \n",
       "41964  0                    1      1        1         0      0     \n",
       "146313 0                    0      0        1         1      0     \n",
       "33702  0                    1      1        1         0      0     \n",
       "126055 0                    0      0        1         1      0     \n",
       "120410 0                    0      1        1         0      0     \n",
       "83023  0                    1      0        1         0      0     \n",
       "80756  0                    0      0        1         0      0     \n",
       "85374  0                    0      1        1         1      0     \n",
       "199230 0                    1      0        1         0      0     \n",
       "59944  0                    0      0        1         0      0     \n",
       "199608 0                    1      1        1         1      0     \n",
       "148452 0                    0      1        1         0      0     \n",
       "164319 0                    0      0        1         1      0     \n",
       "49786  0                    0      0        1         0      0     \n",
       "16962  0                    0      0        1         1      0     \n",
       "118447 0                    1      0        1         0      0     \n",
       "229507 0                    0      0        1         0      0     \n",
       "162857 0                    0      0        1         1      0     \n",
       "181238 0                    0      0        1         0      0     \n",
       "216904 0                    1      1        1         0      0     \n",
       "229674 0                    1      1        0         0      0     \n",
       "164098 0                    0      0        1         0      0     \n",
       "49231  0                    0      1        1         0      0     \n",
       "121137 0                    0      0        1         1      0     \n",
       "68280  0                    0      0        1         1      0     \n",
       "131974 0                    0      1        1         0      0     \n",
       "46301  0                    0      0        1         0      0     \n",
       "37000  0                    0      1        1         1      0     \n",
       "124049 0                    0      0        1         0      0     \n",
       "...    ...                  ...    ...      ...       ...    ...   \n",
       "244683 1                    1      1        1         1      1     \n",
       "240959 1                    1      1        1         1      0     \n",
       "238553 1                    1      1        1         1      0     \n",
       "249442 1                    0      0        1         1      1     \n",
       "245195 1                    1      1        1         1      0     \n",
       "242802 1                    0      1        1         1      1     \n",
       "243773 1                    1      1        1         0      0     \n",
       "240124 1                    1      1        1         1      1     \n",
       "233470 1                    1      1        1         1      0     \n",
       "232173 1                    1      0        1         1      1     \n",
       "247616 1                    1      0        1         1      0     \n",
       "239527 1                    1      1        1         1      0     \n",
       "245771 1                    1      1        1         1      0     \n",
       "241002 1                    1      1        1         0      0     \n",
       "231445 1                    0      0        1         1      0     \n",
       "237618 1                    1      1        1         1      0     \n",
       "252662 1                    1      1        1         1      0     \n",
       "237502 1                    1      1        1         1      0     \n",
       "237205 1                    1      1        1         1      0     \n",
       "240523 1                    0      0        1         0      0     \n",
       "237597 1                    0      0        1         0      0     \n",
       "242992 1                    1      0        1         1      0     \n",
       "253194 1                    1      1        1         1      0     \n",
       "235009 1                    1      1        1         1      0     \n",
       "247651 1                    1      0        1         1      0     \n",
       "250341 1                    0      0        1         0      1     \n",
       "248862 1                    1      1        1         1      1     \n",
       "230494 1                    0      1        1         0      0     \n",
       "247873 1                    1      0        1         0      0     \n",
       "241126 1                    1      1        1         1      1     \n",
       "       PhysActivity Fruits Veggies HvyAlcoholConsump AnyHealthcare NoDocbcCost\n",
       "106390 0            1      1       0                 1             0          \n",
       "41964  1            1      1       0                 1             0          \n",
       "146313 1            1      1       0                 1             0          \n",
       "33702  0            0      1       0                 1             0          \n",
       "126055 1            1      1       0                 1             0          \n",
       "120410 1            0      1       0                 1             1          \n",
       "83023  1            0      0       0                 1             0          \n",
       "80756  1            1      0       0                 0             1          \n",
       "85374  1            1      1       0                 1             0          \n",
       "199230 1            1      1       0                 1             0          \n",
       "59944  0            1      1       0                 1             0          \n",
       "199608 1            1      1       0                 1             0          \n",
       "148452 1            1      1       0                 1             0          \n",
       "164319 0            1      1       0                 1             1          \n",
       "49786  1            1      1       0                 1             0          \n",
       "16962  1            0      1       1                 1             0          \n",
       "118447 1            1      1       0                 1             0          \n",
       "229507 1            0      1       0                 0             0          \n",
       "162857 0            0      1       0                 1             0          \n",
       "181238 1            0      0       0                 1             0          \n",
       "216904 1            1      1       0                 1             0          \n",
       "229674 0            0      1       0                 1             0          \n",
       "164098 1            1      1       0                 1             0          \n",
       "49231  1            0      1       0                 1             0          \n",
       "121137 1            1      1       0                 1             0          \n",
       "68280  0            1      1       0                 1             0          \n",
       "131974 1            1      1       0                 1             0          \n",
       "46301  0            0      1       1                 1             0          \n",
       "37000  1            1      1       0                 1             0          \n",
       "124049 1            0      1       0                 0             0          \n",
       "...    ...          ...    ...     ...               ...           ...        \n",
       "244683 0            1      1       0                 1             0          \n",
       "240959 1            1      1       0                 1             0          \n",
       "238553 0            1      1       0                 1             0          \n",
       "249442 1            0      1       0                 1             0          \n",
       "245195 1            0      1       0                 1             0          \n",
       "242802 0            1      1       0                 1             1          \n",
       "243773 0            1      1       0                 1             1          \n",
       "240124 1            1      1       0                 1             0          \n",
       "233470 0            1      1       0                 1             0          \n",
       "232173 0            1      1       1                 1             0          \n",
       "247616 1            0      1       0                 1             0          \n",
       "239527 0            1      1       0                 1             0          \n",
       "245771 1            1      1       0                 1             0          \n",
       "241002 1            1      1       0                 1             0          \n",
       "231445 1            1      1       0                 1             0          \n",
       "237618 0            1      0       0                 0             0          \n",
       "252662 1            0      1       0                 1             0          \n",
       "237502 1            0      1       0                 1             0          \n",
       "237205 0            1      0       0                 1             0          \n",
       "240523 0            1      1       0                 1             0          \n",
       "237597 1            1      1       0                 1             0          \n",
       "242992 0            0      1       0                 1             0          \n",
       "253194 1            0      1       0                 1             0          \n",
       "235009 0            1      1       0                 1             0          \n",
       "247651 1            0      0       1                 1             0          \n",
       "250341 1            1      1       0                 1             0          \n",
       "248862 0            1      0       0                 1             0          \n",
       "230494 0            0      1       0                 1             0          \n",
       "247873 1            1      1       0                 1             0          \n",
       "241126 1            0      1       1                 1             1          \n",
       "       DiffWalk Sex\n",
       "106390 0        0  \n",
       "41964  0        1  \n",
       "146313 0        0  \n",
       "33702  1        0  \n",
       "126055 0        1  \n",
       "120410 0        1  \n",
       "83023  0        1  \n",
       "80756  0        1  \n",
       "85374  0        1  \n",
       "199230 0        1  \n",
       "59944  0        1  \n",
       "199608 0        1  \n",
       "148452 0        1  \n",
       "164319 1        1  \n",
       "49786  0        0  \n",
       "16962  0        0  \n",
       "118447 0        0  \n",
       "229507 0        0  \n",
       "162857 0        0  \n",
       "181238 1        1  \n",
       "216904 0        0  \n",
       "229674 0        1  \n",
       "164098 0        0  \n",
       "49231  0        1  \n",
       "121137 0        0  \n",
       "68280  0        0  \n",
       "131974 0        1  \n",
       "46301  1        0  \n",
       "37000  0        1  \n",
       "124049 0        0  \n",
       "...    ...      ...\n",
       "244683 0        1  \n",
       "240959 0        1  \n",
       "238553 0        0  \n",
       "249442 0        1  \n",
       "245195 1        1  \n",
       "242802 1        1  \n",
       "243773 1        0  \n",
       "240124 0        1  \n",
       "233470 1        0  \n",
       "232173 1        0  \n",
       "247616 0        0  \n",
       "239527 1        0  \n",
       "245771 0        1  \n",
       "241002 0        0  \n",
       "231445 0        0  \n",
       "237618 0        0  \n",
       "252662 1        1  \n",
       "237502 1        1  \n",
       "237205 1        0  \n",
       "240523 0        1  \n",
       "237597 0        1  \n",
       "242992 1        1  \n",
       "253194 0        1  \n",
       "235009 1        0  \n",
       "247651 0        1  \n",
       "250341 0        0  \n",
       "248862 1        0  \n",
       "230494 0        1  \n",
       "247873 0        0  \n",
       "241126 0        1  "
      ]
     },
     "metadata": {},
     "output_type": "display_data"
    }
   ],
   "source": [
    "# 0과 1로 나타내지는 컬럼 \n",
    "Target1 <- heart_samp[,-c(5,15:17,20:22)]\n",
    "Target1 <- Target1[,-c(7)]\n",
    "Target1"
   ]
  },
  {
   "cell_type": "code",
   "execution_count": 38,
   "id": "0d5c1fd6",
   "metadata": {},
   "outputs": [
    {
     "name": "stderr",
     "output_type": "stream",
     "text": [
      "Warning message in cbind(name, zero, one):\n",
      "\"number of rows of result is not a multiple of vector length (arg 2)\""
     ]
    },
    {
     "data": {
      "text/html": [
       "<table>\n",
       "<thead><tr><th scope=col>name</th><th scope=col>zero</th><th scope=col>one</th></tr></thead>\n",
       "<tbody>\n",
       "\t<tr><td>HeartDiseaseorAttack</td><td>50                  </td><td>50                  </td></tr>\n",
       "\t<tr><td>HighBP              </td><td>43.4                </td><td>56.6                </td></tr>\n",
       "\t<tr><td>HighChol            </td><td>45.68               </td><td>54.32               </td></tr>\n",
       "\t<tr><td>CholCheck           </td><td>2.56                </td><td>97.44               </td></tr>\n",
       "\t<tr><td>Smoker              </td><td>47.63               </td><td>52.37               </td></tr>\n",
       "\t<tr><td>Stroke              </td><td>90.43               </td><td>9.57                </td></tr>\n",
       "\t<tr><td>PhysActivity        </td><td>30.16               </td><td>69.84               </td></tr>\n",
       "\t<tr><td>Fruits              </td><td>37.91               </td><td>62.09               </td></tr>\n",
       "\t<tr><td>Veggies             </td><td>20.86               </td><td>79.14               </td></tr>\n",
       "\t<tr><td>HvyAlcoholConsump   </td><td>95.34               </td><td>4.66                </td></tr>\n",
       "\t<tr><td>AnyHealthcare       </td><td>4.19                </td><td>95.81               </td></tr>\n",
       "\t<tr><td>NoDocbcCost         </td><td>90.68               </td><td>9.32                </td></tr>\n",
       "\t<tr><td>DiffWalk            </td><td>72.09               </td><td>27.91               </td></tr>\n",
       "\t<tr><td>Sex                 </td><td>50                  </td><td>50                  </td></tr>\n",
       "</tbody>\n",
       "</table>\n"
      ],
      "text/latex": [
       "\\begin{tabular}{lll}\n",
       " name & zero & one\\\\\n",
       "\\hline\n",
       "\t HeartDiseaseorAttack & 50                   & 50                  \\\\\n",
       "\t HighBP               & 43.4                 & 56.6                \\\\\n",
       "\t HighChol             & 45.68                & 54.32               \\\\\n",
       "\t CholCheck            & 2.56                 & 97.44               \\\\\n",
       "\t Smoker               & 47.63                & 52.37               \\\\\n",
       "\t Stroke               & 90.43                & 9.57                \\\\\n",
       "\t PhysActivity         & 30.16                & 69.84               \\\\\n",
       "\t Fruits               & 37.91                & 62.09               \\\\\n",
       "\t Veggies              & 20.86                & 79.14               \\\\\n",
       "\t HvyAlcoholConsump    & 95.34                & 4.66                \\\\\n",
       "\t AnyHealthcare        & 4.19                 & 95.81               \\\\\n",
       "\t NoDocbcCost          & 90.68                & 9.32                \\\\\n",
       "\t DiffWalk             & 72.09                & 27.91               \\\\\n",
       "\t Sex                  & 50                   & 50                  \\\\\n",
       "\\end{tabular}\n"
      ],
      "text/markdown": [
       "\n",
       "| name | zero | one |\n",
       "|---|---|---|\n",
       "| HeartDiseaseorAttack | 50                   | 50                   |\n",
       "| HighBP               | 43.4                 | 56.6                 |\n",
       "| HighChol             | 45.68                | 54.32                |\n",
       "| CholCheck            | 2.56                 | 97.44                |\n",
       "| Smoker               | 47.63                | 52.37                |\n",
       "| Stroke               | 90.43                | 9.57                 |\n",
       "| PhysActivity         | 30.16                | 69.84                |\n",
       "| Fruits               | 37.91                | 62.09                |\n",
       "| Veggies              | 20.86                | 79.14                |\n",
       "| HvyAlcoholConsump    | 95.34                | 4.66                 |\n",
       "| AnyHealthcare        | 4.19                 | 95.81                |\n",
       "| NoDocbcCost          | 90.68                | 9.32                 |\n",
       "| DiffWalk             | 72.09                | 27.91                |\n",
       "| Sex                  | 50                   | 50                   |\n",
       "\n"
      ],
      "text/plain": [
       "      name                 zero  one  \n",
       " [1,] HeartDiseaseorAttack 50    50   \n",
       " [2,] HighBP               43.4  56.6 \n",
       " [3,] HighChol             45.68 54.32\n",
       " [4,] CholCheck            2.56  97.44\n",
       " [5,] Smoker               47.63 52.37\n",
       " [6,] Stroke               90.43 9.57 \n",
       " [7,] PhysActivity         30.16 69.84\n",
       " [8,] Fruits               37.91 62.09\n",
       " [9,] Veggies              20.86 79.14\n",
       "[10,] HvyAlcoholConsump    95.34 4.66 \n",
       "[11,] AnyHealthcare        4.19  95.81\n",
       "[12,] NoDocbcCost          90.68 9.32 \n",
       "[13,] DiffWalk             72.09 27.91\n",
       "[14,] Sex                  50    50   "
      ]
     },
     "metadata": {},
     "output_type": "display_data"
    }
   ],
   "source": [
    "# 각 컬럼 퍼센트로 나타내기 (0,1)\n",
    "zero <- c()\n",
    "one <- c()\n",
    "for(i in 1:ncol(Target1)-1){\n",
    "    zero[i]<-nrow(subset(Target1, Target1[,i] == 0)) / 10000 * 100\n",
    "    one[i]<-nrow(subset(Target1, Target1[,i]== 1)) / 10000 * 100\n",
    "}\n",
    "\n",
    "name <- colnames(Target1)\n",
    "Tar1<-cbind(name, zero, one)\n",
    "Tar1"
   ]
  },
  {
   "cell_type": "code",
   "execution_count": 39,
   "id": "95bbd123",
   "metadata": {},
   "outputs": [
    {
     "data": {
      "text/html": [
       "<table>\n",
       "<thead><tr><th></th><th scope=col>HeartDiseaseorAttack</th><th scope=col>HighBP</th><th scope=col>HighChol</th><th scope=col>CholCheck</th><th scope=col>Smoker</th><th scope=col>Stroke</th><th scope=col>PhysActivity</th><th scope=col>Fruits</th><th scope=col>Veggies</th><th scope=col>HvyAlcoholConsump</th><th scope=col>AnyHealthcare</th><th scope=col>NoDocbcCost</th><th scope=col>DiffWalk</th><th scope=col>Sex</th></tr></thead>\n",
       "<tbody>\n",
       "\t<tr><th scope=row>name</th><td>HeartDiseaseorAttack</td><td>HighBP              </td><td>HighChol            </td><td>CholCheck           </td><td>Smoker              </td><td>Stroke              </td><td>PhysActivity        </td><td>Fruits              </td><td>Veggies             </td><td>HvyAlcoholConsump   </td><td>AnyHealthcare       </td><td>NoDocbcCost         </td><td>DiffWalk            </td><td>Sex                 </td></tr>\n",
       "\t<tr><th scope=row>zero</th><td>50                  </td><td>43.4                </td><td>45.68               </td><td>2.56                </td><td>47.63               </td><td>90.43               </td><td>30.16               </td><td>37.91               </td><td>20.86               </td><td>95.34               </td><td>4.19                </td><td>90.68               </td><td>72.09               </td><td>50                  </td></tr>\n",
       "\t<tr><th scope=row>one</th><td>50                  </td><td>56.6                </td><td>54.32               </td><td>97.44               </td><td>52.37               </td><td>9.57                </td><td>69.84               </td><td>62.09               </td><td>79.14               </td><td>4.66                </td><td>95.81               </td><td>9.32                </td><td>27.91               </td><td>50                  </td></tr>\n",
       "</tbody>\n",
       "</table>\n"
      ],
      "text/latex": [
       "\\begin{tabular}{r|llllllllllllll}\n",
       "  & HeartDiseaseorAttack & HighBP & HighChol & CholCheck & Smoker & Stroke & PhysActivity & Fruits & Veggies & HvyAlcoholConsump & AnyHealthcare & NoDocbcCost & DiffWalk & Sex\\\\\n",
       "\\hline\n",
       "\tname & HeartDiseaseorAttack & HighBP               & HighChol             & CholCheck            & Smoker               & Stroke               & PhysActivity         & Fruits               & Veggies              & HvyAlcoholConsump    & AnyHealthcare        & NoDocbcCost          & DiffWalk             & Sex                 \\\\\n",
       "\tzero & 50                   & 43.4                 & 45.68                & 2.56                 & 47.63                & 90.43                & 30.16                & 37.91                & 20.86                & 95.34                & 4.19                 & 90.68                & 72.09                & 50                  \\\\\n",
       "\tone & 50                   & 56.6                 & 54.32                & 97.44                & 52.37                & 9.57                 & 69.84                & 62.09                & 79.14                & 4.66                 & 95.81                & 9.32                 & 27.91                & 50                  \\\\\n",
       "\\end{tabular}\n"
      ],
      "text/markdown": [
       "\n",
       "| <!--/--> | HeartDiseaseorAttack | HighBP | HighChol | CholCheck | Smoker | Stroke | PhysActivity | Fruits | Veggies | HvyAlcoholConsump | AnyHealthcare | NoDocbcCost | DiffWalk | Sex |\n",
       "|---|---|---|---|---|---|---|---|---|---|---|---|---|---|---|\n",
       "| name | HeartDiseaseorAttack | HighBP               | HighChol             | CholCheck            | Smoker               | Stroke               | PhysActivity         | Fruits               | Veggies              | HvyAlcoholConsump    | AnyHealthcare        | NoDocbcCost          | DiffWalk             | Sex                  |\n",
       "| zero | 50                   | 43.4                 | 45.68                | 2.56                 | 47.63                | 90.43                | 30.16                | 37.91                | 20.86                | 95.34                | 4.19                 | 90.68                | 72.09                | 50                   |\n",
       "| one | 50                   | 56.6                 | 54.32                | 97.44                | 52.37                | 9.57                 | 69.84                | 62.09                | 79.14                | 4.66                 | 95.81                | 9.32                 | 27.91                | 50                   |\n",
       "\n"
      ],
      "text/plain": [
       "     HeartDiseaseorAttack HighBP HighChol CholCheck Smoker Stroke PhysActivity\n",
       "name HeartDiseaseorAttack HighBP HighChol CholCheck Smoker Stroke PhysActivity\n",
       "zero 50                   43.4   45.68    2.56      47.63  90.43  30.16       \n",
       "one  50                   56.6   54.32    97.44     52.37  9.57   69.84       \n",
       "     Fruits Veggies HvyAlcoholConsump AnyHealthcare NoDocbcCost DiffWalk Sex\n",
       "name Fruits Veggies HvyAlcoholConsump AnyHealthcare NoDocbcCost DiffWalk Sex\n",
       "zero 37.91  20.86   95.34             4.19          90.68       72.09    50 \n",
       "one  62.09  79.14   4.66              95.81         9.32        27.91    50 "
      ]
     },
     "metadata": {},
     "output_type": "display_data"
    }
   ],
   "source": [
    "Tar1 <- as.data.frame(Tar1)\n",
    "test<-t(Tar1)\n",
    "colnames(test) <- c(test[1,])\n",
    "test"
   ]
  },
  {
   "cell_type": "code",
   "execution_count": 40,
   "id": "38cddb27",
   "metadata": {},
   "outputs": [],
   "source": [
    "Tar1<-test[-c(1),]"
   ]
  },
  {
   "cell_type": "code",
   "execution_count": 43,
   "id": "c3b55ff2",
   "metadata": {},
   "outputs": [
    {
     "name": "stdout",
     "output_type": "stream",
     "text": [
      "'data.frame':\t2 obs. of  14 variables:\n",
      " $ HeartDiseaseorAttack: num  50 50\n",
      " $ HighBP              : num  43.4 56.6\n",
      " $ HighChol            : num  45.7 54.3\n",
      " $ CholCheck           : num  2.56 97.44\n",
      " $ Smoker              : num  47.6 52.4\n",
      " $ Stroke              : num  90.43 9.57\n",
      " $ PhysActivity        : num  30.2 69.8\n",
      " $ Fruits              : num  37.9 62.1\n",
      " $ Veggies             : num  20.9 79.1\n",
      " $ HvyAlcoholConsump   : num  95.34 4.66\n",
      " $ AnyHealthcare       : num  4.19 95.81\n",
      " $ NoDocbcCost         : num  90.68 9.32\n",
      " $ DiffWalk            : num  72.1 27.9\n",
      " $ Sex                 : num  50 50\n"
     ]
    },
    {
     "data": {
      "text/html": [
       "<table>\n",
       "<thead><tr><th></th><th scope=col>HeartDiseaseorAttack</th><th scope=col>HighBP</th><th scope=col>HighChol</th><th scope=col>CholCheck</th><th scope=col>Smoker</th><th scope=col>Stroke</th><th scope=col>PhysActivity</th><th scope=col>Fruits</th><th scope=col>Veggies</th><th scope=col>HvyAlcoholConsump</th><th scope=col>AnyHealthcare</th><th scope=col>NoDocbcCost</th><th scope=col>DiffWalk</th><th scope=col>Sex</th></tr></thead>\n",
       "<tbody>\n",
       "\t<tr><th scope=row>zero</th><td>50   </td><td>43.4 </td><td>45.68</td><td> 2.56</td><td>47.63</td><td>90.43</td><td>30.16</td><td>37.91</td><td>20.86</td><td>95.34</td><td> 4.19</td><td>90.68</td><td>72.09</td><td>50   </td></tr>\n",
       "\t<tr><th scope=row>one</th><td>50   </td><td>56.6 </td><td>54.32</td><td>97.44</td><td>52.37</td><td> 9.57</td><td>69.84</td><td>62.09</td><td>79.14</td><td> 4.66</td><td>95.81</td><td> 9.32</td><td>27.91</td><td>50   </td></tr>\n",
       "</tbody>\n",
       "</table>\n"
      ],
      "text/latex": [
       "\\begin{tabular}{r|llllllllllllll}\n",
       "  & HeartDiseaseorAttack & HighBP & HighChol & CholCheck & Smoker & Stroke & PhysActivity & Fruits & Veggies & HvyAlcoholConsump & AnyHealthcare & NoDocbcCost & DiffWalk & Sex\\\\\n",
       "\\hline\n",
       "\tzero & 50    & 43.4  & 45.68 &  2.56 & 47.63 & 90.43 & 30.16 & 37.91 & 20.86 & 95.34 &  4.19 & 90.68 & 72.09 & 50   \\\\\n",
       "\tone & 50    & 56.6  & 54.32 & 97.44 & 52.37 &  9.57 & 69.84 & 62.09 & 79.14 &  4.66 & 95.81 &  9.32 & 27.91 & 50   \\\\\n",
       "\\end{tabular}\n"
      ],
      "text/markdown": [
       "\n",
       "| <!--/--> | HeartDiseaseorAttack | HighBP | HighChol | CholCheck | Smoker | Stroke | PhysActivity | Fruits | Veggies | HvyAlcoholConsump | AnyHealthcare | NoDocbcCost | DiffWalk | Sex |\n",
       "|---|---|---|---|---|---|---|---|---|---|---|---|---|---|---|\n",
       "| zero | 50    | 43.4  | 45.68 |  2.56 | 47.63 | 90.43 | 30.16 | 37.91 | 20.86 | 95.34 |  4.19 | 90.68 | 72.09 | 50    |\n",
       "| one | 50    | 56.6  | 54.32 | 97.44 | 52.37 |  9.57 | 69.84 | 62.09 | 79.14 |  4.66 | 95.81 |  9.32 | 27.91 | 50    |\n",
       "\n"
      ],
      "text/plain": [
       "     HeartDiseaseorAttack HighBP HighChol CholCheck Smoker Stroke PhysActivity\n",
       "zero 50                   43.4   45.68     2.56     47.63  90.43  30.16       \n",
       "one  50                   56.6   54.32    97.44     52.37   9.57  69.84       \n",
       "     Fruits Veggies HvyAlcoholConsump AnyHealthcare NoDocbcCost DiffWalk Sex\n",
       "zero 37.91  20.86   95.34              4.19         90.68       72.09    50 \n",
       "one  62.09  79.14    4.66             95.81          9.32       27.91    50 "
      ]
     },
     "metadata": {},
     "output_type": "display_data"
    }
   ],
   "source": [
    "Tar1 <- as.data.frame(Tar1)\n",
    "for(i in 1:ncol(Tar1)){\n",
    "    Tar1[,i] <- as.numeric(as.character(Tar1[,i]))\n",
    "}\n",
    "str(Tar1)\n",
    "Tar1"
   ]
  },
  {
   "cell_type": "code",
   "execution_count": 44,
   "id": "30d7a3ff",
   "metadata": {
    "scrolled": false
   },
   "outputs": [
    {
     "data": {
      "image/png": "[encoded data removed]",
      "text/plain": [
       "Plot with title \"CholCheck\""
      ]
     },
     "metadata": {},
     "output_type": "display_data"
    },
    {
     "data": {
      "image/png": "[encoded data removed]",
      "text/plain": [
       "Plot with title \"Fruits\""
      ]
     },
     "metadata": {},
     "output_type": "display_data"
    },
    {
     "data": {
      "image/png": "[encoded data removed]",
      "text/plain": [
       "Plot with title \"NoDocbcCost\""
      ]
     },
     "metadata": {},
     "output_type": "display_data"
    },
    {
     "data": {
      "image/png": "[encoded data removed]",
      "text/plain": [
       "Plot with title \"Sex\""
      ]
     },
     "metadata": {},
     "output_type": "display_data"
    }
   ],
   "source": [
    "# 각 속성 별로 barplot 출력 \n",
    "library(plotrix)\n",
    "par(mfrow=c(2,2))\n",
    "options(warn = -1)\n",
    "par(family = 'AppleGothic')\n",
    "    \n",
    "\n",
    "    x1 <- Tar1[,1]\n",
    "    barplot(x1,\n",
    "       main=colnames(Tar1)[1],\n",
    "        xlab=colnames(Tar1)[1],\n",
    "        ylab='퍼센트',\n",
    "        ylim=c(0,100),\n",
    "        beside=T,\n",
    "        col = rep(c('red','blue')),\n",
    "        names=c('0','1'),\n",
    "        legend.text=T,\n",
    "    )\n",
    "    text(0.7,95, '50%')\n",
    "    text(1.9,95, '50%')\n",
    "         \n",
    "\n",
    "    x2 <- Tar1[,2]\n",
    "    barplot(x2,\n",
    "       main=colnames(Tar1)[2],\n",
    "        xlab=colnames(Tar1)[2],\n",
    "        ylab='퍼센트',\n",
    "        ylim=c(0,100),\n",
    "        beside=T,\n",
    "        col = rep(c('red','blue')),\n",
    "        names=c('0','1'), \n",
    "    )\n",
    "    text(0.7,95, '43.4%')\n",
    "    text(1.9,95, '56.6%')\n",
    "\n",
    "\n",
    "    x3 <- Tar1[,3]\n",
    "    barplot(x3,\n",
    "       main=colnames(Tar1)[3],\n",
    "        xlab=colnames(Tar1)[3],\n",
    "        ylab='퍼센트',\n",
    "        ylim=c(0,100),\n",
    "        beside=T,\n",
    "        col = rep(c('red','blue')),\n",
    "        names=c('0','1'), \n",
    "    )\n",
    "    text(0.7,95, '45.68%')\n",
    "    text(1.9,95, '54.32%')\n",
    "\n",
    "\n",
    "    x4 <- Tar1[,4]\n",
    "    barplot(x4,\n",
    "       main=colnames(Tar1)[4],\n",
    "        xlab=colnames(Tar1)[4],\n",
    "        ylab='퍼센트',\n",
    "        ylim=c(0,120),\n",
    "        beside=T,\n",
    "        col = rep(c('red','blue')),\n",
    "        names=c('0','1'), \n",
    "    )\n",
    "    text(0.7,95, '2.56%')\n",
    "    text(1.9,110, '97.44%')\n",
    "\n",
    "    x5 <- Tar1[,5]\n",
    "    barplot(x5,\n",
    "       main=colnames(Tar1)[5],\n",
    "        xlab=colnames(Tar1)[5],\n",
    "        ylab='퍼센트',\n",
    "        ylim=c(0,100),\n",
    "        beside=T,\n",
    "        col = rep(c('red','blue')),\n",
    "        names=c('0','1'), \n",
    "    )\n",
    "    text(0.7,95, '55.76%')\n",
    "    text(1.9,95, '44.24%')\n",
    "\n",
    "    x6 <- Tar1[,6]\n",
    "    barplot(x6,\n",
    "       main=colnames(Tar1)[6],\n",
    "        xlab=colnames(Tar1)[6],\n",
    "        ylab='퍼센트',\n",
    "        ylim=c(0,120),\n",
    "        beside=T,\n",
    "        col = rep(c('red','blue')),\n",
    "        names=c('0','1'), \n",
    "    )\n",
    "    text(0.7,110, '47.63%')\n",
    "    text(1.9,95, '52.37%')\n",
    "\n",
    "    x7 <- Tar1[,7]\n",
    "    barplot(x7,\n",
    "       main=colnames(Tar1)[7],\n",
    "        xlab=colnames(Tar1)[7],\n",
    "        ylab='퍼센트',\n",
    "        ylim=c(0,100),\n",
    "        beside=T,\n",
    "        col = rep(c('red','blue')),\n",
    "        names=c('0','1'), \n",
    "    )\n",
    "    text(0.7,95, '90.43%')\n",
    "    text(1.9,95, '9.57%')\n",
    "\n",
    "    x8 <- Tar1[,8]\n",
    "    barplot(x8,\n",
    "       main=colnames(Tar1)[8],\n",
    "        xlab=colnames(Tar1)[8],\n",
    "        ylab='퍼센트',\n",
    "        ylim=c(0,100),\n",
    "        beside=T,\n",
    "        col = rep(c('red','blue')),\n",
    "        names=c('0','1'), \n",
    "    )\n",
    "    text(0.7,95, '30.16%')\n",
    "    text(1.9,95, '69.84%')\n",
    "\n",
    "    x9 <- Tar1[,9]\n",
    "    barplot(x9,\n",
    "       main=colnames(Tar1)[9],\n",
    "        xlab=colnames(Tar1)[9],\n",
    "        ylab='퍼센트',\n",
    "        ylim=c(0,100),\n",
    "        beside=T,\n",
    "        col = rep(c('red','blue')),\n",
    "        names=c('0','1'), \n",
    "    )\n",
    "    text(0.7,95, '37.91%')\n",
    "    text(1.9,95, '62.09%')\n",
    "\n",
    "\n",
    "    x10 <- Tar1[,10]\n",
    "    barplot(x10,\n",
    "       main=colnames(Tar1)[10],\n",
    "        xlab=colnames(Tar1)[10],\n",
    "        ylab='퍼센트',\n",
    "        ylim=c(0,120),\n",
    "        beside=T,\n",
    "        col = rep(c('red','blue')),\n",
    "        names=c('0','1'), \n",
    "    )\n",
    "    text(0.7,110, '20.86%')\n",
    "    text(1.9,95, '79.14%')\n",
    "\n",
    "\n",
    "\n",
    "    x11 <- Tar1[,11]\n",
    "    barplot(x11,\n",
    "       main=colnames(Tar1)[11],\n",
    "        xlab=colnames(Tar1)[11],\n",
    "        ylab='퍼센트',\n",
    "        ylim=c(0,120),\n",
    "        beside=T,\n",
    "        col = rep(c('red','blue')),\n",
    "        names=c('0','1'), \n",
    "    )\n",
    "    text(0.7,95, '4.19%')\n",
    "    text(1.9,110, '95.81%')\n",
    "\n",
    "\n",
    "    x12 <- Tar1[,12]\n",
    "    barplot(x12,\n",
    "       main=colnames(Tar1)[12],\n",
    "        xlab=colnames(Tar1)[12],\n",
    "        ylab='퍼센트',\n",
    "        ylim=c(0,100),\n",
    "        beside=T,\n",
    "        col = rep(c('red','blue')),\n",
    "        names=c('0','1'), \n",
    "    )\n",
    "    text(0.7,95, '90.68%')\n",
    "    text(1.9,95, '9.32%')\n",
    "\n",
    "\n",
    "    x13 <- Tar1[,13]\n",
    "    barplot(x13,\n",
    "       main=colnames(Tar1)[13],\n",
    "        xlab=colnames(Tar1)[13],\n",
    "        ylab='퍼센트',\n",
    "        ylim=c(0,100),\n",
    "        beside=T,\n",
    "        col = rep(c('red','blue')),\n",
    "        names=c('0','1'), \n",
    "    )\n",
    "    text(0.7,95, '72.09%')\n",
    "    text(1.9,95, '27.91%')\n",
    "\n",
    "\n",
    "\n",
    "    x14 <- Tar1[,14]\n",
    "    barplot(x14,\n",
    "       main=colnames(Tar1)[14],\n",
    "        xlab=colnames(Tar1)[14],\n",
    "        ylab='퍼센트',\n",
    "        ylim=c(0,100),\n",
    "        beside=T,\n",
    "        col = rep(c('red','blue')),\n",
    "        names=c('0','1'), \n",
    "    )\n",
    "    text(0.7,95, '50%')\n",
    "    text(1.9,95, '50%')\n",
    "\n",
    "\n"
   ]
  },
  {
   "cell_type": "markdown",
   "id": "92d2b832",
   "metadata": {},
   "source": [
    "> 본 그래프는 HeartDiseaseAttack을 샘플링한 기준 각 컬럼별 퍼센트를 barpolt으로 출력해보았다."
   ]
  },
  {
   "cell_type": "code",
   "execution_count": 45,
   "id": "99e956c5",
   "metadata": {},
   "outputs": [
    {
     "data": {
      "text/html": [
       "8"
      ],
      "text/latex": [
       "8"
      ],
      "text/markdown": [
       "8"
      ],
      "text/plain": [
       "[1] 8"
      ]
     },
     "metadata": {},
     "output_type": "display_data"
    },
    {
     "name": "stdout",
     "output_type": "stream",
     "text": [
      "'data.frame':\t10000 obs. of  8 variables:\n",
      " $ BMI      : num  27 30 20 44 32 28 29 20 19 34 ...\n",
      " $ Diabetes : num  2 2 0 0 0 0 0 0 0 0 ...\n",
      " $ GenHlth  : num  3 3 1 3 2 1 2 3 3 3 ...\n",
      " $ MentHlth : num  0 0 0 0 0 0 0 30 0 0 ...\n",
      " $ PhysHlth : num  30 0 1 0 0 0 0 5 0 0 ...\n",
      " $ Age      : num  12 9 9 9 10 10 4 1 13 4 ...\n",
      " $ Education: num  2 6 6 2 6 6 6 4 6 4 ...\n",
      " $ Income   : num  2 8 8 4 8 4 8 6 8 8 ...\n"
     ]
    }
   ],
   "source": [
    "# 3 이상의 속성 \n",
    "Tar2<-heart_samp[,c(5,8,15:17,20:22)]\n",
    "ncol(Tar2)\n",
    "str(Tar2)"
   ]
  },
  {
   "cell_type": "code",
   "execution_count": 46,
   "id": "cb44c239",
   "metadata": {},
   "outputs": [
    {
     "data": {
      "image/png": "[encoded data removed]",
      "text/plain": [
       "Plot with title \"MentHlth\""
      ]
     },
     "metadata": {},
     "output_type": "display_data"
    },
    {
     "data": {
      "image/png": "[encoded data removed]",
      "text/plain": [
       "Plot with title \"Income\""
      ]
     },
     "metadata": {},
     "output_type": "display_data"
    }
   ],
   "source": [
    "# 각 속성 별로 barplot 출력 \n",
    "par(mfrow=c(2,2))\n",
    "options(warn = -1)\n",
    "par(family = 'AppleGothic')\n",
    "\n",
    "    x15 <- table(Tar2[,1])\n",
    "    barplot(x15,\n",
    "       main=colnames(Tar2)[1],\n",
    "        xlab=colnames(Tar2)[1],\n",
    "        ylab='빈도수',\n",
    "        ylim=c(0,1000),\n",
    "         beside=T,\n",
    "    )\n",
    "\n",
    "    x16 <- table(Tar2[,2])\n",
    "    barplot(x16,\n",
    "       main=colnames(Tar2)[2],\n",
    "        xlab=colnames(Tar2)[2],\n",
    "        ylab='빈도수',\n",
    "        ylim=c(0,10000),\n",
    "         beside=T,\n",
    "    )\n",
    "\n",
    "    x17 <- table(Tar2[,3])\n",
    "    barplot(x17,\n",
    "       main=colnames(Tar2)[3],\n",
    "        xlab=colnames(Tar2)[3],\n",
    "        ylab='빈도수',\n",
    "        ylim=c(0,10000),\n",
    "         beside=T,\n",
    "    )\n",
    "\n",
    "    x18 <- table(Tar2[,4])\n",
    "    barplot(x18,\n",
    "       main=colnames(Tar2)[4],\n",
    "        xlab=colnames(Tar2)[4],\n",
    "        ylab='빈도수',\n",
    "        ylim=c(0,10000),\n",
    "         beside=T,\n",
    "    )\n",
    "\n",
    "    x19 <- table(Tar2[,5])\n",
    "    barplot(x19,\n",
    "       main=colnames(Tar2)[5],\n",
    "        xlab=colnames(Tar2)[5],\n",
    "        ylab='빈도수',\n",
    "        ylim=c(0,10000),\n",
    "         beside=T,\n",
    "    )\n",
    "\n",
    "    x20 <- table(Tar2[,6])\n",
    "    barplot(x20,\n",
    "       main=colnames(Tar2)[6],\n",
    "        xlab=colnames(Tar2)[6],\n",
    "        ylab='빈도수',\n",
    "        ylim=c(0,10000),\n",
    "         beside=T,\n",
    "    )\n",
    "\n",
    "\n",
    "    x21 <- table(Tar2[,7])\n",
    "    barplot(x21,\n",
    "       main=colnames(Tar2)[7],\n",
    "        xlab=colnames(Tar2)[7],\n",
    "        ylab='빈도수',\n",
    "        ylim=c(0,10000),\n",
    "         beside=T,\n",
    "    )\n",
    "\n",
    "\n",
    "    x22 <- table(Tar2[,8])\n",
    "    barplot(x20,\n",
    "       main=colnames(Tar2)[8],\n",
    "        xlab=colnames(Tar2)[8],\n",
    "        ylab='빈도수',\n",
    "        ylim=c(0,10000),\n",
    "         beside=T,\n",
    "    )"
   ]
  },
  {
   "cell_type": "code",
   "execution_count": 48,
   "id": "9aad227b",
   "metadata": {},
   "outputs": [],
   "source": [
    "# 변수 factor 변환\n",
    "heart_samp$HeartDiseaseorAttack <- as.numeric(as.character(heart_samp$HeartDiseaseorAttack))"
   ]
  },
  {
   "cell_type": "code",
   "execution_count": 49,
   "id": "887c6551",
   "metadata": {},
   "outputs": [],
   "source": [
    "# 각 컬럼 환자 심장질환 발생 유/무에 따른 퍼센트\n",
    "cc <- c()\n",
    "dd <- c()\n",
    "ee <- c()\n",
    "for(i in 2:ncol(Target1)){\n",
    "    ee[i] <- nrow(subset(Target1, Target1$HeartDiseaseorAttack == 1 & Target1[,i] == 0)) + nrow(subset(Target1, Target1$HeartDiseaseorAttack == 1 & Target1[,i] == 1))\n",
    "    cc[i] <- round(nrow(subset(Target1, Target1$HeartDiseaseorAttack == 1 & Target1[,i] == 0)) / ee[i] * 100,2)\n",
    "    dd[i] <- round(nrow(subset(Target1, Target1$HeartDiseaseorAttack == 1 & Target1[,i] == 1)) / ee[i] * 100,2)\n",
    "}\n",
    "name<-colnames(Target1)\n"
   ]
  },
  {
   "cell_type": "code",
   "execution_count": 51,
   "id": "07e6c432",
   "metadata": {},
   "outputs": [],
   "source": [
    "Tar3<-rbind(name,cc,dd)"
   ]
  },
  {
   "cell_type": "code",
   "execution_count": 52,
   "id": "abbd97a8",
   "metadata": {},
   "outputs": [],
   "source": [
    "# 불필요한 컬럼 제거 \n",
    "Tar3 <- Tar3[,-c(1)]"
   ]
  },
  {
   "cell_type": "code",
   "execution_count": 53,
   "id": "ca077357",
   "metadata": {},
   "outputs": [],
   "source": [
    "# 열이름 추가 \n",
    "colnames(Tar3) <-Tar3[1,]"
   ]
  },
  {
   "cell_type": "code",
   "execution_count": 54,
   "id": "bf9a318c",
   "metadata": {},
   "outputs": [],
   "source": [
    "# 불필요한 컬럼 제거 \n",
    "Tar3 <- Tar3[-c(1),]"
   ]
  },
  {
   "cell_type": "code",
   "execution_count": 55,
   "id": "c9b02928",
   "metadata": {},
   "outputs": [],
   "source": [
    "# 열이름 추가 \n",
    "rownames(Tar3) <-c(0,1)"
   ]
  },
  {
   "cell_type": "code",
   "execution_count": 56,
   "id": "68af84b3",
   "metadata": {},
   "outputs": [
    {
     "data": {
      "text/html": [
       "<table>\n",
       "<thead><tr><th></th><th scope=col>HighBP</th><th scope=col>HighChol</th><th scope=col>CholCheck</th><th scope=col>Smoker</th><th scope=col>Stroke</th><th scope=col>PhysActivity</th><th scope=col>Fruits</th><th scope=col>Veggies</th><th scope=col>HvyAlcoholConsump</th><th scope=col>AnyHealthcare</th><th scope=col>NoDocbcCost</th><th scope=col>DiffWalk</th><th scope=col>Sex</th></tr></thead>\n",
       "<tbody>\n",
       "\t<tr><th scope=row>0</th><td>24.84</td><td>30.02</td><td>1.32 </td><td>38.22</td><td>83.46</td><td>36.96</td><td>40.14</td><td>23.22</td><td>96.48</td><td>3.46 </td><td>88.98</td><td>58.44</td><td>42.52</td></tr>\n",
       "\t<tr><th scope=row>1</th><td>75.16</td><td>69.98</td><td>98.68</td><td>61.78</td><td>16.54</td><td>63.04</td><td>59.86</td><td>76.78</td><td>3.52 </td><td>96.54</td><td>11.02</td><td>41.56</td><td>57.48</td></tr>\n",
       "</tbody>\n",
       "</table>\n"
      ],
      "text/latex": [
       "\\begin{tabular}{r|lllllllllllll}\n",
       "  & HighBP & HighChol & CholCheck & Smoker & Stroke & PhysActivity & Fruits & Veggies & HvyAlcoholConsump & AnyHealthcare & NoDocbcCost & DiffWalk & Sex\\\\\n",
       "\\hline\n",
       "\t0 & 24.84 & 30.02 & 1.32  & 38.22 & 83.46 & 36.96 & 40.14 & 23.22 & 96.48 & 3.46  & 88.98 & 58.44 & 42.52\\\\\n",
       "\t1 & 75.16 & 69.98 & 98.68 & 61.78 & 16.54 & 63.04 & 59.86 & 76.78 & 3.52  & 96.54 & 11.02 & 41.56 & 57.48\\\\\n",
       "\\end{tabular}\n"
      ],
      "text/markdown": [
       "\n",
       "| <!--/--> | HighBP | HighChol | CholCheck | Smoker | Stroke | PhysActivity | Fruits | Veggies | HvyAlcoholConsump | AnyHealthcare | NoDocbcCost | DiffWalk | Sex |\n",
       "|---|---|---|---|---|---|---|---|---|---|---|---|---|---|\n",
       "| 0 | 24.84 | 30.02 | 1.32  | 38.22 | 83.46 | 36.96 | 40.14 | 23.22 | 96.48 | 3.46  | 88.98 | 58.44 | 42.52 |\n",
       "| 1 | 75.16 | 69.98 | 98.68 | 61.78 | 16.54 | 63.04 | 59.86 | 76.78 | 3.52  | 96.54 | 11.02 | 41.56 | 57.48 |\n",
       "\n"
      ],
      "text/plain": [
       "  HighBP HighChol CholCheck Smoker Stroke PhysActivity Fruits Veggies\n",
       "0 24.84  30.02    1.32      38.22  83.46  36.96        40.14  23.22  \n",
       "1 75.16  69.98    98.68     61.78  16.54  63.04        59.86  76.78  \n",
       "  HvyAlcoholConsump AnyHealthcare NoDocbcCost DiffWalk Sex  \n",
       "0 96.48             3.46          88.98       58.44    42.52\n",
       "1 3.52              96.54         11.02       41.56    57.48"
      ]
     },
     "metadata": {},
     "output_type": "display_data"
    },
    {
     "name": "stdout",
     "output_type": "stream",
     "text": [
      "'data.frame':\t2 obs. of  13 variables:\n",
      " $ HighBP           : num  24.8 75.2\n",
      " $ HighChol         : num  30 70\n",
      " $ CholCheck        : num  1.32 98.68\n",
      " $ Smoker           : num  38.2 61.8\n",
      " $ Stroke           : num  83.5 16.5\n",
      " $ PhysActivity     : num  37 63\n",
      " $ Fruits           : num  40.1 59.9\n",
      " $ Veggies          : num  23.2 76.8\n",
      " $ HvyAlcoholConsump: num  96.48 3.52\n",
      " $ AnyHealthcare    : num  3.46 96.54\n",
      " $ NoDocbcCost      : num  89 11\n",
      " $ DiffWalk         : num  58.4 41.6\n",
      " $ Sex              : num  42.5 57.5\n"
     ]
    }
   ],
   "source": [
    "Tar3\n",
    "Tar3<-as.data.frame(Tar3)\n",
    "for(i in 1:ncol(Tar3)){\n",
    "    Tar3[,i] <- as.numeric(as.character(Tar3[,i]))\n",
    "}\n",
    "str(Tar3)"
   ]
  },
  {
   "cell_type": "code",
   "execution_count": 57,
   "id": "22c7e4ab",
   "metadata": {
    "scrolled": false
   },
   "outputs": [
    {
     "data": {
      "image/png": "[encoded data removed]",
      "text/plain": [
       "Plot with title \"Smoker\""
      ]
     },
     "metadata": {},
     "output_type": "display_data"
    },
    {
     "data": {
      "image/png": "[encoded data removed]",
      "text/plain": [
       "Plot with title \"Veggies\""
      ]
     },
     "metadata": {},
     "output_type": "display_data"
    },
    {
     "data": {
      "image/png": "[encoded data removed]",
      "text/plain": [
       "Plot with title \"DiffWalk\""
      ]
     },
     "metadata": {},
     "output_type": "display_data"
    },
    {
     "data": {
      "image/png": "[encoded data removed]",
      "text/plain": [
       "Plot with title \"Sex\""
      ]
     },
     "metadata": {},
     "output_type": "display_data"
    }
   ],
   "source": [
    "# 각 속성 별로 barplot 출력 \n",
    "library(plotrix)\n",
    "par(mfrow=c(2,2))\n",
    "options(warn = -1)\n",
    "par(family = 'AppleGothic')\n",
    "    \n",
    "\n",
    "    y1 <- Tar3[,1]\n",
    "    barplot(y1,\n",
    "       main=colnames(Tar3)[1],\n",
    "        xlab=colnames(Tar3)[1],\n",
    "        ylab='퍼센트',\n",
    "        ylim=c(0,100),\n",
    "        beside=T,\n",
    "        col = rep(c('red','blue')),\n",
    "        names=c('0','1'),\n",
    "        legend.text=T,\n",
    "    )\n",
    "    text(0.7,95, '27.23%')\n",
    "    text(1.9,95, '72.77%')\n",
    "         \n",
    "\n",
    "    y2 <- Tar3[,2]\n",
    "    barplot(y2,\n",
    "       main=colnames(Tar3)[2],\n",
    "        xlab=colnames(Tar3)[2],\n",
    "        ylab='퍼센트',\n",
    "        ylim=c(0,100),\n",
    "        beside=T,\n",
    "        col = rep(c('red','blue')),\n",
    "        names=c('0','1'), \n",
    "    )\n",
    "    text(0.7,95, '31.58%')\n",
    "    text(1.9,95, '68.42%')\n",
    "\n",
    "\n",
    "    y3 <- Tar3[,3]\n",
    "    barplot(y3,\n",
    "       main=colnames(Tar3)[3],\n",
    "        xlab=colnames(Tar3)[3],\n",
    "        ylab='퍼센트',\n",
    "        ylim=c(0,120),\n",
    "        beside=T,\n",
    "        col = rep(c('red','blue')),\n",
    "        names=c('0','1'), \n",
    "    )\n",
    "    text(0.7,95, '1.11%')\n",
    "    text(1.9,110, '98.89%')\n",
    "\n",
    "\n",
    "    y4 <- Tar3[,4]\n",
    "    barplot(y4,\n",
    "       main=colnames(Tar3)[4],\n",
    "        xlab=colnames(Tar3)[4],\n",
    "        ylab='퍼센트',\n",
    "        ylim=c(0,120),\n",
    "        beside=T,\n",
    "        col = rep(c('red','blue')),\n",
    "        names=c('0','1'), \n",
    "    )\n",
    "    text(0.7,95, '39.17%')\n",
    "    text(1.9,110, '60.83%')\n",
    "\n",
    "    y5 <- Tar3[,5]\n",
    "    barplot(y5,\n",
    "       main=colnames(Tar3)[5],\n",
    "        xlab=colnames(Tar3)[5],\n",
    "        ylab='퍼센트',\n",
    "        ylim=c(0,100),\n",
    "        beside=T,\n",
    "        col = rep(c('red','blue')),\n",
    "        names=c('0','1'), \n",
    "    )\n",
    "    text(0.7,95, '82.39%')\n",
    "    text(1.9,95, '17.61%')\n",
    "\n",
    "    y6 <- Tar3[,6]\n",
    "    barplot(y6,\n",
    "       main=colnames(Tar3)[6],\n",
    "        xlab=colnames(Tar3)[6],\n",
    "        ylab='퍼센트',\n",
    "        ylim=c(0,120),\n",
    "        beside=T,\n",
    "        col = rep(c('red','blue')),\n",
    "        names=c('0','1'), \n",
    "    )\n",
    "    text(0.7,110, '36.64%')\n",
    "    text(1.9,95, '63.36%')\n",
    "\n",
    "    y7 <- Tar3[,7]\n",
    "    barplot(y7,\n",
    "       main=colnames(Tar3)[7],\n",
    "        xlab=colnames(Tar3)[7],\n",
    "        ylab='퍼센트',\n",
    "        ylim=c(0,100),\n",
    "        beside=T,\n",
    "        col = rep(c('red','blue')),\n",
    "        names=c('0','1'), \n",
    "    )\n",
    "    text(0.7,95, '38.66%')\n",
    "    text(1.9,95, '61.34%')\n",
    "\n",
    "    y8 <- Tar3[,8]\n",
    "    barplot(y8,\n",
    "       main=colnames(Tar3)[8],\n",
    "        xlab=colnames(Tar3)[8],\n",
    "        ylab='퍼센트',\n",
    "        ylim=c(0,100),\n",
    "        beside=T,\n",
    "        col = rep(c('red','blue')),\n",
    "        names=c('0','1'), \n",
    "    )\n",
    "    text(0.7,95, '24.19%')\n",
    "    text(1.9,95, '75.81%')\n",
    "\n",
    "    y9 <- Tar3[,9]\n",
    "    barplot(y9,\n",
    "       main=colnames(Tar3)[9],\n",
    "        xlab=colnames(Tar3)[9],\n",
    "        ylab='퍼센트',\n",
    "        ylim=c(0,120),\n",
    "        beside=T,\n",
    "        col = rep(c('red','blue')),\n",
    "        names=c('0','1'), \n",
    "    )\n",
    "    text(0.7,110, '96.46%')\n",
    "    text(1.9,95, '3.54%')\n",
    "\n",
    "\n",
    "    y10 <- Tar3[,10]\n",
    "    barplot(y10,\n",
    "       main=colnames(Tar3)[10],\n",
    "        xlab=colnames(Tar3)[10],\n",
    "        ylab='퍼센트',\n",
    "        ylim=c(0,120),\n",
    "        beside=T,\n",
    "        col = rep(c('red','blue')),\n",
    "        names=c('0','1'), \n",
    "    )\n",
    "    text(0.7,95, '4.76%')\n",
    "    text(1.9,110, '95.24%')\n",
    "\n",
    "\n",
    "\n",
    "    y11 <- Tar3[,11]\n",
    "    barplot(y11,\n",
    "       main=colnames(Tar3)[11],\n",
    "        xlab=colnames(Tar3)[11],\n",
    "        ylab='퍼센트',\n",
    "        ylim=c(0,120),\n",
    "        beside=T,\n",
    "        col = rep(c('red','blue')),\n",
    "        names=c('0','1'), \n",
    "    )\n",
    "    text(0.7,95, '89.47%')\n",
    "    text(1.9,110, '10.53%')\n",
    "\n",
    "\n",
    "    y12 <- Tar3[,12]\n",
    "    barplot(y12,\n",
    "       main=colnames(Tar3)[12],\n",
    "        xlab=colnames(Tar3)[12],\n",
    "        ylab='퍼센트',\n",
    "        ylim=c(0,100),\n",
    "        beside=T,\n",
    "        col = rep(c('red','blue')),\n",
    "        names=c('0','1'), \n",
    "    )\n",
    "    text(0.7,95, '56.28%')\n",
    "    text(1.9,95, '43.72%')\n",
    "\n",
    "\n",
    "    y13 <- Tar3[,13]\n",
    "    barplot(y13,\n",
    "       main=colnames(Tar3)[13],\n",
    "        xlab=colnames(Tar3)[13],\n",
    "        ylab='퍼센트',\n",
    "        ylim=c(0,100),\n",
    "        beside=T,\n",
    "        col = rep(c('red','blue')),\n",
    "        names=c('0','1'), \n",
    "    )\n",
    "    text(0.7,95, '42.71%')\n",
    "    text(1.9,95, '57.29%')\n"
   ]
  },
  {
   "cell_type": "code",
   "execution_count": 58,
   "id": "7e9e6e0e",
   "metadata": {},
   "outputs": [
    {
     "data": {
      "text/html": [
       "9"
      ],
      "text/latex": [
       "9"
      ],
      "text/markdown": [
       "9"
      ],
      "text/plain": [
       "[1] 9"
      ]
     },
     "metadata": {},
     "output_type": "display_data"
    },
    {
     "name": "stdout",
     "output_type": "stream",
     "text": [
      "'data.frame':\t10000 obs. of  9 variables:\n",
      " $ BMI                 : num  27 30 20 44 32 28 29 20 19 34 ...\n",
      " $ Diabetes            : num  2 2 0 0 0 0 0 0 0 0 ...\n",
      " $ GenHlth             : num  3 3 1 3 2 1 2 3 3 3 ...\n",
      " $ MentHlth            : num  0 0 0 0 0 0 0 30 0 0 ...\n",
      " $ PhysHlth            : num  30 0 1 0 0 0 0 5 0 0 ...\n",
      " $ Age                 : num  12 9 9 9 10 10 4 1 13 4 ...\n",
      " $ Education           : num  2 6 6 2 6 6 6 4 6 4 ...\n",
      " $ Income              : num  2 8 8 4 8 4 8 6 8 8 ...\n",
      " $ HeartDiseaseorAttack: num  0 0 0 0 0 0 0 0 0 0 ...\n"
     ]
    }
   ],
   "source": [
    "# 3 이상의 속성 환자 심장질환 발생 유/무 \n",
    "Tar4<-heart_samp[,c(5,8,15:17,20:22)]\n",
    "Tar4$HeartDiseaseorAttack <- heart_samp$HeartDiseaseorAttack\n",
    "ncol(Tar4)\n",
    "str(Tar4)"
   ]
  },
  {
   "cell_type": "code",
   "execution_count": 59,
   "id": "e7c04386",
   "metadata": {},
   "outputs": [],
   "source": [
    "# bmi 저체충, 정상, 과체중 이상 데이터 분류 \n",
    "a1 <- Tar4[,1]\n",
    "for(i in 1:nrow(Tar4)){\n",
    "    if(a1[i] <= 18.4){\n",
    "        a1[i] = 0\n",
    "    }\n",
    "    \n",
    "    else if(a1[i] >= 18.5 & a1[i] <= 22.9){\n",
    "        a1[i] = 1\n",
    "    }\n",
    "    else{\n",
    "        a1[i] = 2\n",
    "    }\n",
    "}\n",
    "Tar4$Nbmi <- a1"
   ]
  },
  {
   "cell_type": "code",
   "execution_count": 60,
   "id": "b6901eca",
   "metadata": {
    "scrolled": true
   },
   "outputs": [
    {
     "data": {
      "text/html": [
       "<table>\n",
       "<thead><tr><th></th><th scope=col>BMI</th><th scope=col>Diabetes</th><th scope=col>GenHlth</th><th scope=col>MentHlth</th><th scope=col>PhysHlth</th><th scope=col>Age</th><th scope=col>Education</th><th scope=col>Income</th><th scope=col>HeartDiseaseorAttack</th><th scope=col>Nbmi</th></tr></thead>\n",
       "<tbody>\n",
       "\t<tr><th scope=row>106390</th><td>27</td><td>2 </td><td>3 </td><td> 0</td><td>30</td><td>12</td><td>2 </td><td>2 </td><td>0 </td><td>2 </td></tr>\n",
       "\t<tr><th scope=row>41964</th><td>30</td><td>2 </td><td>3 </td><td> 0</td><td> 0</td><td> 9</td><td>6 </td><td>8 </td><td>0 </td><td>2 </td></tr>\n",
       "\t<tr><th scope=row>146313</th><td>20</td><td>0 </td><td>1 </td><td> 0</td><td> 1</td><td> 9</td><td>6 </td><td>8 </td><td>0 </td><td>1 </td></tr>\n",
       "\t<tr><th scope=row>33702</th><td>44</td><td>0 </td><td>3 </td><td> 0</td><td> 0</td><td> 9</td><td>2 </td><td>4 </td><td>0 </td><td>2 </td></tr>\n",
       "\t<tr><th scope=row>126055</th><td>32</td><td>0 </td><td>2 </td><td> 0</td><td> 0</td><td>10</td><td>6 </td><td>8 </td><td>0 </td><td>2 </td></tr>\n",
       "\t<tr><th scope=row>120410</th><td>28</td><td>0 </td><td>1 </td><td> 0</td><td> 0</td><td>10</td><td>6 </td><td>4 </td><td>0 </td><td>2 </td></tr>\n",
       "\t<tr><th scope=row>83023</th><td>29</td><td>0 </td><td>2 </td><td> 0</td><td> 0</td><td> 4</td><td>6 </td><td>8 </td><td>0 </td><td>2 </td></tr>\n",
       "\t<tr><th scope=row>80756</th><td>20</td><td>0 </td><td>3 </td><td>30</td><td> 5</td><td> 1</td><td>4 </td><td>6 </td><td>0 </td><td>1 </td></tr>\n",
       "\t<tr><th scope=row>85374</th><td>19</td><td>0 </td><td>3 </td><td> 0</td><td> 0</td><td>13</td><td>6 </td><td>8 </td><td>0 </td><td>1 </td></tr>\n",
       "\t<tr><th scope=row>199230</th><td>34</td><td>0 </td><td>3 </td><td> 0</td><td> 0</td><td> 4</td><td>4 </td><td>8 </td><td>0 </td><td>2 </td></tr>\n",
       "\t<tr><th scope=row>59944</th><td>23</td><td>0 </td><td>2 </td><td> 0</td><td> 0</td><td> 7</td><td>4 </td><td>6 </td><td>0 </td><td>2 </td></tr>\n",
       "\t<tr><th scope=row>199608</th><td>26</td><td>0 </td><td>1 </td><td> 0</td><td> 0</td><td>11</td><td>6 </td><td>8 </td><td>0 </td><td>2 </td></tr>\n",
       "\t<tr><th scope=row>148452</th><td>30</td><td>0 </td><td>2 </td><td> 0</td><td> 2</td><td> 7</td><td>6 </td><td>8 </td><td>0 </td><td>2 </td></tr>\n",
       "\t<tr><th scope=row>164319</th><td>49</td><td>0 </td><td>4 </td><td>10</td><td> 3</td><td> 9</td><td>5 </td><td>6 </td><td>0 </td><td>2 </td></tr>\n",
       "\t<tr><th scope=row>49786</th><td>22</td><td>0 </td><td>2 </td><td> 1</td><td> 0</td><td> 3</td><td>5 </td><td>8 </td><td>0 </td><td>1 </td></tr>\n",
       "\t<tr><th scope=row>16962</th><td>25</td><td>0 </td><td>2 </td><td>30</td><td> 0</td><td> 5</td><td>5 </td><td>8 </td><td>0 </td><td>2 </td></tr>\n",
       "\t<tr><th scope=row>118447</th><td>25</td><td>0 </td><td>3 </td><td> 0</td><td> 4</td><td> 8</td><td>5 </td><td>6 </td><td>0 </td><td>2 </td></tr>\n",
       "\t<tr><th scope=row>229507</th><td>25</td><td>0 </td><td>3 </td><td> 0</td><td> 0</td><td> 4</td><td>4 </td><td>4 </td><td>0 </td><td>2 </td></tr>\n",
       "\t<tr><th scope=row>162857</th><td>30</td><td>0 </td><td>3 </td><td> 0</td><td> 0</td><td>10</td><td>4 </td><td>2 </td><td>0 </td><td>2 </td></tr>\n",
       "\t<tr><th scope=row>181238</th><td>26</td><td>0 </td><td>4 </td><td> 0</td><td> 1</td><td>10</td><td>6 </td><td>6 </td><td>0 </td><td>2 </td></tr>\n",
       "\t<tr><th scope=row>216904</th><td>39</td><td>0 </td><td>3 </td><td> 0</td><td> 3</td><td> 7</td><td>3 </td><td>7 </td><td>0 </td><td>2 </td></tr>\n",
       "\t<tr><th scope=row>229674</th><td>32</td><td>0 </td><td>1 </td><td> 0</td><td> 0</td><td> 5</td><td>4 </td><td>3 </td><td>0 </td><td>2 </td></tr>\n",
       "\t<tr><th scope=row>164098</th><td>30</td><td>0 </td><td>3 </td><td> 0</td><td> 2</td><td> 1</td><td>4 </td><td>5 </td><td>0 </td><td>2 </td></tr>\n",
       "\t<tr><th scope=row>49231</th><td>23</td><td>0 </td><td>2 </td><td> 0</td><td> 0</td><td> 8</td><td>4 </td><td>4 </td><td>0 </td><td>2 </td></tr>\n",
       "\t<tr><th scope=row>121137</th><td>22</td><td>0 </td><td>2 </td><td> 0</td><td> 0</td><td> 8</td><td>5 </td><td>8 </td><td>0 </td><td>1 </td></tr>\n",
       "\t<tr><th scope=row>68280</th><td>21</td><td>0 </td><td>1 </td><td> 1</td><td> 0</td><td> 3</td><td>6 </td><td>7 </td><td>0 </td><td>1 </td></tr>\n",
       "\t<tr><th scope=row>131974</th><td>23</td><td>2 </td><td>1 </td><td> 0</td><td> 0</td><td>11</td><td>6 </td><td>8 </td><td>0 </td><td>2 </td></tr>\n",
       "\t<tr><th scope=row>46301</th><td>38</td><td>0 </td><td>2 </td><td>15</td><td> 0</td><td> 4</td><td>5 </td><td>8 </td><td>0 </td><td>2 </td></tr>\n",
       "\t<tr><th scope=row>37000</th><td>24</td><td>0 </td><td>2 </td><td> 2</td><td> 0</td><td>10</td><td>6 </td><td>8 </td><td>0 </td><td>2 </td></tr>\n",
       "\t<tr><th scope=row>124049</th><td>31</td><td>0 </td><td>2 </td><td> 0</td><td> 0</td><td> 7</td><td>5 </td><td>8 </td><td>0 </td><td>2 </td></tr>\n",
       "\t<tr><th scope=row>...</th><td>...</td><td>...</td><td>...</td><td>...</td><td>...</td><td>...</td><td>...</td><td>...</td><td>...</td><td>...</td></tr>\n",
       "\t<tr><th scope=row>244683</th><td>39</td><td>2 </td><td>4 </td><td> 0</td><td>15</td><td>11</td><td>4 </td><td>7 </td><td>1 </td><td>2 </td></tr>\n",
       "\t<tr><th scope=row>240959</th><td>23</td><td>2 </td><td>3 </td><td> 0</td><td> 0</td><td>10</td><td>5 </td><td>7 </td><td>1 </td><td>2 </td></tr>\n",
       "\t<tr><th scope=row>238553</th><td>33</td><td>1 </td><td>2 </td><td> 0</td><td> 0</td><td>13</td><td>5 </td><td>7 </td><td>1 </td><td>2 </td></tr>\n",
       "\t<tr><th scope=row>249442</th><td>29</td><td>0 </td><td>3 </td><td> 0</td><td> 0</td><td>10</td><td>5 </td><td>8 </td><td>1 </td><td>2 </td></tr>\n",
       "\t<tr><th scope=row>245195</th><td>27</td><td>1 </td><td>3 </td><td> 0</td><td> 0</td><td> 8</td><td>5 </td><td>4 </td><td>1 </td><td>2 </td></tr>\n",
       "\t<tr><th scope=row>242802</th><td>26</td><td>0 </td><td>5 </td><td>30</td><td>15</td><td> 8</td><td>4 </td><td>3 </td><td>1 </td><td>2 </td></tr>\n",
       "\t<tr><th scope=row>243773</th><td>25</td><td>0 </td><td>5 </td><td>15</td><td>30</td><td> 9</td><td>5 </td><td>4 </td><td>1 </td><td>2 </td></tr>\n",
       "\t<tr><th scope=row>240124</th><td>36</td><td>0 </td><td>2 </td><td> 0</td><td> 0</td><td>11</td><td>5 </td><td>7 </td><td>1 </td><td>2 </td></tr>\n",
       "\t<tr><th scope=row>233470</th><td>34</td><td>0 </td><td>3 </td><td> 5</td><td>10</td><td>10</td><td>5 </td><td>1 </td><td>1 </td><td>2 </td></tr>\n",
       "\t<tr><th scope=row>232173</th><td>27</td><td>2 </td><td>1 </td><td> 0</td><td> 0</td><td>10</td><td>3 </td><td>1 </td><td>1 </td><td>2 </td></tr>\n",
       "\t<tr><th scope=row>247616</th><td>30</td><td>2 </td><td>3 </td><td> 0</td><td> 0</td><td>11</td><td>5 </td><td>3 </td><td>1 </td><td>2 </td></tr>\n",
       "\t<tr><th scope=row>239527</th><td>22</td><td>0 </td><td>5 </td><td>30</td><td>30</td><td>11</td><td>4 </td><td>8 </td><td>1 </td><td>1 </td></tr>\n",
       "\t<tr><th scope=row>245771</th><td>35</td><td>2 </td><td>3 </td><td> 0</td><td> 0</td><td>12</td><td>4 </td><td>4 </td><td>1 </td><td>2 </td></tr>\n",
       "\t<tr><th scope=row>241002</th><td>25</td><td>2 </td><td>3 </td><td> 0</td><td> 1</td><td>11</td><td>4 </td><td>6 </td><td>1 </td><td>2 </td></tr>\n",
       "\t<tr><th scope=row>231445</th><td>22</td><td>0 </td><td>2 </td><td>20</td><td> 5</td><td> 4</td><td>6 </td><td>4 </td><td>1 </td><td>1 </td></tr>\n",
       "\t<tr><th scope=row>237618</th><td>24</td><td>0 </td><td>4 </td><td>15</td><td>10</td><td>11</td><td>4 </td><td>3 </td><td>1 </td><td>2 </td></tr>\n",
       "\t<tr><th scope=row>252662</th><td>31</td><td>2 </td><td>4 </td><td> 0</td><td>10</td><td>11</td><td>5 </td><td>4 </td><td>1 </td><td>2 </td></tr>\n",
       "\t<tr><th scope=row>237502</th><td>37</td><td>2 </td><td>4 </td><td> 0</td><td> 0</td><td>11</td><td>5 </td><td>7 </td><td>1 </td><td>2 </td></tr>\n",
       "\t<tr><th scope=row>237205</th><td>18</td><td>0 </td><td>5 </td><td>30</td><td>30</td><td> 9</td><td>4 </td><td>2 </td><td>1 </td><td>0 </td></tr>\n",
       "\t<tr><th scope=row>240523</th><td>28</td><td>0 </td><td>4 </td><td> 0</td><td>20</td><td>10</td><td>6 </td><td>7 </td><td>1 </td><td>2 </td></tr>\n",
       "\t<tr><th scope=row>237597</th><td>37</td><td>0 </td><td>3 </td><td> 3</td><td> 0</td><td> 9</td><td>5 </td><td>8 </td><td>1 </td><td>2 </td></tr>\n",
       "\t<tr><th scope=row>242992</th><td>28</td><td>0 </td><td>4 </td><td> 0</td><td> 4</td><td>13</td><td>5 </td><td>5 </td><td>1 </td><td>2 </td></tr>\n",
       "\t<tr><th scope=row>253194</th><td>29</td><td>2 </td><td>3 </td><td> 0</td><td> 0</td><td>10</td><td>5 </td><td>7 </td><td>1 </td><td>2 </td></tr>\n",
       "\t<tr><th scope=row>235009</th><td>22</td><td>0 </td><td>4 </td><td> 0</td><td>30</td><td>13</td><td>4 </td><td>6 </td><td>1 </td><td>1 </td></tr>\n",
       "\t<tr><th scope=row>247651</th><td>39</td><td>2 </td><td>2 </td><td> 0</td><td> 0</td><td>11</td><td>4 </td><td>5 </td><td>1 </td><td>2 </td></tr>\n",
       "\t<tr><th scope=row>250341</th><td>24</td><td>0 </td><td>2 </td><td> 0</td><td> 0</td><td>13</td><td>5 </td><td>8 </td><td>1 </td><td>2 </td></tr>\n",
       "\t<tr><th scope=row>248862</th><td>23</td><td>2 </td><td>5 </td><td> 0</td><td> 0</td><td> 8</td><td>4 </td><td>3 </td><td>1 </td><td>2 </td></tr>\n",
       "\t<tr><th scope=row>230494</th><td>26</td><td>0 </td><td>2 </td><td> 0</td><td> 0</td><td> 8</td><td>4 </td><td>7 </td><td>1 </td><td>2 </td></tr>\n",
       "\t<tr><th scope=row>247873</th><td>31</td><td>0 </td><td>4 </td><td> 0</td><td> 0</td><td> 7</td><td>4 </td><td>6 </td><td>1 </td><td>2 </td></tr>\n",
       "\t<tr><th scope=row>241126</th><td>30</td><td>0 </td><td>3 </td><td>10</td><td>10</td><td> 9</td><td>4 </td><td>5 </td><td>1 </td><td>2 </td></tr>\n",
       "</tbody>\n",
       "</table>\n"
      ],
      "text/latex": [
       "\\begin{tabular}{r|llllllllll}\n",
       "  & BMI & Diabetes & GenHlth & MentHlth & PhysHlth & Age & Education & Income & HeartDiseaseorAttack & Nbmi\\\\\n",
       "\\hline\n",
       "\t106390 & 27 & 2  & 3  &  0 & 30 & 12 & 2  & 2  & 0  & 2 \\\\\n",
       "\t41964 & 30 & 2  & 3  &  0 &  0 &  9 & 6  & 8  & 0  & 2 \\\\\n",
       "\t146313 & 20 & 0  & 1  &  0 &  1 &  9 & 6  & 8  & 0  & 1 \\\\\n",
       "\t33702 & 44 & 0  & 3  &  0 &  0 &  9 & 2  & 4  & 0  & 2 \\\\\n",
       "\t126055 & 32 & 0  & 2  &  0 &  0 & 10 & 6  & 8  & 0  & 2 \\\\\n",
       "\t120410 & 28 & 0  & 1  &  0 &  0 & 10 & 6  & 4  & 0  & 2 \\\\\n",
       "\t83023 & 29 & 0  & 2  &  0 &  0 &  4 & 6  & 8  & 0  & 2 \\\\\n",
       "\t80756 & 20 & 0  & 3  & 30 &  5 &  1 & 4  & 6  & 0  & 1 \\\\\n",
       "\t85374 & 19 & 0  & 3  &  0 &  0 & 13 & 6  & 8  & 0  & 1 \\\\\n",
       "\t199230 & 34 & 0  & 3  &  0 &  0 &  4 & 4  & 8  & 0  & 2 \\\\\n",
       "\t59944 & 23 & 0  & 2  &  0 &  0 &  7 & 4  & 6  & 0  & 2 \\\\\n",
       "\t199608 & 26 & 0  & 1  &  0 &  0 & 11 & 6  & 8  & 0  & 2 \\\\\n",
       "\t148452 & 30 & 0  & 2  &  0 &  2 &  7 & 6  & 8  & 0  & 2 \\\\\n",
       "\t164319 & 49 & 0  & 4  & 10 &  3 &  9 & 5  & 6  & 0  & 2 \\\\\n",
       "\t49786 & 22 & 0  & 2  &  1 &  0 &  3 & 5  & 8  & 0  & 1 \\\\\n",
       "\t16962 & 25 & 0  & 2  & 30 &  0 &  5 & 5  & 8  & 0  & 2 \\\\\n",
       "\t118447 & 25 & 0  & 3  &  0 &  4 &  8 & 5  & 6  & 0  & 2 \\\\\n",
       "\t229507 & 25 & 0  & 3  &  0 &  0 &  4 & 4  & 4  & 0  & 2 \\\\\n",
       "\t162857 & 30 & 0  & 3  &  0 &  0 & 10 & 4  & 2  & 0  & 2 \\\\\n",
       "\t181238 & 26 & 0  & 4  &  0 &  1 & 10 & 6  & 6  & 0  & 2 \\\\\n",
       "\t216904 & 39 & 0  & 3  &  0 &  3 &  7 & 3  & 7  & 0  & 2 \\\\\n",
       "\t229674 & 32 & 0  & 1  &  0 &  0 &  5 & 4  & 3  & 0  & 2 \\\\\n",
       "\t164098 & 30 & 0  & 3  &  0 &  2 &  1 & 4  & 5  & 0  & 2 \\\\\n",
       "\t49231 & 23 & 0  & 2  &  0 &  0 &  8 & 4  & 4  & 0  & 2 \\\\\n",
       "\t121137 & 22 & 0  & 2  &  0 &  0 &  8 & 5  & 8  & 0  & 1 \\\\\n",
       "\t68280 & 21 & 0  & 1  &  1 &  0 &  3 & 6  & 7  & 0  & 1 \\\\\n",
       "\t131974 & 23 & 2  & 1  &  0 &  0 & 11 & 6  & 8  & 0  & 2 \\\\\n",
       "\t46301 & 38 & 0  & 2  & 15 &  0 &  4 & 5  & 8  & 0  & 2 \\\\\n",
       "\t37000 & 24 & 0  & 2  &  2 &  0 & 10 & 6  & 8  & 0  & 2 \\\\\n",
       "\t124049 & 31 & 0  & 2  &  0 &  0 &  7 & 5  & 8  & 0  & 2 \\\\\n",
       "\t... & ... & ... & ... & ... & ... & ... & ... & ... & ... & ...\\\\\n",
       "\t244683 & 39 & 2  & 4  &  0 & 15 & 11 & 4  & 7  & 1  & 2 \\\\\n",
       "\t240959 & 23 & 2  & 3  &  0 &  0 & 10 & 5  & 7  & 1  & 2 \\\\\n",
       "\t238553 & 33 & 1  & 2  &  0 &  0 & 13 & 5  & 7  & 1  & 2 \\\\\n",
       "\t249442 & 29 & 0  & 3  &  0 &  0 & 10 & 5  & 8  & 1  & 2 \\\\\n",
       "\t245195 & 27 & 1  & 3  &  0 &  0 &  8 & 5  & 4  & 1  & 2 \\\\\n",
       "\t242802 & 26 & 0  & 5  & 30 & 15 &  8 & 4  & 3  & 1  & 2 \\\\\n",
       "\t243773 & 25 & 0  & 5  & 15 & 30 &  9 & 5  & 4  & 1  & 2 \\\\\n",
       "\t240124 & 36 & 0  & 2  &  0 &  0 & 11 & 5  & 7  & 1  & 2 \\\\\n",
       "\t233470 & 34 & 0  & 3  &  5 & 10 & 10 & 5  & 1  & 1  & 2 \\\\\n",
       "\t232173 & 27 & 2  & 1  &  0 &  0 & 10 & 3  & 1  & 1  & 2 \\\\\n",
       "\t247616 & 30 & 2  & 3  &  0 &  0 & 11 & 5  & 3  & 1  & 2 \\\\\n",
       "\t239527 & 22 & 0  & 5  & 30 & 30 & 11 & 4  & 8  & 1  & 1 \\\\\n",
       "\t245771 & 35 & 2  & 3  &  0 &  0 & 12 & 4  & 4  & 1  & 2 \\\\\n",
       "\t241002 & 25 & 2  & 3  &  0 &  1 & 11 & 4  & 6  & 1  & 2 \\\\\n",
       "\t231445 & 22 & 0  & 2  & 20 &  5 &  4 & 6  & 4  & 1  & 1 \\\\\n",
       "\t237618 & 24 & 0  & 4  & 15 & 10 & 11 & 4  & 3  & 1  & 2 \\\\\n",
       "\t252662 & 31 & 2  & 4  &  0 & 10 & 11 & 5  & 4  & 1  & 2 \\\\\n",
       "\t237502 & 37 & 2  & 4  &  0 &  0 & 11 & 5  & 7  & 1  & 2 \\\\\n",
       "\t237205 & 18 & 0  & 5  & 30 & 30 &  9 & 4  & 2  & 1  & 0 \\\\\n",
       "\t240523 & 28 & 0  & 4  &  0 & 20 & 10 & 6  & 7  & 1  & 2 \\\\\n",
       "\t237597 & 37 & 0  & 3  &  3 &  0 &  9 & 5  & 8  & 1  & 2 \\\\\n",
       "\t242992 & 28 & 0  & 4  &  0 &  4 & 13 & 5  & 5  & 1  & 2 \\\\\n",
       "\t253194 & 29 & 2  & 3  &  0 &  0 & 10 & 5  & 7  & 1  & 2 \\\\\n",
       "\t235009 & 22 & 0  & 4  &  0 & 30 & 13 & 4  & 6  & 1  & 1 \\\\\n",
       "\t247651 & 39 & 2  & 2  &  0 &  0 & 11 & 4  & 5  & 1  & 2 \\\\\n",
       "\t250341 & 24 & 0  & 2  &  0 &  0 & 13 & 5  & 8  & 1  & 2 \\\\\n",
       "\t248862 & 23 & 2  & 5  &  0 &  0 &  8 & 4  & 3  & 1  & 2 \\\\\n",
       "\t230494 & 26 & 0  & 2  &  0 &  0 &  8 & 4  & 7  & 1  & 2 \\\\\n",
       "\t247873 & 31 & 0  & 4  &  0 &  0 &  7 & 4  & 6  & 1  & 2 \\\\\n",
       "\t241126 & 30 & 0  & 3  & 10 & 10 &  9 & 4  & 5  & 1  & 2 \\\\\n",
       "\\end{tabular}\n"
      ],
      "text/markdown": [
       "\n",
       "| <!--/--> | BMI | Diabetes | GenHlth | MentHlth | PhysHlth | Age | Education | Income | HeartDiseaseorAttack | Nbmi |\n",
       "|---|---|---|---|---|---|---|---|---|---|---|\n",
       "| 106390 | 27 | 2  | 3  |  0 | 30 | 12 | 2  | 2  | 0  | 2  |\n",
       "| 41964 | 30 | 2  | 3  |  0 |  0 |  9 | 6  | 8  | 0  | 2  |\n",
       "| 146313 | 20 | 0  | 1  |  0 |  1 |  9 | 6  | 8  | 0  | 1  |\n",
       "| 33702 | 44 | 0  | 3  |  0 |  0 |  9 | 2  | 4  | 0  | 2  |\n",
       "| 126055 | 32 | 0  | 2  |  0 |  0 | 10 | 6  | 8  | 0  | 2  |\n",
       "| 120410 | 28 | 0  | 1  |  0 |  0 | 10 | 6  | 4  | 0  | 2  |\n",
       "| 83023 | 29 | 0  | 2  |  0 |  0 |  4 | 6  | 8  | 0  | 2  |\n",
       "| 80756 | 20 | 0  | 3  | 30 |  5 |  1 | 4  | 6  | 0  | 1  |\n",
       "| 85374 | 19 | 0  | 3  |  0 |  0 | 13 | 6  | 8  | 0  | 1  |\n",
       "| 199230 | 34 | 0  | 3  |  0 |  0 |  4 | 4  | 8  | 0  | 2  |\n",
       "| 59944 | 23 | 0  | 2  |  0 |  0 |  7 | 4  | 6  | 0  | 2  |\n",
       "| 199608 | 26 | 0  | 1  |  0 |  0 | 11 | 6  | 8  | 0  | 2  |\n",
       "| 148452 | 30 | 0  | 2  |  0 |  2 |  7 | 6  | 8  | 0  | 2  |\n",
       "| 164319 | 49 | 0  | 4  | 10 |  3 |  9 | 5  | 6  | 0  | 2  |\n",
       "| 49786 | 22 | 0  | 2  |  1 |  0 |  3 | 5  | 8  | 0  | 1  |\n",
       "| 16962 | 25 | 0  | 2  | 30 |  0 |  5 | 5  | 8  | 0  | 2  |\n",
       "| 118447 | 25 | 0  | 3  |  0 |  4 |  8 | 5  | 6  | 0  | 2  |\n",
       "| 229507 | 25 | 0  | 3  |  0 |  0 |  4 | 4  | 4  | 0  | 2  |\n",
       "| 162857 | 30 | 0  | 3  |  0 |  0 | 10 | 4  | 2  | 0  | 2  |\n",
       "| 181238 | 26 | 0  | 4  |  0 |  1 | 10 | 6  | 6  | 0  | 2  |\n",
       "| 216904 | 39 | 0  | 3  |  0 |  3 |  7 | 3  | 7  | 0  | 2  |\n",
       "| 229674 | 32 | 0  | 1  |  0 |  0 |  5 | 4  | 3  | 0  | 2  |\n",
       "| 164098 | 30 | 0  | 3  |  0 |  2 |  1 | 4  | 5  | 0  | 2  |\n",
       "| 49231 | 23 | 0  | 2  |  0 |  0 |  8 | 4  | 4  | 0  | 2  |\n",
       "| 121137 | 22 | 0  | 2  |  0 |  0 |  8 | 5  | 8  | 0  | 1  |\n",
       "| 68280 | 21 | 0  | 1  |  1 |  0 |  3 | 6  | 7  | 0  | 1  |\n",
       "| 131974 | 23 | 2  | 1  |  0 |  0 | 11 | 6  | 8  | 0  | 2  |\n",
       "| 46301 | 38 | 0  | 2  | 15 |  0 |  4 | 5  | 8  | 0  | 2  |\n",
       "| 37000 | 24 | 0  | 2  |  2 |  0 | 10 | 6  | 8  | 0  | 2  |\n",
       "| 124049 | 31 | 0  | 2  |  0 |  0 |  7 | 5  | 8  | 0  | 2  |\n",
       "| ... | ... | ... | ... | ... | ... | ... | ... | ... | ... | ... |\n",
       "| 244683 | 39 | 2  | 4  |  0 | 15 | 11 | 4  | 7  | 1  | 2  |\n",
       "| 240959 | 23 | 2  | 3  |  0 |  0 | 10 | 5  | 7  | 1  | 2  |\n",
       "| 238553 | 33 | 1  | 2  |  0 |  0 | 13 | 5  | 7  | 1  | 2  |\n",
       "| 249442 | 29 | 0  | 3  |  0 |  0 | 10 | 5  | 8  | 1  | 2  |\n",
       "| 245195 | 27 | 1  | 3  |  0 |  0 |  8 | 5  | 4  | 1  | 2  |\n",
       "| 242802 | 26 | 0  | 5  | 30 | 15 |  8 | 4  | 3  | 1  | 2  |\n",
       "| 243773 | 25 | 0  | 5  | 15 | 30 |  9 | 5  | 4  | 1  | 2  |\n",
       "| 240124 | 36 | 0  | 2  |  0 |  0 | 11 | 5  | 7  | 1  | 2  |\n",
       "| 233470 | 34 | 0  | 3  |  5 | 10 | 10 | 5  | 1  | 1  | 2  |\n",
       "| 232173 | 27 | 2  | 1  |  0 |  0 | 10 | 3  | 1  | 1  | 2  |\n",
       "| 247616 | 30 | 2  | 3  |  0 |  0 | 11 | 5  | 3  | 1  | 2  |\n",
       "| 239527 | 22 | 0  | 5  | 30 | 30 | 11 | 4  | 8  | 1  | 1  |\n",
       "| 245771 | 35 | 2  | 3  |  0 |  0 | 12 | 4  | 4  | 1  | 2  |\n",
       "| 241002 | 25 | 2  | 3  |  0 |  1 | 11 | 4  | 6  | 1  | 2  |\n",
       "| 231445 | 22 | 0  | 2  | 20 |  5 |  4 | 6  | 4  | 1  | 1  |\n",
       "| 237618 | 24 | 0  | 4  | 15 | 10 | 11 | 4  | 3  | 1  | 2  |\n",
       "| 252662 | 31 | 2  | 4  |  0 | 10 | 11 | 5  | 4  | 1  | 2  |\n",
       "| 237502 | 37 | 2  | 4  |  0 |  0 | 11 | 5  | 7  | 1  | 2  |\n",
       "| 237205 | 18 | 0  | 5  | 30 | 30 |  9 | 4  | 2  | 1  | 0  |\n",
       "| 240523 | 28 | 0  | 4  |  0 | 20 | 10 | 6  | 7  | 1  | 2  |\n",
       "| 237597 | 37 | 0  | 3  |  3 |  0 |  9 | 5  | 8  | 1  | 2  |\n",
       "| 242992 | 28 | 0  | 4  |  0 |  4 | 13 | 5  | 5  | 1  | 2  |\n",
       "| 253194 | 29 | 2  | 3  |  0 |  0 | 10 | 5  | 7  | 1  | 2  |\n",
       "| 235009 | 22 | 0  | 4  |  0 | 30 | 13 | 4  | 6  | 1  | 1  |\n",
       "| 247651 | 39 | 2  | 2  |  0 |  0 | 11 | 4  | 5  | 1  | 2  |\n",
       "| 250341 | 24 | 0  | 2  |  0 |  0 | 13 | 5  | 8  | 1  | 2  |\n",
       "| 248862 | 23 | 2  | 5  |  0 |  0 |  8 | 4  | 3  | 1  | 2  |\n",
       "| 230494 | 26 | 0  | 2  |  0 |  0 |  8 | 4  | 7  | 1  | 2  |\n",
       "| 247873 | 31 | 0  | 4  |  0 |  0 |  7 | 4  | 6  | 1  | 2  |\n",
       "| 241126 | 30 | 0  | 3  | 10 | 10 |  9 | 4  | 5  | 1  | 2  |\n",
       "\n"
      ],
      "text/plain": [
       "       BMI Diabetes GenHlth MentHlth PhysHlth Age Education Income\n",
       "106390 27  2        3        0       30       12  2         2     \n",
       "41964  30  2        3        0        0        9  6         8     \n",
       "146313 20  0        1        0        1        9  6         8     \n",
       "33702  44  0        3        0        0        9  2         4     \n",
       "126055 32  0        2        0        0       10  6         8     \n",
       "120410 28  0        1        0        0       10  6         4     \n",
       "83023  29  0        2        0        0        4  6         8     \n",
       "80756  20  0        3       30        5        1  4         6     \n",
       "85374  19  0        3        0        0       13  6         8     \n",
       "199230 34  0        3        0        0        4  4         8     \n",
       "59944  23  0        2        0        0        7  4         6     \n",
       "199608 26  0        1        0        0       11  6         8     \n",
       "148452 30  0        2        0        2        7  6         8     \n",
       "164319 49  0        4       10        3        9  5         6     \n",
       "49786  22  0        2        1        0        3  5         8     \n",
       "16962  25  0        2       30        0        5  5         8     \n",
       "118447 25  0        3        0        4        8  5         6     \n",
       "229507 25  0        3        0        0        4  4         4     \n",
       "162857 30  0        3        0        0       10  4         2     \n",
       "181238 26  0        4        0        1       10  6         6     \n",
       "216904 39  0        3        0        3        7  3         7     \n",
       "229674 32  0        1        0        0        5  4         3     \n",
       "164098 30  0        3        0        2        1  4         5     \n",
       "49231  23  0        2        0        0        8  4         4     \n",
       "121137 22  0        2        0        0        8  5         8     \n",
       "68280  21  0        1        1        0        3  6         7     \n",
       "131974 23  2        1        0        0       11  6         8     \n",
       "46301  38  0        2       15        0        4  5         8     \n",
       "37000  24  0        2        2        0       10  6         8     \n",
       "124049 31  0        2        0        0        7  5         8     \n",
       "...    ... ...      ...     ...      ...      ... ...       ...   \n",
       "244683 39  2        4        0       15       11  4         7     \n",
       "240959 23  2        3        0        0       10  5         7     \n",
       "238553 33  1        2        0        0       13  5         7     \n",
       "249442 29  0        3        0        0       10  5         8     \n",
       "245195 27  1        3        0        0        8  5         4     \n",
       "242802 26  0        5       30       15        8  4         3     \n",
       "243773 25  0        5       15       30        9  5         4     \n",
       "240124 36  0        2        0        0       11  5         7     \n",
       "233470 34  0        3        5       10       10  5         1     \n",
       "232173 27  2        1        0        0       10  3         1     \n",
       "247616 30  2        3        0        0       11  5         3     \n",
       "239527 22  0        5       30       30       11  4         8     \n",
       "245771 35  2        3        0        0       12  4         4     \n",
       "241002 25  2        3        0        1       11  4         6     \n",
       "231445 22  0        2       20        5        4  6         4     \n",
       "237618 24  0        4       15       10       11  4         3     \n",
       "252662 31  2        4        0       10       11  5         4     \n",
       "237502 37  2        4        0        0       11  5         7     \n",
       "237205 18  0        5       30       30        9  4         2     \n",
       "240523 28  0        4        0       20       10  6         7     \n",
       "237597 37  0        3        3        0        9  5         8     \n",
       "242992 28  0        4        0        4       13  5         5     \n",
       "253194 29  2        3        0        0       10  5         7     \n",
       "235009 22  0        4        0       30       13  4         6     \n",
       "247651 39  2        2        0        0       11  4         5     \n",
       "250341 24  0        2        0        0       13  5         8     \n",
       "248862 23  2        5        0        0        8  4         3     \n",
       "230494 26  0        2        0        0        8  4         7     \n",
       "247873 31  0        4        0        0        7  4         6     \n",
       "241126 30  0        3       10       10        9  4         5     \n",
       "       HeartDiseaseorAttack Nbmi\n",
       "106390 0                    2   \n",
       "41964  0                    2   \n",
       "146313 0                    1   \n",
       "33702  0                    2   \n",
       "126055 0                    2   \n",
       "120410 0                    2   \n",
       "83023  0                    2   \n",
       "80756  0                    1   \n",
       "85374  0                    1   \n",
       "199230 0                    2   \n",
       "59944  0                    2   \n",
       "199608 0                    2   \n",
       "148452 0                    2   \n",
       "164319 0                    2   \n",
       "49786  0                    1   \n",
       "16962  0                    2   \n",
       "118447 0                    2   \n",
       "229507 0                    2   \n",
       "162857 0                    2   \n",
       "181238 0                    2   \n",
       "216904 0                    2   \n",
       "229674 0                    2   \n",
       "164098 0                    2   \n",
       "49231  0                    2   \n",
       "121137 0                    1   \n",
       "68280  0                    1   \n",
       "131974 0                    2   \n",
       "46301  0                    2   \n",
       "37000  0                    2   \n",
       "124049 0                    2   \n",
       "...    ...                  ... \n",
       "244683 1                    2   \n",
       "240959 1                    2   \n",
       "238553 1                    2   \n",
       "249442 1                    2   \n",
       "245195 1                    2   \n",
       "242802 1                    2   \n",
       "243773 1                    2   \n",
       "240124 1                    2   \n",
       "233470 1                    2   \n",
       "232173 1                    2   \n",
       "247616 1                    2   \n",
       "239527 1                    1   \n",
       "245771 1                    2   \n",
       "241002 1                    2   \n",
       "231445 1                    1   \n",
       "237618 1                    2   \n",
       "252662 1                    2   \n",
       "237502 1                    2   \n",
       "237205 1                    0   \n",
       "240523 1                    2   \n",
       "237597 1                    2   \n",
       "242992 1                    2   \n",
       "253194 1                    2   \n",
       "235009 1                    1   \n",
       "247651 1                    2   \n",
       "250341 1                    2   \n",
       "248862 1                    2   \n",
       "230494 1                    2   \n",
       "247873 1                    2   \n",
       "241126 1                    2   "
      ]
     },
     "metadata": {},
     "output_type": "display_data"
    },
    {
     "name": "stdout",
     "output_type": "stream",
     "text": [
      "'data.frame':\t10000 obs. of  10 variables:\n",
      " $ BMI                 : num  27 30 20 44 32 28 29 20 19 34 ...\n",
      " $ Diabetes            : num  2 2 0 0 0 0 0 0 0 0 ...\n",
      " $ GenHlth             : num  3 3 1 3 2 1 2 3 3 3 ...\n",
      " $ MentHlth            : num  0 0 0 0 0 0 0 30 0 0 ...\n",
      " $ PhysHlth            : num  30 0 1 0 0 0 0 5 0 0 ...\n",
      " $ Age                 : num  12 9 9 9 10 10 4 1 13 4 ...\n",
      " $ Education           : num  2 6 6 2 6 6 6 4 6 4 ...\n",
      " $ Income              : num  2 8 8 4 8 4 8 6 8 8 ...\n",
      " $ HeartDiseaseorAttack: num  0 0 0 0 0 0 0 0 0 0 ...\n",
      " $ Nbmi                : num  2 2 1 2 2 2 2 1 1 2 ...\n"
     ]
    }
   ],
   "source": [
    "Tar4\n",
    "str(Tar4)"
   ]
  },
  {
   "cell_type": "code",
   "execution_count": 61,
   "id": "a0d0a69a",
   "metadata": {},
   "outputs": [
    {
     "data": {
      "text/plain": [
       "   \n",
       "       0    1    2\n",
       "  0   60  686 4254\n",
       "  1   79  455 4466"
      ]
     },
     "metadata": {},
     "output_type": "display_data"
    }
   ],
   "source": [
    "# bmi 분류 \n",
    "table(Tar4$HeartDiseaseorAttack, Tar4$Nbmi)"
   ]
  },
  {
   "cell_type": "code",
   "execution_count": 62,
   "id": "c788cb9c",
   "metadata": {},
   "outputs": [
    {
     "data": {
      "text/plain": [
       "   \n",
       "       0    1    2\n",
       "  0 4309   96  595\n",
       "  1 3251  152 1597"
      ]
     },
     "metadata": {},
     "output_type": "display_data"
    }
   ],
   "source": [
    "# 당뇨병 분류 \n",
    "table(Tar4$HeartDiseaseorAttack, Tar4$Diabetes)"
   ]
  },
  {
   "cell_type": "code",
   "execution_count": 63,
   "id": "ab44cb0b",
   "metadata": {},
   "outputs": [
    {
     "data": {
      "text/plain": [
       "   \n",
       "       1    2    3    4    5\n",
       "  0 1007 1785 1492  547  169\n",
       "  1  195  883 1649 1428  845"
      ]
     },
     "metadata": {},
     "output_type": "display_data"
    }
   ],
   "source": [
    "# 건강 상태 분류 \n",
    "table(Tar4$HeartDiseaseorAttack, Tar4$GenHlth)"
   ]
  },
  {
   "cell_type": "code",
   "execution_count": 64,
   "id": "aa8c4847",
   "metadata": {},
   "outputs": [
    {
     "data": {
      "text/plain": [
       "   \n",
       "       0    1    2    3    4    5    6    7    8    9   10   11   12   13   14\n",
       "  0 3501  141  267  150   83  184   17   63    5    1  116    1    6    1   23\n",
       "  1 3298  101  196  121   58  172   25   56   14    1  153    3    3    3   28\n",
       "   \n",
       "      15   16   17   18   19   20   21   22   23   24   25   26   27   28   29\n",
       "  0  106    2    1    1    0   66    4    0    0    2   20    0    2   12    1\n",
       "  1  156    2    1    1    2  105   10    4    1    1   38    2    4    8    5\n",
       "   \n",
       "      30\n",
       "  0  224\n",
       "  1  428"
      ]
     },
     "metadata": {},
     "output_type": "display_data"
    }
   ],
   "source": [
    "# 정신 건강 분류 \n",
    "table(Tar4$HeartDiseaseorAttack, Tar4$MentHlth)"
   ]
  },
  {
   "cell_type": "code",
   "execution_count": 65,
   "id": "15a36eff",
   "metadata": {},
   "outputs": [
    {
     "data": {
      "text/plain": [
       "   \n",
       "       0    1    2    3    4    5    6    7    8    9   10   11   12   13   14\n",
       "  0 3285  232  289  141   87  133   22   78   24    5   94    0    5    1   66\n",
       "  1 2247  139  234  172  108  204   49  109   16    5  214    3   17    3   76\n",
       "   \n",
       "      15   16   17   18   19   20   21   22   23   24   25   26   27   28   29\n",
       "  0   94    3    2    5    0   71   13    0    3    2   17    2    4   12    6\n",
       "  1  184    1    3    3    1  141   22    3    2    3   56    4    3   23   12\n",
       "   \n",
       "      30\n",
       "  0  304\n",
       "  1  943"
      ]
     },
     "metadata": {},
     "output_type": "display_data"
    }
   ],
   "source": [
    "# 신체적건강 분류 \n",
    "table(Tar4$HeartDiseaseorAttack, Tar4$PhysHlth)"
   ]
  },
  {
   "cell_type": "code",
   "execution_count": 66,
   "id": "f198032f",
   "metadata": {},
   "outputs": [
    {
     "data": {
      "text/plain": [
       "   \n",
       "      1   2   3   4   5   6   7   8   9  10  11  12  13\n",
       "  0 110 154 248 309 381 406 534 605 647 601 436 287 282\n",
       "  1  10   9  31  32  75 126 314 434 719 873 847 644 886"
      ]
     },
     "metadata": {},
     "output_type": "display_data"
    }
   ],
   "source": [
    "# 나이 분류 \n",
    "table(Tar4$HeartDiseaseorAttack, Tar4$Age)"
   ]
  },
  {
   "cell_type": "code",
   "execution_count": 67,
   "id": "f3b45de2",
   "metadata": {},
   "outputs": [
    {
     "data": {
      "text/plain": [
       "   \n",
       "       1    2    3    4    5    6\n",
       "  0    1   69  198 1206 1367 2159\n",
       "  1    9  175  322 1587 1456 1451"
      ]
     },
     "metadata": {},
     "output_type": "display_data"
    }
   ],
   "source": [
    "# 교육 분류 \n",
    "table(Tar4$HeartDiseaseorAttack, Tar4$Education)"
   ]
  },
  {
   "cell_type": "code",
   "execution_count": 68,
   "id": "a293f1a8",
   "metadata": {},
   "outputs": [
    {
     "data": {
      "text/plain": [
       "   \n",
       "       1    2    3    4    5    6    7    8\n",
       "  0  210  204  279  380  497  690  851 1889\n",
       "  1  322  463  548  607  653  743  695  969"
      ]
     },
     "metadata": {},
     "output_type": "display_data"
    }
   ],
   "source": [
    "# 수입 분류 \n",
    "table(Tar4$HeartDiseaseorAttack, Tar4$Income)"
   ]
  },
  {
   "cell_type": "code",
   "execution_count": 69,
   "id": "ea7a8630",
   "metadata": {},
   "outputs": [
    {
     "data": {
      "image/png": "[encoded data removed]",
      "text/plain": [
       "Plot with title \"정신건강 분류\""
      ]
     },
     "metadata": {},
     "output_type": "display_data"
    },
    {
     "data": {
      "image/png": "[encoded data removed]",
      "text/plain": [
       "Plot with title \"교육 분류\""
      ]
     },
     "metadata": {},
     "output_type": "display_data"
    },
    {
     "data": {
      "image/png": "[encoded data removed]",
      "text/plain": [
       "Plot with title \"수입 분류\""
      ]
     },
     "metadata": {},
     "output_type": "display_data"
    }
   ],
   "source": [
    "par(mfrow=c(2,2))\n",
    "options(warn = -1)\n",
    "par(family = 'AppleGothic')\n",
    "    \n",
    "    # bmi 분류 \n",
    "    z1 <- table(Tar4$HeartDiseaseorAttack, Tar4$Nbmi)\n",
    "    barplot(z1,\n",
    "       main='bmi 분류',\n",
    "        xlab=colnames(Tar3)[10],\n",
    "        ylab='빈도수',\n",
    "        ylim=c(0,8000),\n",
    "        beside=T,\n",
    "        col = rep(c('red','blue')),\n",
    "        names=c('저체중','정상','과체중 이상'),\n",
    "    )\n",
    "\n",
    "    # 당뇨병 분류 \n",
    "    z2 <- table(Tar4$HeartDiseaseorAttack, Tar4$Diabetes)\n",
    "    barplot(z2,\n",
    "       main='당뇨병 분류',\n",
    "        xlab=colnames(Tar3)[2],\n",
    "        ylab='빈도수',\n",
    "        ylim=c(0,8000),\n",
    "        beside=T,\n",
    "        col = rep(c('red','blue')),\n",
    "        names=c('정상','당뇨 전','당뇨'),\n",
    "    )\n",
    "\n",
    "    # 건강 상태 분류 \n",
    "    z3 <- table(Tar4$HeartDiseaseorAttack, Tar4$GenHlth)\n",
    "    barplot(z3,\n",
    "       main='건강상태 분류',\n",
    "        xlab=colnames(Tar3)[3],\n",
    "        ylab='빈도수',\n",
    "        ylim=c(0,4000),\n",
    "        beside=T,\n",
    "        col = rep(c('red','blue')),\n",
    "        names=c('나쁨','조금 나쁨','정상','조금 좋음', '좋음'),\n",
    "        cex.names=0.6,\n",
    "            \n",
    "    )\n",
    "\n",
    "    # 정신건강 분류 \n",
    "    z4<-table(Tar4$HeartDiseaseorAttack, Tar4$MentHlth)\n",
    "     barplot(z4,\n",
    "       main='정신건강 분류',\n",
    "        xlab=colnames(Tar3)[4],\n",
    "        ylab='빈도수',\n",
    "        ylim=c(0,8000),\n",
    "        beside=T,\n",
    "        col = rainbow(Tar4$MentHlth),\n",
    "\n",
    "    )\n",
    "\n",
    "    \n",
    "    # 정신건강 분류 \n",
    "    z4<-table(Tar4$HeartDiseaseorAttack, Tar4$MentHlth)\n",
    "     barplot(z4,\n",
    "       main='정신건강 분류',\n",
    "        xlab=colnames(Tar3)[4],\n",
    "        ylab='빈도수',\n",
    "        ylim=c(0,8000),\n",
    "        beside=T,\n",
    "        col = rainbow(Tar4$MentHlth),\n",
    "\n",
    "    )\n",
    "\n",
    "    # 신체적건강 분류 \n",
    "   z5 <- table(Tar4$HeartDiseaseorAttack, Tar4$PhysHlth)\n",
    "     barplot(z5,\n",
    "       main='신체적건강 분류',\n",
    "        xlab=colnames(Tar3)[5],\n",
    "        ylab='빈도수',\n",
    "        ylim=c(0,8000),\n",
    "        beside=T,\n",
    "        col = rainbow(Tar4$PhysHlth),\n",
    "\n",
    "    )\n",
    "\n",
    "    # 나이 분류 \n",
    "    z6<-table(Tar4$HeartDiseaseorAttack, Tar4$Age)\n",
    "     barplot(z6,\n",
    "       main='나이 분류',\n",
    "        xlab=colnames(Tar3)[6],\n",
    "        ylab='빈도수',\n",
    "        ylim=c(0,1500),\n",
    "        beside=T,\n",
    "        col = rep(c('red','blue')),\n",
    "\n",
    "    )\n",
    "\n",
    "    # 교육 분류 \n",
    "    z7<-table(Tar4$HeartDiseaseorAttack, Tar4$Education)\n",
    "    barplot(z7,\n",
    "       main='교육 분류',\n",
    "        xlab=colnames(Tar3)[7],\n",
    "        ylab='빈도수',\n",
    "        ylim=c(0,5000),\n",
    "        beside=T,\n",
    "        col = rep(c('red','blue')),\n",
    "    )\n",
    "    # 수입 분류 \n",
    "    z8 <- table(Tar4$HeartDiseaseorAttack, Tar4$Income)\n",
    "     barplot(z8,\n",
    "       main='수입 분류',\n",
    "        xlab=colnames(Tar3)[8],\n",
    "        ylab='빈도수',\n",
    "        ylim=c(0,4000),\n",
    "        beside=T,\n",
    "        col = rep(c('red','blue')),\n",
    "    )\n",
    "    \n",
    "\n",
    "\n"
   ]
  },
  {
   "cell_type": "code",
   "execution_count": 70,
   "id": "39281f86",
   "metadata": {},
   "outputs": [
    {
     "data": {
      "text/html": [
       "<table>\n",
       "<thead><tr><th scope=col>심장질환속성</th><th scope=col>상관계수</th></tr></thead>\n",
       "<tbody>\n",
       "\t<tr><td>GenHlth          </td><td>0.41             </td></tr>\n",
       "\t<tr><td>Age              </td><td>0.4              </td></tr>\n",
       "\t<tr><td>HighBP           </td><td>0.37             </td></tr>\n",
       "\t<tr><td>HighChol         </td><td>0.31             </td></tr>\n",
       "\t<tr><td>DiffWalk         </td><td>0.3              </td></tr>\n",
       "\t<tr><td>Diabetes         </td><td>0.25             </td></tr>\n",
       "\t<tr><td>PhysHlth         </td><td>0.25             </td></tr>\n",
       "\t<tr><td>Stroke           </td><td>0.24             </td></tr>\n",
       "\t<tr><td>Smoker           </td><td>0.19             </td></tr>\n",
       "\t<tr><td>Sex              </td><td>0.15             </td></tr>\n",
       "\t<tr><td>MentHlth         </td><td>0.1              </td></tr>\n",
       "\t<tr><td>CholCheck        </td><td>0.08             </td></tr>\n",
       "\t<tr><td>BMI              </td><td>0.08             </td></tr>\n",
       "\t<tr><td>NoDocbcCost      </td><td>0.06             </td></tr>\n",
       "\t<tr><td>AnyHealthcare    </td><td>0.04             </td></tr>\n",
       "\t<tr><td>Income           </td><td>-0.23            </td></tr>\n",
       "\t<tr><td>Education        </td><td>-0.16            </td></tr>\n",
       "\t<tr><td>PhysActivity     </td><td>-0.15            </td></tr>\n",
       "\t<tr><td>Veggies          </td><td>-0.06            </td></tr>\n",
       "\t<tr><td>Fruits           </td><td>-0.05            </td></tr>\n",
       "\t<tr><td>HvyAlcoholConsump</td><td>-0.05            </td></tr>\n",
       "</tbody>\n",
       "</table>\n"
      ],
      "text/latex": [
       "\\begin{tabular}{r|ll}\n",
       " 심장질환속성 & 상관계수\\\\\n",
       "\\hline\n",
       "\t GenHlth           & 0.41             \\\\\n",
       "\t Age               & 0.4              \\\\\n",
       "\t HighBP            & 0.37             \\\\\n",
       "\t HighChol          & 0.31             \\\\\n",
       "\t DiffWalk          & 0.3              \\\\\n",
       "\t Diabetes          & 0.25             \\\\\n",
       "\t PhysHlth          & 0.25             \\\\\n",
       "\t Stroke            & 0.24             \\\\\n",
       "\t Smoker            & 0.19             \\\\\n",
       "\t Sex               & 0.15             \\\\\n",
       "\t MentHlth          & 0.1              \\\\\n",
       "\t CholCheck         & 0.08             \\\\\n",
       "\t BMI               & 0.08             \\\\\n",
       "\t NoDocbcCost       & 0.06             \\\\\n",
       "\t AnyHealthcare     & 0.04             \\\\\n",
       "\t Income            & -0.23            \\\\\n",
       "\t Education         & -0.16            \\\\\n",
       "\t PhysActivity      & -0.15            \\\\\n",
       "\t Veggies           & -0.06            \\\\\n",
       "\t Fruits            & -0.05            \\\\\n",
       "\t HvyAlcoholConsump & -0.05            \\\\\n",
       "\\end{tabular}\n"
      ],
      "text/markdown": [
       "\n",
       "| 심장질환속성 | 상관계수 |\n",
       "|---|---|\n",
       "| GenHlth           | 0.41              |\n",
       "| Age               | 0.4               |\n",
       "| HighBP            | 0.37              |\n",
       "| HighChol          | 0.31              |\n",
       "| DiffWalk          | 0.3               |\n",
       "| Diabetes          | 0.25              |\n",
       "| PhysHlth          | 0.25              |\n",
       "| Stroke            | 0.24              |\n",
       "| Smoker            | 0.19              |\n",
       "| Sex               | 0.15              |\n",
       "| MentHlth          | 0.1               |\n",
       "| CholCheck         | 0.08              |\n",
       "| BMI               | 0.08              |\n",
       "| NoDocbcCost       | 0.06              |\n",
       "| AnyHealthcare     | 0.04              |\n",
       "| Income            | -0.23             |\n",
       "| Education         | -0.16             |\n",
       "| PhysActivity      | -0.15             |\n",
       "| Veggies           | -0.06             |\n",
       "| Fruits            | -0.05             |\n",
       "| HvyAlcoholConsump | -0.05             |\n",
       "\n"
      ],
      "text/plain": [
       "   심장질환속성      상관계수\n",
       "1  GenHlth           0.41    \n",
       "2  Age               0.4     \n",
       "3  HighBP            0.37    \n",
       "4  HighChol          0.31    \n",
       "5  DiffWalk          0.3     \n",
       "6  Diabetes          0.25    \n",
       "7  PhysHlth          0.25    \n",
       "8  Stroke            0.24    \n",
       "9  Smoker            0.19    \n",
       "10 Sex               0.15    \n",
       "11 MentHlth          0.1     \n",
       "12 CholCheck         0.08    \n",
       "13 BMI               0.08    \n",
       "14 NoDocbcCost       0.06    \n",
       "15 AnyHealthcare     0.04    \n",
       "16 Income            -0.23   \n",
       "17 Education         -0.16   \n",
       "18 PhysActivity      -0.15   \n",
       "19 Veggies           -0.06   \n",
       "20 Fruits            -0.05   \n",
       "21 HvyAlcoholConsump -0.05   "
      ]
     },
     "metadata": {},
     "output_type": "display_data"
    },
    {
     "name": "stdout",
     "output_type": "stream",
     "text": [
      "'data.frame':\t10000 obs. of  22 variables:\n",
      " $ HeartDiseaseorAttack: num  0 0 0 0 0 0 0 0 0 0 ...\n",
      " $ HighBP              : num  1 1 0 1 0 0 1 0 0 1 ...\n",
      " $ HighChol            : num  0 1 0 1 0 1 0 0 1 0 ...\n",
      " $ CholCheck           : num  1 1 1 1 1 1 1 1 1 1 ...\n",
      " $ BMI                 : num  27 30 20 44 32 28 29 20 19 34 ...\n",
      " $ Smoker              : num  1 0 1 0 1 0 0 0 1 0 ...\n",
      " $ Stroke              : num  0 0 0 0 0 0 0 0 0 0 ...\n",
      " $ Diabetes            : num  2 2 0 0 0 0 0 0 0 0 ...\n",
      " $ PhysActivity        : num  0 1 1 0 1 1 1 1 1 1 ...\n",
      " $ Fruits              : num  1 1 1 0 1 0 0 1 1 1 ...\n",
      " $ Veggies             : num  1 1 1 1 1 1 0 0 1 1 ...\n",
      " $ HvyAlcoholConsump   : num  0 0 0 0 0 0 0 0 0 0 ...\n",
      " $ AnyHealthcare       : num  1 1 1 1 1 1 1 0 1 1 ...\n",
      " $ NoDocbcCost         : num  0 0 0 0 0 1 0 1 0 0 ...\n",
      " $ GenHlth             : num  3 3 1 3 2 1 2 3 3 3 ...\n",
      " $ MentHlth            : num  0 0 0 0 0 0 0 30 0 0 ...\n",
      " $ PhysHlth            : num  30 0 1 0 0 0 0 5 0 0 ...\n",
      " $ DiffWalk            : num  0 0 0 1 0 0 0 0 0 0 ...\n",
      " $ Sex                 : num  0 1 0 0 1 1 1 1 1 1 ...\n",
      " $ Age                 : num  12 9 9 9 10 10 4 1 13 4 ...\n",
      " $ Education           : num  2 6 6 2 6 6 6 4 6 4 ...\n",
      " $ Income              : num  2 8 8 4 8 4 8 6 8 8 ...\n"
     ]
    }
   ],
   "source": [
    "# 상관관계로 예측하기 \n",
    "heart_samp_cor\n",
    "str(heart_samp)"
   ]
  },
  {
   "cell_type": "code",
   "execution_count": 71,
   "id": "a4098a0a",
   "metadata": {},
   "outputs": [],
   "source": [
    "# highBp,highChol,cholCheck, bmi, smoker, physActivity,fruit, veggies, anyhealthcare, sex\n",
    "\n",
    "Target_col<-heart_samp[,c(1:6,9,10:11,13,19)]\n",
    "Target_col$HeartDiseaseorAttack <- as.factor(Target_col$HeartDiseaseorAttack)"
   ]
  },
  {
   "cell_type": "code",
   "execution_count": 72,
   "id": "57c6ca53",
   "metadata": {},
   "outputs": [],
   "source": [
    "# 5개 함수 합치기\n",
    "    library(caret)\n",
    "    library(party)\n",
    "    library(nnet)\n",
    "    library(e1071)\n",
    "    library(randomForest)\n",
    "\n",
    "indicator <- function(n){\n",
    "    result1<-c()\n",
    "    result2<-c()\n",
    "    result3<-c()\n",
    "    result4<-c()\n",
    "    result5<-c()\n",
    "    \n",
    "    for(n in 1:n) { \n",
    "        \n",
    "    set.seed(1234)\n",
    "    samp<-createDataPartition(Target_col$HeartDiseaseorAttack, p = 0.7, list = F)\n",
    "    \n",
    "    # 학습용\n",
    "    train.data <- Target_col[samp,]\n",
    "    # 검증용\n",
    "    test.data <- Target_col[-samp,]\n",
    "    # 문제와 정답 만들기\n",
    "    x <- subset(test.data, select = -HeartDiseaseorAttack)\n",
    "    y <- test.data$HeartDiseaseorAttack\n",
    "    # 인공신경망 학습시키기\n",
    "    model<-nnet(HeartDiseaseorAttack~., data = train.data, size = 3)\n",
    "    # 의사결정나무 학습시키기\n",
    "    model1 <- ctree(HeartDiseaseorAttack ~ ., data = train.data)\n",
    "    # randomForest 학습시키기\n",
    "    rf<-randomForest(HeartDiseaseorAttack~., data = train.data, mtry = 10,ntree = 100)\n",
    "    # svm 학습시키기\n",
    "    model2<-svm(HeartDiseaseorAttack~., data = train.data)\n",
    "    # 로지스틱 회귀분석 학습시키기\n",
    "    model3 <- multinom(HeartDiseaseorAttack ~ ., data=train.data)\n",
    "    \n",
    "    # 검증하기\n",
    "    pred1<-predict(model, x, type = 'raw')\n",
    "    pred2<-predict(model1, x)\n",
    "    pred3<-predict(rf, x)\n",
    "    pred4<-predict(model2, x)\n",
    "    pred5<-predict(model3, x)\n",
    "    \n",
    "    result1<-c(result1,mean(pred1 == y))\n",
    "    result2<-c(result2,mean(pred2 == y))\n",
    "    result3<-c(result3,mean(pred3 == y))\n",
    "    result4<-c(result4,mean(pred4 == y))\n",
    "    result5<-c(result5,mean(pred5 == y))\n",
    "   }\n",
    "    cat('-----------------\\n')  \n",
    "    cat('인공신경망 예측율\\n')\n",
    "    for(a in result1){\n",
    "        cat(a,'')\n",
    "    }\n",
    "    cat('       평균 예측율',mean(result1),'\\n')\n",
    "    cat('\\n-----------------\\n')\n",
    "    cat('의사결정나무 예측율\\n')\n",
    "    for(b in result2){\n",
    "        cat(b,'')\n",
    "    }    \n",
    "    cat('     평균 예측율',mean(result2),'\\n')\n",
    "    cat('\\n-----------------\\n')\n",
    "    cat('randomForest 예측율\\n')\n",
    "    for(c in result3){\n",
    "        cat(c,'')\n",
    "    }    \n",
    "    cat('     평균 예측율',mean(result3),'\\n')\n",
    "    cat('\\n-----------------\\n')\n",
    "    \n",
    "    cat('SVM 예측율\\n')\n",
    "    for(d in result4){\n",
    "        cat(d,'')\n",
    "    }    \n",
    "    cat('     평균 예측율',mean(result4),'\\n')\n",
    "    cat('\\n-----------------\\n')\n",
    "    cat('로지스틱 회귀분석 예측율\\n')\n",
    "    for(e in result5){\n",
    "        cat(e,'')\n",
    "    }    \n",
    "    cat('     평균 예측율',mean(result5),'\\n')\n",
    "    cat('\\n-----------------\\n')\n",
    "    \n",
    "    }\n"
   ]
  },
  {
   "cell_type": "code",
   "execution_count": 79,
   "id": "232babd0",
   "metadata": {
    "scrolled": true
   },
   "outputs": [
    {
     "name": "stdout",
     "output_type": "stream",
     "text": [
      "# weights:  37\n",
      "initial  value 4964.636833 \n",
      "iter  10 value 4817.982422\n",
      "iter  20 value 4538.484980\n",
      "iter  30 value 4167.940506\n",
      "iter  40 value 4097.782007\n",
      "iter  50 value 4047.410669\n",
      "iter  60 value 4024.180403\n",
      "iter  70 value 4019.621970\n",
      "iter  80 value 4016.295423\n",
      "iter  90 value 4014.770173\n",
      "iter 100 value 4014.155356\n",
      "final  value 4014.155356 \n",
      "stopped after 100 iterations\n",
      "# weights:  12 (11 variable)\n",
      "initial  value 4852.030264 \n",
      "iter  10 value 4075.870616\n",
      "final  value 4041.410725 \n",
      "converged\n",
      "# weights:  37\n",
      "initial  value 4964.636833 \n",
      "iter  10 value 4817.982422\n",
      "iter  20 value 4538.484980\n",
      "iter  30 value 4167.940506\n",
      "iter  40 value 4097.782007\n",
      "iter  50 value 4047.410669\n",
      "iter  60 value 4024.180403\n",
      "iter  70 value 4019.621970\n",
      "iter  80 value 4016.295423\n",
      "iter  90 value 4014.770173\n",
      "iter 100 value 4014.155356\n",
      "final  value 4014.155356 \n",
      "stopped after 100 iterations\n",
      "# weights:  12 (11 variable)\n",
      "initial  value 4852.030264 \n",
      "iter  10 value 4075.870616\n",
      "final  value 4041.410725 \n",
      "converged\n",
      "# weights:  37\n",
      "initial  value 4964.636833 \n",
      "iter  10 value 4817.982422\n",
      "iter  20 value 4538.484980\n",
      "iter  30 value 4167.940506\n",
      "iter  40 value 4097.782007\n",
      "iter  50 value 4047.410669\n",
      "iter  60 value 4024.180403\n",
      "iter  70 value 4019.621970\n",
      "iter  80 value 4016.295423\n",
      "iter  90 value 4014.770173\n",
      "iter 100 value 4014.155356\n",
      "final  value 4014.155356 \n",
      "stopped after 100 iterations\n",
      "# weights:  12 (11 variable)\n",
      "initial  value 4852.030264 \n",
      "iter  10 value 4075.870616\n",
      "final  value 4041.410725 \n",
      "converged\n",
      "# weights:  37\n",
      "initial  value 4964.636833 \n",
      "iter  10 value 4817.982422\n",
      "iter  20 value 4538.484980\n",
      "iter  30 value 4167.940506\n",
      "iter  40 value 4097.782007\n",
      "iter  50 value 4047.410669\n",
      "iter  60 value 4024.180403\n",
      "iter  70 value 4019.621970\n",
      "iter  80 value 4016.295423\n",
      "iter  90 value 4014.770173\n",
      "iter 100 value 4014.155356\n",
      "final  value 4014.155356 \n",
      "stopped after 100 iterations\n",
      "# weights:  12 (11 variable)\n",
      "initial  value 4852.030264 \n",
      "iter  10 value 4075.870616\n",
      "final  value 4041.410725 \n",
      "converged\n",
      "# weights:  37\n",
      "initial  value 4964.636833 \n",
      "iter  10 value 4817.982422\n",
      "iter  20 value 4538.484980\n",
      "iter  30 value 4167.940506\n",
      "iter  40 value 4097.782007\n",
      "iter  50 value 4047.410669\n",
      "iter  60 value 4024.180403\n",
      "iter  70 value 4019.621970\n",
      "iter  80 value 4016.295423\n",
      "iter  90 value 4014.770173\n",
      "iter 100 value 4014.155356\n",
      "final  value 4014.155356 \n",
      "stopped after 100 iterations\n",
      "# weights:  12 (11 variable)\n",
      "initial  value 4852.030264 \n",
      "iter  10 value 4075.870616\n",
      "final  value 4041.410725 \n",
      "converged\n",
      "-----------------\n",
      "인공신경망 예측율\n",
      "0 0 0 0 0        평균 예측율 0 \n",
      "\n",
      "-----------------\n",
      "의사결정나무 예측율\n",
      "0.7106667 0.7106667 0.7106667 0.7106667 0.7106667      평균 예측율 0.7106667 \n",
      "\n",
      "-----------------\n",
      "randomForest 예측율\n",
      "0.654 0.654 0.654 0.654 0.654      평균 예측율 0.654 \n",
      "\n",
      "-----------------\n",
      "SVM 예측율\n",
      "0.699 0.699 0.699 0.699 0.699      평균 예측율 0.699 \n",
      "\n",
      "-----------------\n",
      "로지스틱 회귀분석 예측율\n",
      "0.707 0.707 0.707 0.707 0.707      평균 예측율 0.707 \n",
      "\n",
      "-----------------\n"
     ]
    }
   ],
   "source": [
    "indicator(5)"
   ]
  },
  {
   "cell_type": "code",
   "execution_count": 104,
   "id": "62a207d0",
   "metadata": {
    "scrolled": true
   },
   "outputs": [
    {
     "data": {
      "image/png": "[encoded data removed]",
      "text/plain": [
       "Plot with title \"머신러닝 성능판단\""
      ]
     },
     "metadata": {},
     "output_type": "display_data"
    }
   ],
   "source": [
    "# 머신러닝 성능 판단\n",
    "performance<-c(71.40,71.06,65.40,69.90,70.70)\n",
    "barplot(performance,\n",
    "        main = '머신러닝 성능판단',\n",
    "        xlim=c(0,100),\n",
    "        horiz = T,\n",
    "        col = rainbow(5),\n",
    "        xlab = '예측력(%)',\n",
    ")\n",
    "legend(78,5,\n",
    "       fill = rainbow(5),\n",
    "       c('인공신경망','의사결정나무','랜덤 포레스트','서포트벡터머신','로지스틱회귀분석'),\n",
    "       cex=0.8\n",
    ")"
   ]
  },
  {
   "cell_type": "code",
   "execution_count": null,
   "id": "5cf6294a",
   "metadata": {},
   "outputs": [],
   "source": []
  },
  {
   "cell_type": "code",
   "execution_count": 79,
   "id": "343bb72a",
   "metadata": {},
   "outputs": [],
   "source": []
  },
  {
   "cell_type": "code",
   "execution_count": null,
   "id": "21eab18f",
   "metadata": {},
   "outputs": [],
   "source": []
  },
  {
   "cell_type": "code",
   "execution_count": null,
   "id": "ae79ad86",
   "metadata": {},
   "outputs": [],
   "source": []
  },
  {
   "cell_type": "code",
   "execution_count": null,
   "id": "8acbf3eb",
   "metadata": {},
   "outputs": [],
   "source": []
  },
  {
   "cell_type": "code",
   "execution_count": null,
   "id": "09397c9b",
   "metadata": {},
   "outputs": [],
   "source": []
  },
  {
   "cell_type": "code",
   "execution_count": null,
   "id": "a9f80c8d",
   "metadata": {},
   "outputs": [],
   "source": []
  },
  {
   "cell_type": "code",
   "execution_count": null,
   "id": "55ec21f2",
   "metadata": {},
   "outputs": [],
   "source": []
  },
  {
   "cell_type": "code",
   "execution_count": null,
   "id": "43f32ad2",
   "metadata": {},
   "outputs": [],
   "source": []
  },
  {
   "cell_type": "code",
   "execution_count": null,
   "id": "d8cea60f",
   "metadata": {},
   "outputs": [],
   "source": []
  },
  {
   "cell_type": "code",
   "execution_count": null,
   "id": "244d75ec",
   "metadata": {},
   "outputs": [],
   "source": []
  },
  {
   "cell_type": "code",
   "execution_count": null,
   "id": "632c69f6",
   "metadata": {},
   "outputs": [],
   "source": []
  },
  {
   "cell_type": "code",
   "execution_count": null,
   "id": "51ff49c7",
   "metadata": {},
   "outputs": [],
   "source": []
  },
  {
   "cell_type": "code",
   "execution_count": null,
   "id": "f6644a3e",
   "metadata": {},
   "outputs": [],
   "source": []
  },
  {
   "cell_type": "code",
   "execution_count": null,
   "id": "c17ec511",
   "metadata": {},
   "outputs": [],
   "source": []
  },
  {
   "cell_type": "code",
   "execution_count": null,
   "id": "48cabc70",
   "metadata": {},
   "outputs": [],
   "source": []
  },
  {
   "cell_type": "code",
   "execution_count": null,
   "id": "7f6106d1",
   "metadata": {},
   "outputs": [],
   "source": []
  },
  {
   "cell_type": "code",
   "execution_count": null,
   "id": "1058271f",
   "metadata": {},
   "outputs": [],
   "source": []
  },
  {
   "cell_type": "code",
   "execution_count": null,
   "id": "e50bff63",
   "metadata": {},
   "outputs": [],
   "source": []
  },
  {
   "cell_type": "code",
   "execution_count": null,
   "id": "00df5e5d",
   "metadata": {},
   "outputs": [],
   "source": []
  },
  {
   "cell_type": "code",
   "execution_count": null,
   "id": "18f26d95",
   "metadata": {},
   "outputs": [],
   "source": []
  },
  {
   "cell_type": "code",
   "execution_count": null,
   "id": "83fc9766",
   "metadata": {},
   "outputs": [],
   "source": []
  }
 ],
 "metadata": {
  "kernelspec": {
   "display_name": "R",
   "language": "R",
   "name": "ir"
  },
  "language_info": {
   "codemirror_mode": "r",
   "file_extension": ".r",
   "mimetype": "text/x-r-source",
   "name": "R",
   "pygments_lexer": "r",
   "version": "3.6.1"
  }
 },
 "nbformat": 4,
 "nbformat_minor": 5
}
